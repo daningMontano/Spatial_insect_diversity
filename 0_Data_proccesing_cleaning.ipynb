{
 "cells": [
  {
   "cell_type": "markdown",
   "metadata": {},
   "source": [
    "# **Spatial Patterns of insect Diversity in continetal Ecuador**"
   ]
  },
  {
   "cell_type": "markdown",
   "metadata": {},
   "source": [
    "### **Data processing and cleaning**"
   ]
  },
  {
   "cell_type": "markdown",
   "metadata": {},
   "source": [
    "Author: Daning Montaño - Ocampo"
   ]
  },
  {
   "cell_type": "markdown",
   "metadata": {},
   "source": [
    "In this first part of the process, the biodiversity records are cleaned up to Genus Level"
   ]
  },
  {
   "cell_type": "markdown",
   "metadata": {},
   "source": [
    "# **1. Packages and libraries**"
   ]
  },
  {
   "cell_type": "code",
   "execution_count": 3,
   "metadata": {},
   "outputs": [
    {
     "name": "stdout",
     "output_type": "stream",
     "text": [
      "\n",
      "Attaching package: ‘dplyr’\n",
      "\n",
      "The following objects are masked from ‘package:stats’:\n",
      "\n",
      "    filter, lag\n",
      "\n",
      "The following objects are masked from ‘package:base’:\n",
      "\n",
      "    intersect, setdiff, setequal, union\n",
      "\n"
     ]
    },
    {
     "name": "stderr",
     "output_type": "stream",
     "text": [
      "Warning message:\n",
      "package ‘dplyr’ was built under R version 4.3.3 \n",
      "Warning message:\n",
      "package ‘bdc’ was built under R version 4.3.3 \n"
     ]
    },
    {
     "name": "stdout",
     "output_type": "stream",
     "text": [
      "\n",
      "Attaching package: ‘lubridate’\n",
      "\n",
      "The following objects are masked from ‘package:base’:\n",
      "\n",
      "    date, intersect, setdiff, union\n",
      "\n"
     ]
    },
    {
     "name": "stderr",
     "output_type": "stream",
     "text": [
      "Warning message:\n",
      "package ‘lubridate’ was built under R version 4.3.3 \n",
      "Warning message:\n",
      "package ‘stringr’ was built under R version 4.3.3 \n"
     ]
    },
    {
     "name": "stdout",
     "output_type": "stream",
     "text": [
      "Loading required package: foreach\n",
      "Loading required package: iterators\n",
      "Loading required package: parallel\n"
     ]
    },
    {
     "name": "stderr",
     "output_type": "stream",
     "text": [
      "Warning message:\n",
      "package ‘doParallel’ was built under R version 4.3.3 \n"
     ]
    },
    {
     "name": "stdout",
     "output_type": "stream",
     "text": [
      "\n",
      "Attaching package: ‘purrr’\n",
      "\n",
      "The following objects are masked from ‘package:foreach’:\n",
      "\n",
      "    accumulate, when\n",
      "\n"
     ]
    }
   ],
   "source": [
    "library(dplyr)\n",
    "library(bdc) ## data cleaning\n",
    "library(lubridate)\n",
    "library(stringr)\n",
    "library(doParallel)\n",
    "library(CoordinateCleaner)\n",
    "library(purrr)"
   ]
  },
  {
   "cell_type": "markdown",
   "metadata": {},
   "source": [
    "# **2. Load and homogenize Data**"
   ]
  },
  {
   "cell_type": "markdown",
   "metadata": {},
   "source": [
    "We used data from:\n",
    "- Global Biodiversity Information Facility (GBIF)\n",
    "- PUCE - museum\n",
    "- iDigBio\n",
    "- Base nacional de datos de biodiversidad (BNDB)"
   ]
  },
  {
   "cell_type": "markdown",
   "metadata": {},
   "source": [
    "To homogenize and clean the data from different databases we used \"bdc\" package. "
   ]
  },
  {
   "cell_type": "markdown",
   "metadata": {},
   "source": [
    "Metadata file contains the information of the different columns names of the databaases and assing a unique name in a single database."
   ]
  },
  {
   "cell_type": "code",
   "execution_count": 4,
   "metadata": {},
   "outputs": [],
   "source": [
    "metadata <- readr::read_delim(\"Data/Records/metadata.csv\", delim = \";\",show_col_types = FALSE)\n",
    "\n"
   ]
  },
  {
   "cell_type": "markdown",
   "metadata": {},
   "source": [
    "Load the data using metadata file parameters"
   ]
  },
  {
   "cell_type": "code",
   "execution_count": 5,
   "metadata": {},
   "outputs": [
    {
     "name": "stdout",
     "output_type": "stream",
     "text": [
      "Standardizing IDIGBIO file\n",
      "Standardizing BNDB file\n",
      "Standardizing GBIF file\n",
      "Standardizing PUCE file\n",
      "C:/PROYECTOS/Spatial_patterns_insects/CODIGOS/Output/Intermediate/00_merged_database.csv was created\n"
     ]
    },
    {
     "name": "stderr",
     "output_type": "stream",
     "text": [
      "Warning messages:\n",
      "1: \u001b[1m\u001b[22mOne or more parsing issues, call `problems()` on your data frame for details, e.g.:\n",
      "  dat <- vroom(...)\n",
      "  problems(dat) \n",
      "2: \u001b[1m\u001b[22mOne or more parsing issues, call `problems()` on your data frame for details, e.g.:\n",
      "  dat <- vroom(...)\n",
      "  problems(dat) \n"
     ]
    }
   ],
   "source": [
    "database<-\n",
    "  bdc_standardize_datasets(metadata = metadata,\n",
    "                           format = \"csv\",\n",
    "                           overwrite = T,\n",
    "                           save_database = T)\n",
    "\n",
    "\n"
   ]
  },
  {
   "cell_type": "markdown",
   "metadata": {},
   "source": [
    "Create a new column with the name of the data source"
   ]
  },
  {
   "cell_type": "code",
   "execution_count": 6,
   "metadata": {},
   "outputs": [
    {
     "data": {
      "text/plain": [
       "[1] \"BNDB\"    \"GBIF\"    \"IDIGBIO\" \"PUCE\"   "
      ]
     },
     "execution_count": null,
     "metadata": {},
     "output_type": "execute_result"
    }
   ],
   "source": [
    "\n",
    "database$database_name =sub(\"_.*\", \"\", database$database_id)\n",
    "unique(database$database_name)"
   ]
  },
  {
   "cell_type": "markdown",
   "metadata": {},
   "source": [
    "Since the Year variable is not created properly in the PUCE dataset, we use verbatimEventDate to create the values in Year only for the PUCE dataset."
   ]
  },
  {
   "cell_type": "code",
   "execution_count": 7,
   "metadata": {},
   "outputs": [],
   "source": [
    "idx <- str_trim(database$database_name) == \"PUCE\"\n",
    "database$year[idx] <- as.integer(\n",
    "  lubridate::year(lubridate::ymd_hms(as.character(database$verbatimEventDate[idx]),\n",
    "                                     tz = \"UTC\", quiet = TRUE))\n",
    ")"
   ]
  },
  {
   "cell_type": "markdown",
   "metadata": {},
   "source": [
    "Inicial dimension of the dataset"
   ]
  },
  {
   "cell_type": "code",
   "execution_count": 8,
   "metadata": {},
   "outputs": [
    {
     "data": {
      "text/plain": [
       "\u001b[38;5;246m# A tibble: 4 × 3\u001b[39m\n",
       "  database_name      n  prop\n",
       "  \u001b[3m\u001b[38;5;246m<chr>\u001b[39m\u001b[23m          \u001b[3m\u001b[38;5;246m<int>\u001b[39m\u001b[23m \u001b[3m\u001b[38;5;246m<dbl>\u001b[39m\u001b[23m\n",
       "\u001b[38;5;250m1\u001b[39m BNDB           \u001b[4m1\u001b[24m\u001b[4m1\u001b[24m342  2.80\n",
       "\u001b[38;5;250m2\u001b[39m GBIF          \u001b[4m3\u001b[24m\u001b[4m0\u001b[24m\u001b[4m6\u001b[24m290 75.7 \n",
       "\u001b[38;5;250m3\u001b[39m IDIGBIO        \u001b[4m7\u001b[24m\u001b[4m0\u001b[24m236 17.4 \n",
       "\u001b[38;5;250m4\u001b[39m PUCE           \u001b[4m1\u001b[24m\u001b[4m6\u001b[24m735  4.14"
      ]
     },
     "execution_count": null,
     "metadata": {},
     "output_type": "execute_result"
    }
   ],
   "source": [
    "dimension = database %>%\n",
    "  group_by(database_name)%>%\n",
    "  count()%>%\n",
    "  ungroup()%>%\n",
    "  mutate(prop = (n/sum(n))*100)\n",
    "\n",
    "dimension"
   ]
  },
  {
   "cell_type": "code",
   "execution_count": 9,
   "metadata": {},
   "outputs": [
    {
     "data": {
      "text/plain": [
       "[1] 404603"
      ]
     },
     "execution_count": null,
     "metadata": {},
     "output_type": "execute_result"
    }
   ],
   "source": [
    "sum(dimension$n)"
   ]
  },
  {
   "cell_type": "markdown",
   "metadata": {},
   "source": [
    "# **3. Cleaning**"
   ]
  },
  {
   "cell_type": "markdown",
   "metadata": {},
   "source": [
    "## 3.1. Clean repeated ocurrendIDs"
   ]
  },
  {
   "cell_type": "code",
   "execution_count": 10,
   "metadata": {},
   "outputs": [],
   "source": [
    "database_1 = database %>%\n",
    "  distinct(occurrenceID, .keep_all = TRUE)\n"
   ]
  },
  {
   "cell_type": "code",
   "execution_count": 11,
   "metadata": {},
   "outputs": [
    {
     "data": {
      "text/plain": [
       "\u001b[38;5;246m# A tibble: 397,146 × 20\u001b[39m\n",
       "   database_id TaxonRank class   family     genus scientificName decimalLatitude decimalLongitude occurrenceID basisOfRecord verbatimEventDate country\n",
       "   \u001b[3m\u001b[38;5;246m<chr>\u001b[39m\u001b[23m       \u001b[3m\u001b[38;5;246m<chr>\u001b[39m\u001b[23m     \u001b[3m\u001b[38;5;246m<chr>\u001b[39m\u001b[23m   \u001b[3m\u001b[38;5;246m<chr>\u001b[39m\u001b[23m      \u001b[3m\u001b[38;5;246m<chr>\u001b[39m\u001b[23m \u001b[3m\u001b[38;5;246m<chr>\u001b[39m\u001b[23m          \u001b[3m\u001b[38;5;246m<chr>\u001b[39m\u001b[23m           \u001b[3m\u001b[38;5;246m<chr>\u001b[39m\u001b[23m            \u001b[3m\u001b[38;5;246m<chr>\u001b[39m\u001b[23m        \u001b[3m\u001b[38;5;246m<chr>\u001b[39m\u001b[23m         \u001b[3m\u001b[38;5;246m<chr>\u001b[39m\u001b[23m             \u001b[3m\u001b[38;5;246m<chr>\u001b[39m\u001b[23m  \n",
       "\u001b[38;5;250m 1\u001b[39m BNDB_1      Genus     Insecta COLUBRIDAE Ninia Ninia          0.99508         -78.21735        25b0d36c-30… \u001b[38;5;246m\"\u001b[39mEsp\\xe9cime… 2021-08-05        Ecuador\n",
       "\u001b[38;5;250m 2\u001b[39m BNDB_2      Species   Insecta COLUBRIDAE Ninia Ninia atrata   -0.036806       -78.765028       d2414fec-75… \u001b[38;5;246m\"\u001b[39mEsp\\xe9cime… 2017-04-17        Ecuador\n",
       "\u001b[38;5;250m 3\u001b[39m BNDB_3      Species   Insecta COLUBRIDAE Ninia Ninia atrata   -0.069194       -78.761278       3ea86160-21… \u001b[38;5;246m\"\u001b[39mEsp\\xe9cime… 2017-04-17        Ecuador\n",
       "\u001b[38;5;250m 4\u001b[39m BNDB_4      Species   Insecta COLUBRIDAE Ninia Ninia atrata   -0.033056       -78.755          de08a11c-8e… \u001b[38;5;246m\"\u001b[39mEsp\\xe9cime… 2017-04-17        Ecuador\n",
       "\u001b[38;5;250m 5\u001b[39m BNDB_5      Species   Insecta COLUBRIDAE Ninia Ninia atrata   -3.579464169    -79.86111617     687d5977-92… \u001b[38;5;246m\"\u001b[39mEsp\\xe9cime… 2018-11-09        Ecuador\n",
       "\u001b[38;5;250m 6\u001b[39m BNDB_6      Species   Insecta COLUBRIDAE Ninia Ninia atrata   0.866671        -79.650001       e76d86ba-c5… \u001b[38;5;246m\"\u001b[39mEsp\\xe9cime… \u001b[31mNA\u001b[39m                Ecuador\n",
       "\u001b[38;5;250m 7\u001b[39m BNDB_7      Species   Insecta COLUBRIDAE Ninia Ninia atrata   -3.645419       -79.763469       91da9f1e-2c… \u001b[38;5;246m\"\u001b[39mEsp\\xe9cime… \u001b[31mNA\u001b[39m                Ecuador\n",
       "\u001b[38;5;250m 8\u001b[39m BNDB_8      Species   Insecta COLUBRIDAE Ninia Ninia atrata   0.696947        -80.018614       4cfa9151-95… \u001b[38;5;246m\"\u001b[39mEsp\\xe9cime… 2004-03-17        Ecuador\n",
       "\u001b[38;5;250m 9\u001b[39m BNDB_9      Species   Insecta COLUBRIDAE Ninia Ninia atrata   -3.645419       -79.763469       5f30bb6c-12… \u001b[38;5;246m\"\u001b[39mEsp\\xe9cime… \u001b[31mNA\u001b[39m                Ecuador\n",
       "\u001b[38;5;250m10\u001b[39m BNDB_10     Species   Insecta COLUBRIDAE Ninia Ninia atrata   -3.645419       -79.763469       c0422dee-66… \u001b[38;5;246m\"\u001b[39mEsp\\xe9cime… \u001b[31mNA\u001b[39m                Ecuador\n",
       "\u001b[38;5;246m# ℹ 397,136 more rows\u001b[39m\n",
       "\u001b[38;5;246m# ℹ 8 more variables: stateProvince <chr>, locality <chr>, identifiedBy <chr>, coordinateUncertaintyInMeters <chr>, recordedBy <chr>, year <chr>,\u001b[39m\n",
       "\u001b[38;5;246m#   institutionCode <chr>, database_name <chr>\u001b[39m\n",
       "\u001b[38;5;246m# ℹ Use `print(n = ...)` to see more rows\u001b[39m"
      ]
     },
     "execution_count": null,
     "metadata": {},
     "output_type": "execute_result"
    }
   ],
   "source": [
    "database_1"
   ]
  },
  {
   "cell_type": "code",
   "execution_count": 12,
   "metadata": {},
   "outputs": [
    {
     "data": {
      "text/plain": [
       "\u001b[38;5;246m# A tibble: 4 × 3\u001b[39m\n",
       "  database_name      n  prop\n",
       "  \u001b[3m\u001b[38;5;246m<chr>\u001b[39m\u001b[23m          \u001b[3m\u001b[38;5;246m<int>\u001b[39m\u001b[23m \u001b[3m\u001b[38;5;246m<dbl>\u001b[39m\u001b[23m\n",
       "\u001b[38;5;250m1\u001b[39m BNDB           \u001b[4m1\u001b[24m\u001b[4m1\u001b[24m342  2.86\n",
       "\u001b[38;5;250m2\u001b[39m GBIF          \u001b[4m2\u001b[24m\u001b[4m9\u001b[24m\u001b[4m8\u001b[24m838 75.2 \n",
       "\u001b[38;5;250m3\u001b[39m IDIGBIO        \u001b[4m7\u001b[24m\u001b[4m0\u001b[24m231 17.7 \n",
       "\u001b[38;5;250m4\u001b[39m PUCE           \u001b[4m1\u001b[24m\u001b[4m6\u001b[24m735  4.21"
      ]
     },
     "execution_count": null,
     "metadata": {},
     "output_type": "execute_result"
    }
   ],
   "source": [
    "dimension_1= database_1 %>%\n",
    "  group_by(database_name)%>%\n",
    "  count()%>%\n",
    "  ungroup()%>%\n",
    "  mutate(prop = (n/sum(n))*100)\n",
    "\n",
    "dimension_1"
   ]
  },
  {
   "cell_type": "code",
   "execution_count": 13,
   "metadata": {},
   "outputs": [
    {
     "data": {
      "text/plain": [
       "[1] 397146"
      ]
     },
     "execution_count": null,
     "metadata": {},
     "output_type": "execute_result"
    }
   ],
   "source": [
    "sum(dimension_1$n)"
   ]
  },
  {
   "cell_type": "markdown",
   "metadata": {},
   "source": [
    "## 3.2. Select only species level data"
   ]
  },
  {
   "cell_type": "markdown",
   "metadata": {},
   "source": [
    "We only keeped data from Genus level, we filter using all the ways of species could be written.\n",
    "NA values ara manteined despite the fact that they comes from BNDN data, wich does not have Taxon rank information, for this we delete using NA in taxon Name"
   ]
  },
  {
   "cell_type": "code",
   "execution_count": 14,
   "metadata": {},
   "outputs": [
    {
     "data": {
      "text/plain": [
       " [1] \"Genus\"       \"Species\"     \"Family\"      \"Order\"       \"Subgenus\"    \"Suborder\"    \"SPECIES\"     \"GENUS\"       \"FAMILY\"      \"SUBSPECIES\" \n",
       "[11] \"ORDER\"       \"UNRANKED\"    \"CLASS\"       NA            \"Subfamily\"   \"order\"       \"family\"      \"tribe\"       \"genus\"       \"species\"    \n",
       "[21] \"subfamily\"   \"Subspec\"     \"Tribe\"       \"class\"       \"Class\"       \"Subspecies\"  \"var.\"        \"subspecies\"  \"superorder\"  \"superfamily\"\n",
       "[31] \"subgenus\"    \"form\"       "
      ]
     },
     "execution_count": null,
     "metadata": {},
     "output_type": "execute_result"
    }
   ],
   "source": [
    "unique(database_1$TaxonRank)"
   ]
  },
  {
   "cell_type": "code",
   "execution_count": 15,
   "metadata": {},
   "outputs": [
    {
     "data": {
      "text/plain": [
       "\u001b[38;5;246m# A tibble: 265,904 × 20\u001b[39m\n",
       "   database_id TaxonRank class   family     genus scientificName decimalLatitude decimalLongitude occurrenceID basisOfRecord verbatimEventDate country\n",
       "   \u001b[3m\u001b[38;5;246m<chr>\u001b[39m\u001b[23m       \u001b[3m\u001b[38;5;246m<chr>\u001b[39m\u001b[23m     \u001b[3m\u001b[38;5;246m<chr>\u001b[39m\u001b[23m   \u001b[3m\u001b[38;5;246m<chr>\u001b[39m\u001b[23m      \u001b[3m\u001b[38;5;246m<chr>\u001b[39m\u001b[23m \u001b[3m\u001b[38;5;246m<chr>\u001b[39m\u001b[23m          \u001b[3m\u001b[38;5;246m<chr>\u001b[39m\u001b[23m           \u001b[3m\u001b[38;5;246m<chr>\u001b[39m\u001b[23m            \u001b[3m\u001b[38;5;246m<chr>\u001b[39m\u001b[23m        \u001b[3m\u001b[38;5;246m<chr>\u001b[39m\u001b[23m         \u001b[3m\u001b[38;5;246m<chr>\u001b[39m\u001b[23m             \u001b[3m\u001b[38;5;246m<chr>\u001b[39m\u001b[23m  \n",
       "\u001b[38;5;250m 1\u001b[39m BNDB_1      Genus     Insecta COLUBRIDAE Ninia Ninia          0.99508         -78.21735        25b0d36c-30… \u001b[38;5;246m\"\u001b[39mEsp\\xe9cime… 2021-08-05        Ecuador\n",
       "\u001b[38;5;250m 2\u001b[39m BNDB_2      Species   Insecta COLUBRIDAE Ninia Ninia atrata   -0.036806       -78.765028       d2414fec-75… \u001b[38;5;246m\"\u001b[39mEsp\\xe9cime… 2017-04-17        Ecuador\n",
       "\u001b[38;5;250m 3\u001b[39m BNDB_3      Species   Insecta COLUBRIDAE Ninia Ninia atrata   -0.069194       -78.761278       3ea86160-21… \u001b[38;5;246m\"\u001b[39mEsp\\xe9cime… 2017-04-17        Ecuador\n",
       "\u001b[38;5;250m 4\u001b[39m BNDB_4      Species   Insecta COLUBRIDAE Ninia Ninia atrata   -0.033056       -78.755          de08a11c-8e… \u001b[38;5;246m\"\u001b[39mEsp\\xe9cime… 2017-04-17        Ecuador\n",
       "\u001b[38;5;250m 5\u001b[39m BNDB_5      Species   Insecta COLUBRIDAE Ninia Ninia atrata   -3.579464169    -79.86111617     687d5977-92… \u001b[38;5;246m\"\u001b[39mEsp\\xe9cime… 2018-11-09        Ecuador\n",
       "\u001b[38;5;250m 6\u001b[39m BNDB_6      Species   Insecta COLUBRIDAE Ninia Ninia atrata   0.866671        -79.650001       e76d86ba-c5… \u001b[38;5;246m\"\u001b[39mEsp\\xe9cime… \u001b[31mNA\u001b[39m                Ecuador\n",
       "\u001b[38;5;250m 7\u001b[39m BNDB_7      Species   Insecta COLUBRIDAE Ninia Ninia atrata   -3.645419       -79.763469       91da9f1e-2c… \u001b[38;5;246m\"\u001b[39mEsp\\xe9cime… \u001b[31mNA\u001b[39m                Ecuador\n",
       "\u001b[38;5;250m 8\u001b[39m BNDB_8      Species   Insecta COLUBRIDAE Ninia Ninia atrata   0.696947        -80.018614       4cfa9151-95… \u001b[38;5;246m\"\u001b[39mEsp\\xe9cime… 2004-03-17        Ecuador\n",
       "\u001b[38;5;250m 9\u001b[39m BNDB_9      Species   Insecta COLUBRIDAE Ninia Ninia atrata   -3.645419       -79.763469       5f30bb6c-12… \u001b[38;5;246m\"\u001b[39mEsp\\xe9cime… \u001b[31mNA\u001b[39m                Ecuador\n",
       "\u001b[38;5;250m10\u001b[39m BNDB_10     Species   Insecta COLUBRIDAE Ninia Ninia atrata   -3.645419       -79.763469       c0422dee-66… \u001b[38;5;246m\"\u001b[39mEsp\\xe9cime… \u001b[31mNA\u001b[39m                Ecuador\n",
       "\u001b[38;5;246m# ℹ 265,894 more rows\u001b[39m\n",
       "\u001b[38;5;246m# ℹ 8 more variables: stateProvince <chr>, locality <chr>, identifiedBy <chr>, coordinateUncertaintyInMeters <chr>, recordedBy <chr>, year <chr>,\u001b[39m\n",
       "\u001b[38;5;246m#   institutionCode <chr>, database_name <chr>\u001b[39m\n",
       "\u001b[38;5;246m# ℹ Use `print(n = ...)` to see more rows\u001b[39m"
      ]
     },
     "execution_count": null,
     "metadata": {},
     "output_type": "execute_result"
    }
   ],
   "source": [
    "database_2 = database_1 %>%\n",
    "  filter(TaxonRank %in% c( \"Species\",\"SPECIES\" ,  \"SUBSPECIES\", \"Subspecies\", \"species\", \"subspecies\", \"Species group\", \"Subspec\",\n",
    "          \"Genus\" , \"Subgenus\", \"GENUS\", \"genus\", \"var.\", \"subgenus\", NA))  %>%\n",
    "  filter(!is.na(scientificName ))%>%\n",
    "  filter(class==\"Insecta\")\n",
    "database_2"
   ]
  },
  {
   "cell_type": "code",
   "execution_count": 16,
   "metadata": {},
   "outputs": [
    {
     "data": {
      "text/plain": [
       "\u001b[38;5;246m# A tibble: 4 × 3\u001b[39m\n",
       "  database_name      n  prop\n",
       "  \u001b[3m\u001b[38;5;246m<chr>\u001b[39m\u001b[23m          \u001b[3m\u001b[38;5;246m<int>\u001b[39m\u001b[23m \u001b[3m\u001b[38;5;246m<dbl>\u001b[39m\u001b[23m\n",
       "\u001b[38;5;250m1\u001b[39m BNDB            \u001b[4m8\u001b[24m964  3.37\n",
       "\u001b[38;5;250m2\u001b[39m GBIF          \u001b[4m1\u001b[24m\u001b[4m9\u001b[24m\u001b[4m0\u001b[24m854 71.8 \n",
       "\u001b[38;5;250m3\u001b[39m IDIGBIO        \u001b[4m4\u001b[24m\u001b[4m9\u001b[24m351 18.6 \n",
       "\u001b[38;5;250m4\u001b[39m PUCE           \u001b[4m1\u001b[24m\u001b[4m6\u001b[24m735  6.29"
      ]
     },
     "execution_count": null,
     "metadata": {},
     "output_type": "execute_result"
    }
   ],
   "source": [
    "dimension_2 = database_2 %>%\n",
    "  group_by(database_name)%>%\n",
    "  count()%>%\n",
    "  ungroup()%>%\n",
    "  mutate(prop = (n/sum(n))*100)\n",
    "\n",
    "dimension_2"
   ]
  },
  {
   "cell_type": "code",
   "execution_count": 17,
   "metadata": {},
   "outputs": [
    {
     "data": {
      "text/plain": [
       "[1] 265904"
      ]
     },
     "execution_count": null,
     "metadata": {},
     "output_type": "execute_result"
    }
   ],
   "source": [
    "sum(dimension_2$n)"
   ]
  },
  {
   "cell_type": "markdown",
   "metadata": {},
   "source": [
    "## 3.4 Filter date (1970 - 2024)"
   ]
  },
  {
   "cell_type": "markdown",
   "metadata": {},
   "source": [
    "Exploration of year variable"
   ]
  },
  {
   "cell_type": "code",
   "execution_count": 18,
   "metadata": {},
   "outputs": [
    {
     "data": {
      "image/png": "[encoded data removed]"
     },
     "metadata": {},
     "output_type": "display_data"
    }
   ],
   "source": [
    "database_2$year = as.numeric(database_2$year)\n",
    "hist(database_2$year)\n"
   ]
  },
  {
   "cell_type": "markdown",
   "metadata": {},
   "source": [
    "Filtering 1970 - 2024"
   ]
  },
  {
   "cell_type": "code",
   "execution_count": 19,
   "metadata": {},
   "outputs": [
    {
     "data": {
      "text/plain": [
       "[1] 0"
      ]
     },
     "execution_count": null,
     "metadata": {},
     "output_type": "execute_result"
    }
   ],
   "source": [
    "min(na.omit(database_2$year))"
   ]
  },
  {
   "cell_type": "code",
   "execution_count": 20,
   "metadata": {},
   "outputs": [
    {
     "data": {
      "text/plain": [
       "[1] 2024"
      ]
     },
     "execution_count": null,
     "metadata": {},
     "output_type": "execute_result"
    }
   ],
   "source": [
    "max(na.omit(database_2$year))"
   ]
  },
  {
   "cell_type": "code",
   "execution_count": 21,
   "metadata": {},
   "outputs": [],
   "source": [
    "database_3 = database_2 %>%\n",
    "  filter(!is.na(year)) %>%\n",
    "  filter(year >= 1970) %>%\n",
    "  filter(year <= 2024) "
   ]
  },
  {
   "cell_type": "code",
   "execution_count": 22,
   "metadata": {},
   "outputs": [
    {
     "data": {
      "text/plain": [
       "\u001b[38;5;246m# A tibble: 240,554 × 20\u001b[39m\n",
       "   database_id TaxonRank class   family     genus scientificName decimalLatitude decimalLongitude occurrenceID basisOfRecord verbatimEventDate country\n",
       "   \u001b[3m\u001b[38;5;246m<chr>\u001b[39m\u001b[23m       \u001b[3m\u001b[38;5;246m<chr>\u001b[39m\u001b[23m     \u001b[3m\u001b[38;5;246m<chr>\u001b[39m\u001b[23m   \u001b[3m\u001b[38;5;246m<chr>\u001b[39m\u001b[23m      \u001b[3m\u001b[38;5;246m<chr>\u001b[39m\u001b[23m \u001b[3m\u001b[38;5;246m<chr>\u001b[39m\u001b[23m          \u001b[3m\u001b[38;5;246m<chr>\u001b[39m\u001b[23m           \u001b[3m\u001b[38;5;246m<chr>\u001b[39m\u001b[23m            \u001b[3m\u001b[38;5;246m<chr>\u001b[39m\u001b[23m        \u001b[3m\u001b[38;5;246m<chr>\u001b[39m\u001b[23m         \u001b[3m\u001b[38;5;246m<chr>\u001b[39m\u001b[23m             \u001b[3m\u001b[38;5;246m<chr>\u001b[39m\u001b[23m  \n",
       "\u001b[38;5;250m 1\u001b[39m BNDB_1      Genus     Insecta COLUBRIDAE Ninia Ninia          0.99508         -78.21735        25b0d36c-30… \u001b[38;5;246m\"\u001b[39mEsp\\xe9cime… 2021-08-05        Ecuador\n",
       "\u001b[38;5;250m 2\u001b[39m BNDB_2      Species   Insecta COLUBRIDAE Ninia Ninia atrata   -0.036806       -78.765028       d2414fec-75… \u001b[38;5;246m\"\u001b[39mEsp\\xe9cime… 2017-04-17        Ecuador\n",
       "\u001b[38;5;250m 3\u001b[39m BNDB_3      Species   Insecta COLUBRIDAE Ninia Ninia atrata   -0.069194       -78.761278       3ea86160-21… \u001b[38;5;246m\"\u001b[39mEsp\\xe9cime… 2017-04-17        Ecuador\n",
       "\u001b[38;5;250m 4\u001b[39m BNDB_4      Species   Insecta COLUBRIDAE Ninia Ninia atrata   -0.033056       -78.755          de08a11c-8e… \u001b[38;5;246m\"\u001b[39mEsp\\xe9cime… 2017-04-17        Ecuador\n",
       "\u001b[38;5;250m 5\u001b[39m BNDB_5      Species   Insecta COLUBRIDAE Ninia Ninia atrata   -3.579464169    -79.86111617     687d5977-92… \u001b[38;5;246m\"\u001b[39mEsp\\xe9cime… 2018-11-09        Ecuador\n",
       "\u001b[38;5;250m 6\u001b[39m BNDB_8      Species   Insecta COLUBRIDAE Ninia Ninia atrata   0.696947        -80.018614       4cfa9151-95… \u001b[38;5;246m\"\u001b[39mEsp\\xe9cime… 2004-03-17        Ecuador\n",
       "\u001b[38;5;250m 7\u001b[39m BNDB_16     Species   Insecta COLUBRIDAE Ninia Ninia atrata   -0.388433       -79.371417       6cb29b1b-63… \u001b[38;5;246m\"\u001b[39mEsp\\xe9cime… 1987-10-01        Ecuador\n",
       "\u001b[38;5;250m 8\u001b[39m BNDB_18     Species   Insecta COLUBRIDAE Ninia Ninia atrata   1.185869        -78.500602       aa4e9367-45… \u001b[38;5;246m\"\u001b[39mEsp\\xe9cime… 2009-09-01        Ecuador\n",
       "\u001b[38;5;250m 9\u001b[39m BNDB_19     Species   Insecta COLUBRIDAE Ninia Ninia hudsoni  -0.11335        -77.441248       6608a50e-25… \u001b[38;5;246m\"\u001b[39mEsp\\xe9cime… 2013-03-14        Ecuador\n",
       "\u001b[38;5;250m10\u001b[39m BNDB_23     Genus     Insecta Coenagrio… Acan… Acanthagrion   -3.7562         -79.8459         690f1bb9-a9… \u001b[38;5;246m\"\u001b[39mEsp\\xe9cime… 2015-10-22        Ecuador\n",
       "\u001b[38;5;246m# ℹ 240,544 more rows\u001b[39m\n",
       "\u001b[38;5;246m# ℹ 8 more variables: stateProvince <chr>, locality <chr>, identifiedBy <chr>, coordinateUncertaintyInMeters <chr>, recordedBy <chr>, year <dbl>,\u001b[39m\n",
       "\u001b[38;5;246m#   institutionCode <chr>, database_name <chr>\u001b[39m\n",
       "\u001b[38;5;246m# ℹ Use `print(n = ...)` to see more rows\u001b[39m"
      ]
     },
     "execution_count": null,
     "metadata": {},
     "output_type": "execute_result"
    }
   ],
   "source": [
    "database_3"
   ]
  },
  {
   "cell_type": "code",
   "execution_count": 23,
   "metadata": {},
   "outputs": [
    {
     "data": {
      "text/plain": [
       "\u001b[38;5;246m# A tibble: 4 × 3\u001b[39m\n",
       "  database_name      n  prop\n",
       "  \u001b[3m\u001b[38;5;246m<chr>\u001b[39m\u001b[23m          \u001b[3m\u001b[38;5;246m<int>\u001b[39m\u001b[23m \u001b[3m\u001b[38;5;246m<dbl>\u001b[39m\u001b[23m\n",
       "\u001b[38;5;250m1\u001b[39m BNDB            \u001b[4m8\u001b[24m607  3.58\n",
       "\u001b[38;5;250m2\u001b[39m GBIF          \u001b[4m1\u001b[24m\u001b[4m7\u001b[24m\u001b[4m4\u001b[24m002 72.3 \n",
       "\u001b[38;5;250m3\u001b[39m IDIGBIO        \u001b[4m4\u001b[24m\u001b[4m1\u001b[24m299 17.2 \n",
       "\u001b[38;5;250m4\u001b[39m PUCE           \u001b[4m1\u001b[24m\u001b[4m6\u001b[24m646  6.92"
      ]
     },
     "execution_count": null,
     "metadata": {},
     "output_type": "execute_result"
    }
   ],
   "source": [
    "dimension_3 = database_3 %>%\n",
    "  group_by(database_name)%>%\n",
    "  count()%>%\n",
    "  ungroup()%>%\n",
    "  mutate(prop = (n/sum(n))*100)\n",
    "\n",
    "dimension_3"
   ]
  },
  {
   "cell_type": "code",
   "execution_count": 24,
   "metadata": {},
   "outputs": [
    {
     "data": {
      "text/plain": [
       "[1] 240554"
      ]
     },
     "execution_count": null,
     "metadata": {},
     "output_type": "execute_result"
    }
   ],
   "source": [
    "sum(dimension_3$n)"
   ]
  },
  {
   "cell_type": "code",
   "execution_count": 25,
   "metadata": {},
   "outputs": [
    {
     "data": {
      "image/png": "[encoded data removed]"
     },
     "metadata": {},
     "output_type": "display_data"
    }
   ],
   "source": [
    "hist(database_3$year)"
   ]
  },
  {
   "cell_type": "markdown",
   "metadata": {},
   "source": [
    "## 3.3. Delete Empy coordinates"
   ]
  },
  {
   "cell_type": "code",
   "execution_count": 26,
   "metadata": {},
   "outputs": [],
   "source": [
    "database_4 = database_3 %>% \n",
    "  filter(!is.na(decimalLatitude)) %>% \n",
    "  filter(!is.na(decimalLongitude)) "
   ]
  },
  {
   "cell_type": "code",
   "execution_count": 27,
   "metadata": {},
   "outputs": [
    {
     "data": {
      "text/plain": [
       "\u001b[38;5;246m# A tibble: 240,554 × 20\u001b[39m\n",
       "   database_id TaxonRank class   family     genus scientificName decimalLatitude decimalLongitude occurrenceID basisOfRecord verbatimEventDate country\n",
       "   \u001b[3m\u001b[38;5;246m<chr>\u001b[39m\u001b[23m       \u001b[3m\u001b[38;5;246m<chr>\u001b[39m\u001b[23m     \u001b[3m\u001b[38;5;246m<chr>\u001b[39m\u001b[23m   \u001b[3m\u001b[38;5;246m<chr>\u001b[39m\u001b[23m      \u001b[3m\u001b[38;5;246m<chr>\u001b[39m\u001b[23m \u001b[3m\u001b[38;5;246m<chr>\u001b[39m\u001b[23m          \u001b[3m\u001b[38;5;246m<chr>\u001b[39m\u001b[23m           \u001b[3m\u001b[38;5;246m<chr>\u001b[39m\u001b[23m            \u001b[3m\u001b[38;5;246m<chr>\u001b[39m\u001b[23m        \u001b[3m\u001b[38;5;246m<chr>\u001b[39m\u001b[23m         \u001b[3m\u001b[38;5;246m<chr>\u001b[39m\u001b[23m             \u001b[3m\u001b[38;5;246m<chr>\u001b[39m\u001b[23m  \n",
       "\u001b[38;5;250m 1\u001b[39m BNDB_1      Genus     Insecta COLUBRIDAE Ninia Ninia          0.99508         -78.21735        25b0d36c-30… \u001b[38;5;246m\"\u001b[39mEsp\\xe9cime… 2021-08-05        Ecuador\n",
       "\u001b[38;5;250m 2\u001b[39m BNDB_2      Species   Insecta COLUBRIDAE Ninia Ninia atrata   -0.036806       -78.765028       d2414fec-75… \u001b[38;5;246m\"\u001b[39mEsp\\xe9cime… 2017-04-17        Ecuador\n",
       "\u001b[38;5;250m 3\u001b[39m BNDB_3      Species   Insecta COLUBRIDAE Ninia Ninia atrata   -0.069194       -78.761278       3ea86160-21… \u001b[38;5;246m\"\u001b[39mEsp\\xe9cime… 2017-04-17        Ecuador\n",
       "\u001b[38;5;250m 4\u001b[39m BNDB_4      Species   Insecta COLUBRIDAE Ninia Ninia atrata   -0.033056       -78.755          de08a11c-8e… \u001b[38;5;246m\"\u001b[39mEsp\\xe9cime… 2017-04-17        Ecuador\n",
       "\u001b[38;5;250m 5\u001b[39m BNDB_5      Species   Insecta COLUBRIDAE Ninia Ninia atrata   -3.579464169    -79.86111617     687d5977-92… \u001b[38;5;246m\"\u001b[39mEsp\\xe9cime… 2018-11-09        Ecuador\n",
       "\u001b[38;5;250m 6\u001b[39m BNDB_8      Species   Insecta COLUBRIDAE Ninia Ninia atrata   0.696947        -80.018614       4cfa9151-95… \u001b[38;5;246m\"\u001b[39mEsp\\xe9cime… 2004-03-17        Ecuador\n",
       "\u001b[38;5;250m 7\u001b[39m BNDB_16     Species   Insecta COLUBRIDAE Ninia Ninia atrata   -0.388433       -79.371417       6cb29b1b-63… \u001b[38;5;246m\"\u001b[39mEsp\\xe9cime… 1987-10-01        Ecuador\n",
       "\u001b[38;5;250m 8\u001b[39m BNDB_18     Species   Insecta COLUBRIDAE Ninia Ninia atrata   1.185869        -78.500602       aa4e9367-45… \u001b[38;5;246m\"\u001b[39mEsp\\xe9cime… 2009-09-01        Ecuador\n",
       "\u001b[38;5;250m 9\u001b[39m BNDB_19     Species   Insecta COLUBRIDAE Ninia Ninia hudsoni  -0.11335        -77.441248       6608a50e-25… \u001b[38;5;246m\"\u001b[39mEsp\\xe9cime… 2013-03-14        Ecuador\n",
       "\u001b[38;5;250m10\u001b[39m BNDB_23     Genus     Insecta Coenagrio… Acan… Acanthagrion   -3.7562         -79.8459         690f1bb9-a9… \u001b[38;5;246m\"\u001b[39mEsp\\xe9cime… 2015-10-22        Ecuador\n",
       "\u001b[38;5;246m# ℹ 240,544 more rows\u001b[39m\n",
       "\u001b[38;5;246m# ℹ 8 more variables: stateProvince <chr>, locality <chr>, identifiedBy <chr>, coordinateUncertaintyInMeters <chr>, recordedBy <chr>, year <dbl>,\u001b[39m\n",
       "\u001b[38;5;246m#   institutionCode <chr>, database_name <chr>\u001b[39m\n",
       "\u001b[38;5;246m# ℹ Use `print(n = ...)` to see more rows\u001b[39m"
      ]
     },
     "execution_count": null,
     "metadata": {},
     "output_type": "execute_result"
    }
   ],
   "source": [
    "database_4"
   ]
  },
  {
   "cell_type": "code",
   "execution_count": 28,
   "metadata": {},
   "outputs": [
    {
     "data": {
      "text/plain": [
       "\u001b[38;5;246m# A tibble: 4 × 3\u001b[39m\n",
       "  database_name      n  prop\n",
       "  \u001b[3m\u001b[38;5;246m<chr>\u001b[39m\u001b[23m          \u001b[3m\u001b[38;5;246m<int>\u001b[39m\u001b[23m \u001b[3m\u001b[38;5;246m<dbl>\u001b[39m\u001b[23m\n",
       "\u001b[38;5;250m1\u001b[39m BNDB            \u001b[4m8\u001b[24m607  3.58\n",
       "\u001b[38;5;250m2\u001b[39m GBIF          \u001b[4m1\u001b[24m\u001b[4m7\u001b[24m\u001b[4m4\u001b[24m002 72.3 \n",
       "\u001b[38;5;250m3\u001b[39m IDIGBIO        \u001b[4m4\u001b[24m\u001b[4m1\u001b[24m299 17.2 \n",
       "\u001b[38;5;250m4\u001b[39m PUCE           \u001b[4m1\u001b[24m\u001b[4m6\u001b[24m646  6.92"
      ]
     },
     "execution_count": null,
     "metadata": {},
     "output_type": "execute_result"
    }
   ],
   "source": [
    "dimension_4 = database_4 %>%\n",
    "  group_by(database_name)%>%\n",
    "  count()%>%\n",
    "  ungroup()%>%\n",
    "  mutate(prop = (n/sum(n))*100)\n",
    "\n",
    "dimension_4"
   ]
  },
  {
   "cell_type": "code",
   "execution_count": 29,
   "metadata": {},
   "outputs": [
    {
     "data": {
      "text/plain": [
       "[1] 240554"
      ]
     },
     "execution_count": null,
     "metadata": {},
     "output_type": "execute_result"
    }
   ],
   "source": [
    "sum(dimension_4$n)"
   ]
  },
  {
   "cell_type": "markdown",
   "metadata": {},
   "source": [
    "## 3.5. Filter coordinates out of range"
   ]
  },
  {
   "cell_type": "markdown",
   "metadata": {},
   "source": [
    "The funtions from bdc packages add flags to the data frame to indicate if there is a problem with the data"
   ]
  },
  {
   "cell_type": "code",
   "execution_count": 30,
   "metadata": {},
   "outputs": [
    {
     "name": "stdout",
     "output_type": "stream",
     "text": [
      "\n",
      "bdc_coordinates_outOfRange:\n",
      "Flagged 0 records.\n",
      "One column was added to the database.\n",
      "\n"
     ]
    },
    {
     "data": {
      "text/plain": [
       "\u001b[38;5;246m# A tibble: 240,554 × 21\u001b[39m\n",
       "   database_id TaxonRank class   family     genus scientificName decimalLatitude decimalLongitude occurrenceID basisOfRecord verbatimEventDate country\n",
       "   \u001b[3m\u001b[38;5;246m<chr>\u001b[39m\u001b[23m       \u001b[3m\u001b[38;5;246m<chr>\u001b[39m\u001b[23m     \u001b[3m\u001b[38;5;246m<chr>\u001b[39m\u001b[23m   \u001b[3m\u001b[38;5;246m<chr>\u001b[39m\u001b[23m      \u001b[3m\u001b[38;5;246m<chr>\u001b[39m\u001b[23m \u001b[3m\u001b[38;5;246m<chr>\u001b[39m\u001b[23m          \u001b[3m\u001b[38;5;246m<chr>\u001b[39m\u001b[23m           \u001b[3m\u001b[38;5;246m<chr>\u001b[39m\u001b[23m            \u001b[3m\u001b[38;5;246m<chr>\u001b[39m\u001b[23m        \u001b[3m\u001b[38;5;246m<chr>\u001b[39m\u001b[23m         \u001b[3m\u001b[38;5;246m<chr>\u001b[39m\u001b[23m             \u001b[3m\u001b[38;5;246m<chr>\u001b[39m\u001b[23m  \n",
       "\u001b[38;5;250m 1\u001b[39m BNDB_1      Genus     Insecta COLUBRIDAE Ninia Ninia          0.99508         -78.21735        25b0d36c-30… \u001b[38;5;246m\"\u001b[39mEsp\\xe9cime… 2021-08-05        Ecuador\n",
       "\u001b[38;5;250m 2\u001b[39m BNDB_2      Species   Insecta COLUBRIDAE Ninia Ninia atrata   -0.036806       -78.765028       d2414fec-75… \u001b[38;5;246m\"\u001b[39mEsp\\xe9cime… 2017-04-17        Ecuador\n",
       "\u001b[38;5;250m 3\u001b[39m BNDB_3      Species   Insecta COLUBRIDAE Ninia Ninia atrata   -0.069194       -78.761278       3ea86160-21… \u001b[38;5;246m\"\u001b[39mEsp\\xe9cime… 2017-04-17        Ecuador\n",
       "\u001b[38;5;250m 4\u001b[39m BNDB_4      Species   Insecta COLUBRIDAE Ninia Ninia atrata   -0.033056       -78.755          de08a11c-8e… \u001b[38;5;246m\"\u001b[39mEsp\\xe9cime… 2017-04-17        Ecuador\n",
       "\u001b[38;5;250m 5\u001b[39m BNDB_5      Species   Insecta COLUBRIDAE Ninia Ninia atrata   -3.579464169    -79.86111617     687d5977-92… \u001b[38;5;246m\"\u001b[39mEsp\\xe9cime… 2018-11-09        Ecuador\n",
       "\u001b[38;5;250m 6\u001b[39m BNDB_8      Species   Insecta COLUBRIDAE Ninia Ninia atrata   0.696947        -80.018614       4cfa9151-95… \u001b[38;5;246m\"\u001b[39mEsp\\xe9cime… 2004-03-17        Ecuador\n",
       "\u001b[38;5;250m 7\u001b[39m BNDB_16     Species   Insecta COLUBRIDAE Ninia Ninia atrata   -0.388433       -79.371417       6cb29b1b-63… \u001b[38;5;246m\"\u001b[39mEsp\\xe9cime… 1987-10-01        Ecuador\n",
       "\u001b[38;5;250m 8\u001b[39m BNDB_18     Species   Insecta COLUBRIDAE Ninia Ninia atrata   1.185869        -78.500602       aa4e9367-45… \u001b[38;5;246m\"\u001b[39mEsp\\xe9cime… 2009-09-01        Ecuador\n",
       "\u001b[38;5;250m 9\u001b[39m BNDB_19     Species   Insecta COLUBRIDAE Ninia Ninia hudsoni  -0.11335        -77.441248       6608a50e-25… \u001b[38;5;246m\"\u001b[39mEsp\\xe9cime… 2013-03-14        Ecuador\n",
       "\u001b[38;5;250m10\u001b[39m BNDB_23     Genus     Insecta Coenagrio… Acan… Acanthagrion   -3.7562         -79.8459         690f1bb9-a9… \u001b[38;5;246m\"\u001b[39mEsp\\xe9cime… 2015-10-22        Ecuador\n",
       "\u001b[38;5;246m# ℹ 240,544 more rows\u001b[39m\n",
       "\u001b[38;5;246m# ℹ 9 more variables: stateProvince <chr>, locality <chr>, identifiedBy <chr>, coordinateUncertaintyInMeters <chr>, recordedBy <chr>, year <dbl>,\u001b[39m\n",
       "\u001b[38;5;246m#   institutionCode <chr>, database_name <chr>, .coordinates_outOfRange <lgl>\u001b[39m\n",
       "\u001b[38;5;246m# ℹ Use `print(n = ...)` to see more rows\u001b[39m"
      ]
     },
     "execution_count": null,
     "metadata": {},
     "output_type": "execute_result"
    }
   ],
   "source": [
    "database_5 = bdc_coordinates_outOfRange(data = database_4, \n",
    "lat = \"decimalLatitude\",\n",
    "lon = \"decimalLongitude\") %>%\n",
    "  filter(.coordinates_outOfRange == TRUE)\n",
    "\n",
    "database_5"
   ]
  },
  {
   "cell_type": "code",
   "execution_count": 31,
   "metadata": {},
   "outputs": [
    {
     "data": {
      "text/plain": [
       "\u001b[38;5;246m# A tibble: 4 × 3\u001b[39m\n",
       "  database_name      n  prop\n",
       "  \u001b[3m\u001b[38;5;246m<chr>\u001b[39m\u001b[23m          \u001b[3m\u001b[38;5;246m<int>\u001b[39m\u001b[23m \u001b[3m\u001b[38;5;246m<dbl>\u001b[39m\u001b[23m\n",
       "\u001b[38;5;250m1\u001b[39m BNDB            \u001b[4m8\u001b[24m607  3.58\n",
       "\u001b[38;5;250m2\u001b[39m GBIF          \u001b[4m1\u001b[24m\u001b[4m7\u001b[24m\u001b[4m4\u001b[24m002 72.3 \n",
       "\u001b[38;5;250m3\u001b[39m IDIGBIO        \u001b[4m4\u001b[24m\u001b[4m1\u001b[24m299 17.2 \n",
       "\u001b[38;5;250m4\u001b[39m PUCE           \u001b[4m1\u001b[24m\u001b[4m6\u001b[24m646  6.92"
      ]
     },
     "execution_count": null,
     "metadata": {},
     "output_type": "execute_result"
    }
   ],
   "source": [
    "dimension_5 = database_5 %>%\n",
    "  group_by(database_name)%>%\n",
    "  count()%>%\n",
    "  ungroup()%>%\n",
    "  mutate(prop = (n/sum(n))*100)\n",
    "\n",
    "dimension_5"
   ]
  },
  {
   "cell_type": "code",
   "execution_count": 32,
   "metadata": {},
   "outputs": [
    {
     "data": {
      "text/plain": [
       "[1] 240554"
      ]
     },
     "execution_count": null,
     "metadata": {},
     "output_type": "execute_result"
    }
   ],
   "source": [
    "sum(dimension_5$n)"
   ]
  },
  {
   "cell_type": "markdown",
   "metadata": {},
   "source": [
    "## 3.6. Filter coordinate Uncertainty"
   ]
  },
  {
   "cell_type": "markdown",
   "metadata": {},
   "source": [
    "We only keep records with an accuracy of less than 10 km. If the value is NA, it is retained and other types of spatial filters are applied in the following steps."
   ]
  },
  {
   "cell_type": "code",
   "execution_count": 33,
   "metadata": {},
   "outputs": [
    {
     "data": {
      "image/png": "[encoded data removed]"
     },
     "metadata": {},
     "output_type": "display_data"
    }
   ],
   "source": [
    "database_5$coordinateUncertaintyInMeters = as.numeric(database_5$coordinateUncertaintyInMeters)\n",
    "hist(database_5$coordinateUncertaintyInMeters)"
   ]
  },
  {
   "cell_type": "code",
   "execution_count": 34,
   "metadata": {},
   "outputs": [
    {
     "data": {
      "text/plain": [
       "\u001b[38;5;246m# A tibble: 239,523 × 21\u001b[39m\n",
       "   database_id TaxonRank class   family     genus scientificName decimalLatitude decimalLongitude occurrenceID basisOfRecord verbatimEventDate country\n",
       "   \u001b[3m\u001b[38;5;246m<chr>\u001b[39m\u001b[23m       \u001b[3m\u001b[38;5;246m<chr>\u001b[39m\u001b[23m     \u001b[3m\u001b[38;5;246m<chr>\u001b[39m\u001b[23m   \u001b[3m\u001b[38;5;246m<chr>\u001b[39m\u001b[23m      \u001b[3m\u001b[38;5;246m<chr>\u001b[39m\u001b[23m \u001b[3m\u001b[38;5;246m<chr>\u001b[39m\u001b[23m          \u001b[3m\u001b[38;5;246m<chr>\u001b[39m\u001b[23m           \u001b[3m\u001b[38;5;246m<chr>\u001b[39m\u001b[23m            \u001b[3m\u001b[38;5;246m<chr>\u001b[39m\u001b[23m        \u001b[3m\u001b[38;5;246m<chr>\u001b[39m\u001b[23m         \u001b[3m\u001b[38;5;246m<chr>\u001b[39m\u001b[23m             \u001b[3m\u001b[38;5;246m<chr>\u001b[39m\u001b[23m  \n",
       "\u001b[38;5;250m 1\u001b[39m BNDB_1      Genus     Insecta COLUBRIDAE Ninia Ninia          0.99508         -78.21735        25b0d36c-30… \u001b[38;5;246m\"\u001b[39mEsp\\xe9cime… 2021-08-05        Ecuador\n",
       "\u001b[38;5;250m 2\u001b[39m BNDB_2      Species   Insecta COLUBRIDAE Ninia Ninia atrata   -0.036806       -78.765028       d2414fec-75… \u001b[38;5;246m\"\u001b[39mEsp\\xe9cime… 2017-04-17        Ecuador\n",
       "\u001b[38;5;250m 3\u001b[39m BNDB_3      Species   Insecta COLUBRIDAE Ninia Ninia atrata   -0.069194       -78.761278       3ea86160-21… \u001b[38;5;246m\"\u001b[39mEsp\\xe9cime… 2017-04-17        Ecuador\n",
       "\u001b[38;5;250m 4\u001b[39m BNDB_4      Species   Insecta COLUBRIDAE Ninia Ninia atrata   -0.033056       -78.755          de08a11c-8e… \u001b[38;5;246m\"\u001b[39mEsp\\xe9cime… 2017-04-17        Ecuador\n",
       "\u001b[38;5;250m 5\u001b[39m BNDB_5      Species   Insecta COLUBRIDAE Ninia Ninia atrata   -3.579464169    -79.86111617     687d5977-92… \u001b[38;5;246m\"\u001b[39mEsp\\xe9cime… 2018-11-09        Ecuador\n",
       "\u001b[38;5;250m 6\u001b[39m BNDB_8      Species   Insecta COLUBRIDAE Ninia Ninia atrata   0.696947        -80.018614       4cfa9151-95… \u001b[38;5;246m\"\u001b[39mEsp\\xe9cime… 2004-03-17        Ecuador\n",
       "\u001b[38;5;250m 7\u001b[39m BNDB_16     Species   Insecta COLUBRIDAE Ninia Ninia atrata   -0.388433       -79.371417       6cb29b1b-63… \u001b[38;5;246m\"\u001b[39mEsp\\xe9cime… 1987-10-01        Ecuador\n",
       "\u001b[38;5;250m 8\u001b[39m BNDB_18     Species   Insecta COLUBRIDAE Ninia Ninia atrata   1.185869        -78.500602       aa4e9367-45… \u001b[38;5;246m\"\u001b[39mEsp\\xe9cime… 2009-09-01        Ecuador\n",
       "\u001b[38;5;250m 9\u001b[39m BNDB_19     Species   Insecta COLUBRIDAE Ninia Ninia hudsoni  -0.11335        -77.441248       6608a50e-25… \u001b[38;5;246m\"\u001b[39mEsp\\xe9cime… 2013-03-14        Ecuador\n",
       "\u001b[38;5;250m10\u001b[39m BNDB_23     Genus     Insecta Coenagrio… Acan… Acanthagrion   -3.7562         -79.8459         690f1bb9-a9… \u001b[38;5;246m\"\u001b[39mEsp\\xe9cime… 2015-10-22        Ecuador\n",
       "\u001b[38;5;246m# ℹ 239,513 more rows\u001b[39m\n",
       "\u001b[38;5;246m# ℹ 9 more variables: stateProvince <chr>, locality <chr>, identifiedBy <chr>, coordinateUncertaintyInMeters <dbl>, recordedBy <chr>, year <dbl>,\u001b[39m\n",
       "\u001b[38;5;246m#   institutionCode <chr>, database_name <chr>, .coordinates_outOfRange <lgl>\u001b[39m\n",
       "\u001b[38;5;246m# ℹ Use `print(n = ...)` to see more rows\u001b[39m"
      ]
     },
     "execution_count": null,
     "metadata": {},
     "output_type": "execute_result"
    }
   ],
   "source": [
    "database_6 = database_5%>%\n",
    "  filter(coordinateUncertaintyInMeters <= 100000| is.na(coordinateUncertaintyInMeters))\n",
    "\n",
    "database_6"
   ]
  },
  {
   "cell_type": "code",
   "execution_count": 35,
   "metadata": {},
   "outputs": [
    {
     "data": {
      "image/png": "[encoded data removed]"
     },
     "metadata": {},
     "output_type": "display_data"
    }
   ],
   "source": [
    "hist(database_6$coordinateUncertaintyInMeters)"
   ]
  },
  {
   "cell_type": "code",
   "execution_count": 36,
   "metadata": {},
   "outputs": [
    {
     "data": {
      "text/plain": [
       "\u001b[38;5;246m# A tibble: 4 × 3\u001b[39m\n",
       "  database_name      n  prop\n",
       "  \u001b[3m\u001b[38;5;246m<chr>\u001b[39m\u001b[23m          \u001b[3m\u001b[38;5;246m<int>\u001b[39m\u001b[23m \u001b[3m\u001b[38;5;246m<dbl>\u001b[39m\u001b[23m\n",
       "\u001b[38;5;250m1\u001b[39m BNDB            \u001b[4m8\u001b[24m607  3.59\n",
       "\u001b[38;5;250m2\u001b[39m GBIF          \u001b[4m1\u001b[24m\u001b[4m7\u001b[24m\u001b[4m3\u001b[24m380 72.4 \n",
       "\u001b[38;5;250m3\u001b[39m IDIGBIO        \u001b[4m4\u001b[24m\u001b[4m0\u001b[24m890 17.1 \n",
       "\u001b[38;5;250m4\u001b[39m PUCE           \u001b[4m1\u001b[24m\u001b[4m6\u001b[24m646  6.95"
      ]
     },
     "execution_count": null,
     "metadata": {},
     "output_type": "execute_result"
    }
   ],
   "source": [
    "dimension_6 = database_6 %>%\n",
    "  group_by(database_name)%>%\n",
    "  count()%>%\n",
    "  ungroup()%>%\n",
    "  mutate(prop = (n/sum(n))*100)\n",
    "\n",
    "dimension_6"
   ]
  },
  {
   "cell_type": "code",
   "execution_count": 37,
   "metadata": {},
   "outputs": [
    {
     "data": {
      "text/plain": [
       "[1] 239523"
      ]
     },
     "execution_count": null,
     "metadata": {},
     "output_type": "execute_result"
    }
   ],
   "source": [
    "sum(dimension_6$n)"
   ]
  },
  {
   "cell_type": "markdown",
   "metadata": {},
   "source": [
    "database_6"
   ]
  },
  {
   "cell_type": "markdown",
   "metadata": {},
   "source": [
    "## 3.7. Classify only Genus and uncertainties"
   ]
  },
  {
   "cell_type": "code",
   "execution_count": 41,
   "metadata": {},
   "outputs": [],
   "source": [
    "identify_uncert <- function(name) {\n",
    "  uncer_terms <- FALSE\n",
    "  infraesp_names <- FALSE\n",
    "  generic_only <- FALSE\n",
    "  \n",
    "  # Incertidumbre (\"cf.\", \"aff.\", \"?\", \"nr.\", \"indet.\", \"undet\")\n",
    "  if (grepl(\"\\\\b(cf\\\\.?|aff\\\\.?|nr\\\\.?|indet\\\\.?|undet\\\\.?|\\\\?)\\\\b\", name, ignore.case = TRUE)) {\n",
    "    uncer_terms <- TRUE\n",
    "  }\n",
    "  \n",
    "\n",
    "  \n",
    "  # Género sin especie (\"sp.\", \"spp.\")\n",
    " # if (grepl(\"\\\\b(sp\\\\.|spp\\\\.)\\\\b\", name, ignore.case = TRUE)) {\n",
    "  #  generic_only <- TRUE\n",
    "  #}\n",
    "  \n",
    "  return(list(\n",
    "    name = name,\n",
    "    uncer_terms = uncer_terms\n",
    "\n",
    "    #generic_only = generic_only\n",
    "  ))\n",
    "}\n"
   ]
  },
  {
   "cell_type": "code",
   "execution_count": 42,
   "metadata": {},
   "outputs": [
    {
     "name": "stderr",
     "output_type": "stream",
     "text": [
      "There were 50 or more warnings (use warnings() to see the first 50)\n"
     ]
    },
    {
     "data": {
      "text/plain": [
       "                             name uncer_terms\n",
       "1                           Ninia       FALSE\n",
       "2                    Ninia atrata       FALSE\n",
       "3                   Ninia hudsoni       FALSE\n",
       "4                    Acanthagrion       FALSE\n",
       "5                          Aeshna       FALSE\n",
       "6                    Agriogomphus       FALSE\n",
       "7                    Alluaudomyia       FALSE\n",
       "8                      Alotanypus       FALSE\n",
       "9                        Ambrysus       FALSE\n",
       "10                  Americabaetis       FALSE\n",
       "11                  Amphoropsyche       FALSE\n",
       "12                   Anacroneuria       FALSE\n",
       "13                           Anax       FALSE\n",
       "14                    Anchytarsus       FALSE\n",
       "15                      Ancyronyx       FALSE\n",
       "16                      Andesiops       FALSE\n",
       "17               Anomalocosmoecus       FALSE\n",
       "18                  Anomalopsyche       FALSE\n",
       "19                     Aphrosylus       FALSE\n",
       "20                        Aphylla       FALSE\n",
       "21                      Apobaetis       FALSE\n",
       "22                          Argia       FALSE\n",
       "23                    Atanatolica       FALSE\n",
       "24                      Atopsyche       FALSE\n",
       "25                   Atrichopogon       FALSE\n",
       "26                       Aturbina       FALSE\n",
       "27                     Austrelmis       FALSE\n",
       "28                  Austrolimnius       FALSE\n",
       "29                  Austrotinodes       FALSE\n",
       "30                       Baetodes       FALSE\n",
       "31                      Belostoma       FALSE\n",
       "32                        Berosus       FALSE\n",
       "33                        Bledius       FALSE\n",
       "34                    Brachymesia       FALSE\n",
       "35                    Brachymetra       FALSE\n",
       "36                  Brasilocaenis       FALSE\n",
       "37                   Brechmorhoga       FALSE\n",
       "38                         Buenoa       FALSE\n",
       "39                        Cabecar       FALSE\n",
       "40                         Caenis       FALSE\n",
       "41                       Cailloma       FALSE\n",
       "42                    Callibaetis       FALSE\n",
       "43                Camelobaetidius       FALSE\n",
       "44                      Campsurus       FALSE\n",
       "45                     Campylocia       FALSE\n",
       "46                         Celina       FALSE\n",
       "47                   Centrocorisa       FALSE\n",
       "48                Centromacronema       FALSE\n",
       "49                   Cercobrachys       FALSE\n",
       "50                          Chane       FALSE\n",
       "51                      Chelifera       FALSE\n",
       "52                       Chimarra       FALSE\n",
       "53                     Chironomus       FALSE\n",
       "54                   Claudioperla       FALSE\n",
       "55                      Clinocera       FALSE\n",
       "56                       Cloeodes       FALSE\n",
       "57                        Clogmia       FALSE\n",
       "58                       Contulma       FALSE\n",
       "59                      Copelatus       FALSE\n",
       "60                         Corixa       FALSE\n",
       "61                      Corydalus       FALSE\n",
       "62                    Corynoneura       FALSE\n",
       "63                  Coryphaeschna       FALSE\n",
       "64                     Coryphorus       FALSE\n",
       "65                       Crenitis       FALSE\n",
       "66                     Cricotopus       FALSE\n",
       "67                   Cryphocricos       FALSE\n",
       "68                   Cryptonympha       FALSE\n",
       "69                          Culex       FALSE\n",
       "70                      Culoptila       FALSE\n",
       "71                Cylindrostethus       FALSE\n",
       "72                      Cylloepus       FALSE\n",
       "73                         Cyphon       FALSE\n",
       "74                      Cyrnellus       FALSE\n",
       "75                       Derallus       FALSE\n",
       "76                  Dicrotendipes       FALSE\n",
       "77                       Dineutus       FALSE\n",
       "78                       Disersus       FALSE\n",
       "79                        Dixella       FALSE\n",
       "80                        Donacia       FALSE\n",
       "81                   Dromogomphus       FALSE\n",
       "82                         Dryops       FALSE\n",
       "83                       Dythemis       FALSE\n",
       "84                    Ecuaphlebia       FALSE\n",
       "85                   Elasmothemis       FALSE\n",
       "86                           Elga       FALSE\n",
       "87                         Elodes       FALSE\n",
       "88                       Enochrus       FALSE\n",
       "89                     Epigomphus       FALSE\n",
       "90                      Erythemis       FALSE\n",
       "91                  Erythrodiplax       FALSE\n",
       "92                    Eulimnichus       FALSE\n",
       "93                     Eurygerris       FALSE\n",
       "94                    Euthyplocia       FALSE\n",
       "95                       Fallceon       FALSE\n",
       "96                       Farrodes       FALSE\n",
       "97                  Fletcherimyia       FALSE\n",
       "98                   Gelastocoris       FALSE\n",
       "99                     Gigantodax       FALSE\n",
       "100                   Grumichella       FALSE\n",
       "101                    Guajirolus       FALSE\n",
       "102                      Gyrelmis       FALSE\n",
       "103                       Gyretes       FALSE\n",
       "104                       Gyrinus       FALSE\n",
       "105                  Hagenulopsis       FALSE\n",
       "106                  Halobatopsis       FALSE\n",
       "107                   Haplohyphes       FALSE\n",
       "108                    Harnischia       FALSE\n",
       "109                        Hebrus       FALSE\n",
       "110                      Helichus       FALSE\n",
       "111                  Helicopsyche       FALSE\n",
       "112                    Helochares       FALSE\n",
       "113                  Hemerodromia       FALSE\n",
       "114                      Hemiosus       FALSE\n",
       "115                     Hetaerina       FALSE\n",
       "116                   Heteragrion       FALSE\n",
       "117                    Heterelmis       FALSE\n",
       "118                  Heterlimnius       FALSE\n",
       "119                  Heterocorixa       FALSE\n",
       "120                 Hexacylloepus       FALSE\n",
       "121                   Hexanchorus       FALSE\n",
       "122                      Hexatoma       FALSE\n",
       "123                   Hudsonimyia       FALSE\n",
       "124                    Huleechius       FALSE\n",
       "125                    Hydrometra       FALSE\n",
       "126                    Hydroptila       FALSE\n",
       "127                 Hydrosmilodon       FALSE\n",
       "128                      Ischnura       FALSE\n",
       "129                    Laccodytes       FALSE\n",
       "130                   Laccophilus       FALSE\n",
       "131                     Lachlania       FALSE\n",
       "132                        Larsia       FALSE\n",
       "133                   Lepidostoma       FALSE\n",
       "134                   Leptohyphes       FALSE\n",
       "135                     Leptonema       FALSE\n",
       "136                  Leucotrichia       FALSE\n",
       "137                     Libellula       FALSE\n",
       "138                  Limnobatodes       FALSE\n",
       "139                    Limnocoris       FALSE\n",
       "140                    Limnogonus       FALSE\n",
       "141                    Limnophora       FALSE\n",
       "142                    Limonicola       FALSE\n",
       "143                         Lispe       FALSE\n",
       "144                  Lopescladius       FALSE\n",
       "145                    Luchoelmis       FALSE\n",
       "146                     Lutrochus       FALSE\n",
       "147                     Macrelmis       FALSE\n",
       "148                     Macronema       FALSE\n",
       "149                   Macrostemum       FALSE\n",
       "150                   Macrothemis       FALSE\n",
       "151                    Macrovelia       FALSE\n",
       "152                       Marilia       FALSE\n",
       "153                     Martarega       FALSE\n",
       "154                       Maruina       FALSE\n",
       "155                   Mayatrichia       FALSE\n",
       "156                    Mayobaetis       FALSE\n",
       "157                 Mecistogaster       FALSE\n",
       "158                 Megapodagrion       FALSE\n",
       "159                     Mesovelia       FALSE\n",
       "160                  Mesoveloidea       FALSE\n",
       "161                     Metrichia       FALSE\n",
       "162                    Metrobates       FALSE\n",
       "163                     Miathyria       FALSE\n",
       "164                  Micracanthia       FALSE\n",
       "165                     Microcara       FALSE\n",
       "166                Microcylloepus       FALSE\n",
       "167                    Microvelia       FALSE\n",
       "168                     Miroculis       FALSE\n",
       "169                    Molophilus       FALSE\n",
       "170                    Moribaetis       FALSE\n",
       "171                   Mortoniella       FALSE\n",
       "172                       Nanomis       FALSE\n",
       "173                   Nectopsyche       FALSE\n",
       "174                   Needhamella       FALSE\n",
       "175                  Neocylloepus       FALSE\n",
       "176                      Neoelmis       FALSE\n",
       "177                     Neogerris       FALSE\n",
       "178                     Neoplasta       FALSE\n",
       "179                       Nerthra       FALSE\n",
       "180                      Notelmis       FALSE\n",
       "181                     Notonecta       FALSE\n",
       "182                  Ochrotrichia       FALSE\n",
       "183                   Ocyochterus       FALSE\n",
       "184                    Odontomyia       FALSE\n",
       "185                       Oecetis       FALSE\n",
       "186                    Oligoclada       FALSE\n",
       "187                     Onconeura       FALSE\n",
       "188                    Onychelmis       FALSE\n",
       "189                      Orthemis       FALSE\n",
       "190                    Ovatametra       FALSE\n",
       "191                     Oxyethira       FALSE\n",
       "192                    Palaemnema       FALSE\n",
       "193                     Palpomyia       FALSE\n",
       "194                    Paltostoma       FALSE\n",
       "195                       Pantala       FALSE\n",
       "196                  Paracloeodes       FALSE\n",
       "197                     Paracymus       FALSE\n",
       "198              Parametriocnemus       FALSE\n",
       "199                     Parapoynx       FALSE\n",
       "200                     Parochlus       FALSE\n",
       "201                       Parydra       FALSE\n",
       "202                     Pelocoris       FALSE\n",
       "203                    Pentaneura       FALSE\n",
       "204                      Pericoma       FALSE\n",
       "205                   Perigomphus       FALSE\n",
       "206                 Perissolestes       FALSE\n",
       "207                    Perithemis       FALSE\n",
       "208                    Petrophila       FALSE\n",
       "209                 Phanoceroides       FALSE\n",
       "210                    Phanocerus       FALSE\n",
       "211                    Pharceonus       FALSE\n",
       "212                    Philogenia       FALSE\n",
       "213                   Phyllocycla       FALSE\n",
       "214              Phyllogomphoides       FALSE\n",
       "215                    Phylloicus       FALSE\n",
       "216                     Planiplax       FALSE\n",
       "217                   Platygerris       FALSE\n",
       "218                 Polycentropus       FALSE\n",
       "219                   Polypedilum       FALSE\n",
       "220                Polyplectropus       FALSE\n",
       "221                     Polythore       FALSE\n",
       "222                     Portelmis       FALSE\n",
       "223                   Potamobates       FALSE\n",
       "224                   Prebaetodes       FALSE\n",
       "225                  Prionocyphon       FALSE\n",
       "226                     Probezzia       FALSE\n",
       "227                    Progomphus       FALSE\n",
       "228                    Protoneura       FALSE\n",
       "229                    Protoptila       FALSE\n",
       "230                    Psephenops       FALSE\n",
       "231                     Psephenus       FALSE\n",
       "232              Pseudochironomus       FALSE\n",
       "233                Pseudodisersus       FALSE\n",
       "234                      Pyropyga       FALSE\n",
       "235                       Ranatra       FALSE\n",
       "236                    Rhagovelia       FALSE\n",
       "237                       Rhantus       FALSE\n",
       "238                      Rhaphium       FALSE\n",
       "239                Rheotanytarsus       FALSE\n",
       "240                 Rheumatobates       FALSE\n",
       "241                  Rhionaeschna       FALSE\n",
       "242                  Rhyacopsyche       FALSE\n",
       "243                       Scirtes       FALSE\n",
       "244                      Simulium       FALSE\n",
       "245                     Smicridea       FALSE\n",
       "246                    Stegoelmis       FALSE\n",
       "247                     Stenelmis       FALSE\n",
       "248                 Stenhelmoides       FALSE\n",
       "249               Stenochironomus       FALSE\n",
       "250                        Stenus       FALSE\n",
       "251                    Stethelmis       FALSE\n",
       "252                 Stictocladius       FALSE\n",
       "253                   Stilobezzia       FALSE\n",
       "254                 Stridulivelia       FALSE\n",
       "255                      Suragina       FALSE\n",
       "256                     Sympetrum       FALSE\n",
       "257                      Synclita       FALSE\n",
       "258                       Tabanus       FALSE\n",
       "259                   Tachygerris       FALSE\n",
       "260                    Tanytarsus       FALSE\n",
       "261                    Tauriphila       FALSE\n",
       "262                     Telebasis       FALSE\n",
       "263                  Telmatometra       FALSE\n",
       "264                     Tenagobia       FALSE\n",
       "265                      Terpides       FALSE\n",
       "266               Thienemannimyia       FALSE\n",
       "267                    Thraulodes       FALSE\n",
       "268                        Tipula       FALSE\n",
       "269                        Tramea       FALSE\n",
       "270                    Traverella       FALSE\n",
       "271                  Traverhyphes       FALSE\n",
       "272                    Trepobates       FALSE\n",
       "273                 Tricorythodes       FALSE\n",
       "274                Tricorythopsis       FALSE\n",
       "275                  Triplectides       FALSE\n",
       "276                  Tropisternus       FALSE\n",
       "277                  Ulmeritoides       FALSE\n",
       "278                   Vacupernius       FALSE\n",
       "279                       Varipes       FALSE\n",
       "280                      Veloidea       FALSE\n",
       "281                  Waltzoyphius       FALSE\n",
       "282                      Xenelmis       FALSE\n",
       "283                  Xiphocentron       FALSE\n",
       "284                       Zelusia       FALSE\n",
       "285                   Zumatrichia       FALSE\n",
       "286                 Parargyractis       FALSE\n",
       "287                    Diastatops       FALSE\n",
       "288                     Hexagenia       FALSE\n",
       "289                  Laccornellus       FALSE\n",
       "290 Achoropsyche duodecimpunctata       FALSE\n",
       "291      Anomalocosmoecus illiesi       FALSE\n",
       "292             Cailloma lucidula       FALSE\n",
       "293         Cyrnellus mammillatus       FALSE\n",
       "294    Nectopsyche quatuorguttata       FALSE\n",
       "295         Nectopsyche splendida       FALSE\n",
       "296     Oecetis pseudoinconspicua       FALSE\n",
       "297                 Synoestropsis       FALSE\n",
       "298              Wormaldia planae       FALSE\n",
       "299          Acanthagrion apicale       FALSE\n",
       "300       Acanthagrion floridense       FALSE\n",
       "301        Acanthagrion obsoletum       FALSE\n",
       "302         Acanthagrion yungarum       FALSE\n",
       "303                 Anax concolor       FALSE\n",
       "304             Aphylla boliviana       FALSE\n",
       "305              Aphylla producta       FALSE\n",
       "306                  Argia adamsi       FALSE\n",
       "307              Argia medullaris       FALSE\n",
       "308                   Argia pulla       FALSE\n",
       "309           Brachymesia furcata       FALSE\n",
       "310         Brechmorhoga nubecula       FALSE\n",
       "311         Brechmorhoga pertinax       FALSE\n",
       "312            Brechmorhoga rapax       FALSE\n",
       "313    Elasmothemis cannacrioides       FALSE\n",
       "314               Elga leptostyla       FALSE\n",
       "315            Epigomphus obtusus       FALSE\n",
       "316        Erythrodiplax andagoya       FALSE\n",
       "317         Erythrodiplax basalis       FALSE\n",
       "318        Erythrodiplax castanea       FALSE\n",
       "319           Erythrodiplax fusca       FALSE\n",
       "320            Erythrodiplax ines       FALSE\n",
       "321        Erythrodiplax kimminsi       FALSE\n",
       "322   Erythrodiplax parvimaculata       FALSE\n",
       "323          Erythrodiplax tenuis       FALSE\n",
       "324         Erythrodiplax umbrata       FALSE\n",
       "325     Erythrodiplax unimaculata       FALSE\n",
       "326                Hetaerina caja       FALSE\n",
       "327        Hetaerina fuscoguttata       FALSE\n",
       "328              Hetaerina occisa       FALSE\n",
       "329           Hetaerina sanguinea       FALSE\n",
       "330        Macrothemis hemichlora       FALSE\n",
       "331           Macrothemis mortoni       FALSE\n",
       "332            Macrothemis musiva       FALSE\n",
       "333             Miathyria simplex       FALSE\n",
       "334       Oligoclada teretidentis       FALSE\n",
       "335             Orthemis biolleyi       FALSE\n",
       "336         Orthemis cultriformis       FALSE\n",
       "337         Palaemnema abbreviata       FALSE\n",
       "338          Palaemnema clementia       FALSE\n",
       "339        Palaemnema picicaudata       FALSE\n",
       "340              Perithemis mooma       FALSE\n",
       "341              Perithemis thais       FALSE\n",
       "342            Philogenia minteri       FALSE\n",
       "343            Philogenia redunca       FALSE\n",
       "344           Phyllocycla anduzei       FALSE\n",
       "345     Phyllogomphoides brunneus       FALSE\n",
       "346   Phyllogomphoides lieftincki       FALSE\n",
       "347            Polythore concinna       FALSE\n",
       "348            Polythore derivata       FALSE\n",
       "349            Polythore gigantea       FALSE\n",
       "350              Polythore mutata       FALSE\n",
       "351               Polythore picta       FALSE\n",
       "352             Polythore procera       FALSE\n",
       "353        Rhionaeschna cornigera       FALSE\n",
       "354         Rhionaeschna marchali       FALSE\n",
       "355              Telebasis brevis       FALSE\n",
       "356              Telebasis carota       FALSE\n",
       "357           Telebasis flammeola       FALSE\n",
       "358           Telebasis griffinii       FALSE\n",
       "359             Telebasis inalata       FALSE\n",
       "360          Telebasis rubricauda       FALSE\n",
       "361               Tramea binotata       FALSE\n",
       "362               Tramea calverti       FALSE\n",
       "363       Acanthallagma caeruleum       FALSE\n",
       "364              Aeolagrion axine       FALSE\n",
       "365                Anatya guttata       FALSE\n",
       "366              Cannaphila vibex       FALSE\n",
       "367          Dasythemis esmeralda       FALSE\n",
       "368      Enallagma novaehispaniae       FALSE\n",
       "369              Fylgia amazonica       FALSE\n",
       "370          Gynacantha litoralis       FALSE\n",
       "371        Gynacantha membranalis       FALSE\n",
       "372       Megaloprepus caerulatus       FALSE\n",
       "373        Mesamphiagrion dunklei       FALSE\n",
       "374      Micrathyria caerulistyla       FALSE\n",
       "375          Micrathyria catenata       FALSE\n",
       "376          Micrathyria dictynna       FALSE\n",
       "377          Micrathyria occipita       FALSE\n",
       "378               Misagria parana       FALSE\n",
       "379             Mnesarete drepane       FALSE\n",
       "380           Mnesarete metallica       FALSE\n",
       "381        Nephepeltia leonardina       FALSE\n",
       "382      Ormenophlebia imperatrix       FALSE\n",
       "383          Oxyagrion tennesseni       FALSE\n",
       "384       Peruviogomphus pearsoni       FALSE\n",
       "385      Teinopodagrion setigerum       FALSE\n",
       "386             Uracis fastigiata       FALSE\n",
       "387                 Uracis imbuta       FALSE\n",
       "388            Zenithoptera lanei       FALSE\n",
       "389            Zonophora calippus       FALSE\n",
       "390           Heliocharis amazona       FALSE\n",
       "391          Chimarra decimlobata       FALSE\n",
       "392           Chimarra geranoides       FALSE\n",
       "393       Helicopsyche breviterga       FALSE\n",
       "394         Smicridea biserrulata       FALSE\n",
       "395           Smicridea bivittata       FALSE\n",
       "396              Smicridea radula       FALSE\n",
       "397                     Anomiopus       FALSE\n",
       "398                      Ateuchus       FALSE\n",
       "399                      Bdelyrus       FALSE\n",
       "400                  Cyclocephala       FALSE\n",
       "401                     Isonychus       FALSE\n",
       "402                 Macrodactylus       FALSE\n",
       "403                        Uroxys       FALSE\n",
       "404               Pucaya castanea       FALSE\n",
       "405                        Gerris       FALSE\n",
       "406                    Lethocerus       FALSE\n",
       "407                      Alchisme       FALSE\n",
       "408                      Anobilia       FALSE\n",
       "409                     Bolbonota       FALSE\n",
       "410                     Enchenopa       FALSE\n",
       "411                    Guayaquila       FALSE\n",
       "412                    Hypsoprora       FALSE\n",
       "413                       Japetus       FALSE\n",
       "414                  Metcalfiella       FALSE\n",
       "415                    Micrutalis       FALSE\n",
       "416                      Notocera       FALSE\n",
       "417                       Tolania       FALSE\n",
       "418               Aburia olivacea       FALSE\n",
       "419              Anasa guayaquila       FALSE\n",
       "420            Camptischium niger       FALSE\n",
       "421            Corythaica monacha       FALSE\n",
       "422              Cyphonia trifida       FALSE\n",
       "423            Diactor bilineatus       FALSE\n",
       "424               Gargaphia opima       FALSE\n",
       "425           Hyalymenus tarsatus       FALSE\n",
       "426         Hypselonotus aberrans       FALSE\n",
       "427              Jalysus sobrinus       FALSE\n",
       "428          Leptoglossus zonatus       FALSE\n",
       "429                  Loxa viridis       FALSE\n",
       "430           Pachylis laticornis       FALSE\n",
       "431            Paryphes smaragdus       FALSE\n",
       "432            Petalops napoensis       FALSE\n",
       "433              Phenax variegata       FALSE\n",
       "434        Piezosternum subulatum       FALSE\n",
       "435        Proxys albopunctulatus       FALSE\n",
       "436       Pterodictya reticularis       FALSE\n",
       "437               Rasahus hamatus       FALSE\n",
       "438                Sephina pubera       FALSE\n",
       "439              Spartocera fusca       FALSE\n",
       "440          Stenocoris furcifera       FALSE\n",
       "441               Sundarus lugens       FALSE\n",
       "442            Teleonemia prolixa       FALSE\n",
       "443                        Bombus       FALSE\n",
       "444                       Centris       FALSE\n",
       "445                        Conura       FALSE\n",
       "446                     Eufriesea       FALSE\n",
       "447                      Euglossa       FALSE\n",
       "448                       Eulaema       FALSE\n",
       "449                      Exaerete       FALSE\n",
       "450                Frieseomelitta       FALSE\n",
       "451                      Melipona       FALSE\n",
       "452                  Nannotrigona       FALSE\n",
       "453                    Oxytrigona       FALSE\n",
       "454                     Partamona       FALSE\n",
       "455                       Plebeia       FALSE\n",
       "456                      Polistes       FALSE\n",
       "457                       Polybia       FALSE\n",
       "458                  Ptilotrigona       FALSE\n",
       "459                 Scaptotrigona       FALSE\n",
       "460                        Scaura       FALSE\n",
       "461                     Tetragona       FALSE\n",
       "462                  Tetragonisca       FALSE\n",
       "463                       Trigona       FALSE\n",
       "464                      Xylocopa       FALSE\n",
       "465              Bombus excellens       FALSE\n",
       "466               Bombus funebris       FALSE\n",
       "467             Bombus hortulanus       FALSE\n",
       "468               Bombus robustus       FALSE\n",
       "469             Bombus rubicundus       FALSE\n",
       "470           Centris erythrosara       FALSE\n",
       "471              Eufriesea lucida       FALSE\n",
       "472            Eufriesea lucifera       FALSE\n",
       "473             Eufriesea pulchra       FALSE\n",
       "474        Eufriesea surinamensis       FALSE\n",
       "475          Eufriesea venezolana       FALSE\n",
       "476             Eufriesea venusta       FALSE\n",
       "477           Euglossa allosticta       FALSE\n",
       "478            Euglossa amazonica       FALSE\n",
       "479           Euglossa asarophora       FALSE\n",
       "480        Euglossa azureoviridis       FALSE\n",
       "481           Euglossa chalybeata       FALSE\n",
       "482            Euglossa championi       FALSE\n",
       "483             Euglossa chlorina       FALSE\n",
       "484              Euglossa cognata       FALSE\n",
       "485              Euglossa cybelia       FALSE\n",
       "486            Euglossa deceptrix       FALSE\n",
       "487              Euglossa dodsoni       FALSE\n",
       "488            Euglossa dressleri       FALSE\n",
       "489              Euglossa flammea       FALSE\n",
       "490           Euglossa fuscifrons       FALSE\n",
       "491              Euglossa gibbosa       FALSE\n",
       "492          Euglossa gorgonensis       FALSE\n",
       "493               Euglossa granti       FALSE\n",
       "494              Euglossa hansoni       FALSE\n",
       "495           Euglossa hemichlora       FALSE\n",
       "496         Euglossa heterosticta       FALSE\n",
       "497               Euglossa ignita       FALSE\n",
       "498           Euglossa imperialis       FALSE\n",
       "499           Euglossa intersecta       FALSE\n",
       "500            Euglossa ioprosopa       FALSE\n",
       " [ reached 'max' / getOption(\"max.print\") -- omitted 16848 rows ]"
      ]
     },
     "execution_count": null,
     "metadata": {},
     "output_type": "execute_result"
    }
   ],
   "source": [
    "sp_names = unique(database_6$scientificName)\n",
    "uncertain_results <- map(sp_names , identify_uncert)\n",
    "uncertain_results_df <- do.call(rbind, lapply(uncertain_results, as.data.frame))\n",
    "uncertain_results_df"
   ]
  },
  {
   "cell_type": "code",
   "execution_count": 43,
   "metadata": {},
   "outputs": [
    {
     "data": {
      "text/plain": [
       "   database_id TaxonRank   class         family        genus scientificName decimalLatitude decimalLongitude                         occurrenceID\n",
       "1       BNDB_1     Genus Insecta     COLUBRIDAE        Ninia          Ninia         0.99508        -78.21735 25b0d36c-305f-4272-b1b1-cb6a1bf17444\n",
       "2       BNDB_2   Species Insecta     COLUBRIDAE        Ninia   Ninia atrata       -0.036806       -78.765028 d2414fec-7512-43d2-91a6-1f2a20ea3121\n",
       "3       BNDB_3   Species Insecta     COLUBRIDAE        Ninia   Ninia atrata       -0.069194       -78.761278 3ea86160-2170-4501-abdf-194d28cb7694\n",
       "4       BNDB_4   Species Insecta     COLUBRIDAE        Ninia   Ninia atrata       -0.033056          -78.755 de08a11c-8eac-4498-bf2d-d12f17dd0cda\n",
       "5       BNDB_5   Species Insecta     COLUBRIDAE        Ninia   Ninia atrata    -3.579464169     -79.86111617 687d5977-9225-42b8-bb03-fb06da0f5d87\n",
       "6       BNDB_8   Species Insecta     COLUBRIDAE        Ninia   Ninia atrata        0.696947       -80.018614 4cfa9151-9541-4b66-acb3-d8321739e403\n",
       "7      BNDB_16   Species Insecta     COLUBRIDAE        Ninia   Ninia atrata       -0.388433       -79.371417 6cb29b1b-6365-4247-8e54-35e94542d22e\n",
       "8      BNDB_18   Species Insecta     COLUBRIDAE        Ninia   Ninia atrata        1.185869       -78.500602 aa4e9367-45cb-4fd3-8a01-4093939d5a5b\n",
       "9      BNDB_19   Species Insecta     COLUBRIDAE        Ninia  Ninia hudsoni        -0.11335       -77.441248 6608a50e-25fc-4030-9f41-5c1b13ae2864\n",
       "10     BNDB_23     Genus Insecta Coenagrionidae Acanthagrion   Acanthagrion         -3.7562         -79.8459 690f1bb9-a950-4942-8756-78cee84eac0c\n",
       "11     BNDB_24     Genus Insecta Coenagrionidae Acanthagrion   Acanthagrion         -3.2586         -79.8709 75a5d482-5b9d-443c-a826-703dd0b73854\n",
       "12     BNDB_25     Genus Insecta Coenagrionidae Acanthagrion   Acanthagrion         -3.3282         -79.7419 c06e7988-3839-4950-a32d-7e016fad99a7\n",
       "13     BNDB_26     Genus Insecta Coenagrionidae Acanthagrion   Acanthagrion        1.172637       -78.501143 3dd3305b-9679-4081-afbd-2f11dd19992c\n",
       "14     BNDB_27     Genus Insecta Coenagrionidae Acanthagrion   Acanthagrion        1.172637       -78.501143 aa1bb922-aa49-4054-b95a-51d34cda33dc\n",
       "15     BNDB_28     Genus Insecta Coenagrionidae Acanthagrion   Acanthagrion        1.172637       -78.501143 f596a7ff-6ca4-457e-9162-8c280c5d1ca0\n",
       "16     BNDB_29     Genus Insecta Coenagrionidae Acanthagrion   Acanthagrion         -0.0166          -78.933 71e96759-6d24-4bfd-8680-3eaeba844692\n",
       "17     BNDB_30     Genus Insecta Coenagrionidae Acanthagrion   Acanthagrion         -0.0166          -78.933 523c79cc-3dbe-4255-b82c-4ee0b64dab01\n",
       "18     BNDB_31     Genus Insecta Coenagrionidae Acanthagrion   Acanthagrion        -0.01666         -78.9333 74847706-ddc4-43e5-87f5-b2b86be52130\n",
       "19     BNDB_32     Genus Insecta Coenagrionidae Acanthagrion   Acanthagrion        -3.89527         -78.8125 b38ab74b-cdc7-4083-a9c7-854d9004666b\n",
       "20     BNDB_33     Genus Insecta Coenagrionidae Acanthagrion   Acanthagrion       0.0233036      -76.7790523 a4de6a99-6fe4-4ff2-9c97-77e3e4dedd0e\n",
       "21     BNDB_34     Genus Insecta Coenagrionidae Acanthagrion   Acanthagrion      -0.2270811       -76.744133 8dfce566-80bd-449e-b0fc-09839a159a9b\n",
       "22     BNDB_35     Genus Insecta Coenagrionidae Acanthagrion   Acanthagrion       0.3466854      -76.2942829 f5c5d6d8-ee17-494a-a88a-9e56b9cb7970\n",
       "23     BNDB_36     Genus Insecta Coenagrionidae Acanthagrion   Acanthagrion       0.3941808      -76.2927804 d9567091-7bc7-4dc2-b4ba-5c3115093659\n",
       "24     BNDB_37     Genus Insecta Coenagrionidae Acanthagrion   Acanthagrion       -0.620351      -76.8894715 3c1d4445-47aa-4f0c-9f9e-35cd5e0531c2\n",
       "25     BNDB_41     Genus Insecta      Aeshnidae       Aeshna         Aeshna         -3.4802         -79.5663 fbd53a9e-1b75-4222-8dab-2550c061fd66\n",
       "26     BNDB_43     Genus Insecta      Aeshnidae       Aeshna         Aeshna        1.172637       -78.501143 69bc203b-7d8b-4b68-8375-28472c5f575b\n",
       "27     BNDB_44     Genus Insecta      Aeshnidae       Aeshna         Aeshna       -0.192157         -78.7258 65ea98ca-aa3a-4237-9f4c-d54890255a77\n",
       "28     BNDB_48     Genus Insecta      Gomphidae Agriogomphus   Agriogomphus       -0.537351       -76.768575 ba738b65-69e7-42eb-b1a6-d8e7373ff6fa\n",
       "29     BNDB_49     Genus Insecta      Gomphidae Agriogomphus   Agriogomphus       -0.537351       -76.768575 251ce750-329b-40c3-ab56-f213046f495b\n",
       "30     BNDB_50     Genus Insecta      Gomphidae Agriogomphus   Agriogomphus       -0.537351       -76.768575 5cec0355-bfb2-4ae0-ab67-34420ca0a240\n",
       "31     BNDB_51     Genus Insecta      Gomphidae Agriogomphus   Agriogomphus       -0.201853       -76.541714 5f51f9df-20a4-49a4-9259-7e508f4ac639\n",
       "32     BNDB_53     Genus Insecta      Gomphidae Agriogomphus   Agriogomphus       -0.975248         -75.6329 ade35dc1-80db-4872-985b-61ccafdb611b\n",
       "33     BNDB_54     Genus Insecta      Gomphidae Agriogomphus   Agriogomphus      -0.3978499      -76.6614819 277b8679-61aa-4502-b0bb-83b3329d31c1\n",
       "34     BNDB_55     Genus Insecta      Gomphidae Agriogomphus   Agriogomphus      -0.1416814      -76.9298749 88d7be69-f5e3-4f76-832e-f770da28a852\n",
       "35     BNDB_56     Genus Insecta      Gomphidae Agriogomphus   Agriogomphus      -0.6949878      -75.9182844 9d3e7a58-5f4e-4e89-a545-3f4f185ac91d\n",
       "36     BNDB_57     Genus Insecta      Gomphidae Agriogomphus   Agriogomphus      -0.8890765      -75.5906961 a618d134-b91a-4177-8367-958f8cdda390\n",
       "37     BNDB_58     Genus Insecta      Gomphidae Agriogomphus   Agriogomphus       0.2273146      -77.3288272 9aa64d8c-0c71-4f86-9f70-fe38b1d1cf49\n",
       "38     BNDB_59     Genus Insecta      Gomphidae Agriogomphus   Agriogomphus       0.4320199      -76.2700462 fd7bb3f2-f564-43b9-82b8-a46b689e9012\n",
       "39     BNDB_60     Genus Insecta      Gomphidae Agriogomphus   Agriogomphus      -0.0091705      -76.5819954 0d05d547-fbe4-4195-b9c6-9a7277cc73df\n",
       "40     BNDB_61     Genus Insecta      Gomphidae Agriogomphus   Agriogomphus       0.3200389      -76.2940369 4ae13447-ca7e-4319-89eb-3d5013eeed13\n",
       "41     BNDB_62     Genus Insecta      Gomphidae Agriogomphus   Agriogomphus       0.4320199      -76.2700462 a362f33d-855f-4b49-991f-3a83c37e5722\n",
       "42     BNDB_63     Genus Insecta      Gomphidae Agriogomphus   Agriogomphus       0.4103895      -76.2922529 ff075805-7940-44fe-878e-61dcf6f776d2\n",
       "43     BNDB_64     Genus Insecta      Gomphidae Agriogomphus   Agriogomphus       0.0489034      -75.9208324 3da05f90-a8a2-4cef-9a34-dfdc8725cdb5\n",
       "44     BNDB_65     Genus Insecta      Gomphidae Agriogomphus   Agriogomphus       0.0452847      -75.9394145 0bf225c6-a55c-4b20-8998-0cdfa1ac7636\n",
       "45     BNDB_66     Genus Insecta      Gomphidae Agriogomphus   Agriogomphus      -0.3864631      -76.8820479 c660dad1-81d6-479c-8d20-115de1fdb5b3\n",
       "             basisOfRecord verbatimEventDate country                     stateProvince                                               locality\n",
       "1  Esp\\xe9cimen preservado        2021-08-05 Ecuador                            Carchi                                     Reserva Dr\\xe1cula\n",
       "2  Esp\\xe9cimen preservado        2017-04-17 Ecuador                         Pichincha             Reserva Universidad San Francisco de Quito\n",
       "3  Esp\\xe9cimen preservado        2017-04-17 Ecuador                         Pichincha                             Yellow House Lodge grounds\n",
       "4  Esp\\xe9cimen preservado        2017-04-17 Ecuador                         Pichincha                             Yellow House Lodge grounds\n",
       "5  Esp\\xe9cimen preservado        2018-11-09 Ecuador                            El Oro                                             El Guayabo\n",
       "6  Esp\\xe9cimen preservado        2004-03-17 Ecuador                        Esmeraldas                                   Cresta San Francisco\n",
       "7  Esp\\xe9cimen preservado        1987-10-01 Ecuador Santo Domingo de los Ts\\xe1chilas                Km 18 en la v\\xeda Sto. Domingo - Chone\n",
       "8  Esp\\xe9cimen preservado        2009-09-01 Ecuador                            Carchi                        Transecto 1, R\\xedo San J\\xfaan\n",
       "9  Esp\\xe9cimen preservado        2013-03-14 Ecuador                      Sucumb\\xedos Proyecto Coca Codo Sinclair. Camino a casa de maquinas\n",
       "10 Esp\\xe9cimen Preservado        2015-10-22 Ecuador                            El Oro                                                   <NA>\n",
       "11 Esp\\xe9cimen Preservado        2016-10-23 Ecuador                            El Oro                                                   <NA>\n",
       "12 Esp\\xe9cimen Preservado        2016-10-23 Ecuador                            El Oro                                                   <NA>\n",
       "13 Esp\\xe9cimen Preservado        2009-09-12 Ecuador                            Carchi                                           Tobar Donoso\n",
       "14 Esp\\xe9cimen Preservado              <NA> Ecuador                            Carchi                                           Tobar Donoso\n",
       "15 Esp\\xe9cimen Preservado              <NA> Ecuador                            Carchi                                           Tobar Donoso\n",
       "16 Esp\\xe9cimen preservado        1998-03-05 Ecuador                         Pichincha                                                   MECN\n",
       "17 Esp\\xe9cimen preservado        1998-03-05 Ecuador                         Pichincha                                                   MECN\n",
       "18 Esp\\xe9cimen conservado        1999-07-26 Ecuador                        Tungurahua                                            R\\xedo Topo\n",
       "19 Esp\\xe9cimen preservado              <NA> Ecuador                  Zamora Chinchipe                                      R\\xedo Panguintza\n",
       "20       PreservesSpecemen        2022-01-21 Ecuador                      Sucumb\\xedos                                                 EL ENO\n",
       "21       PreservesSpecemen        2022-02-26 Ecuador                      Sucumb\\xedos                                            SHUSHUFINDI\n",
       "22       PreservesSpecemen        2021-10-10 Ecuador                      Sucumb\\xedos                                            SANTA ELENA\n",
       "23       PreservesSpecemen        2022-02-11 Ecuador                      Sucumb\\xedos                                            SANTA ELENA\n",
       "24       PreservesSpecemen        2021-09-21 Ecuador                          Orellana                                                 DAYUMA\n",
       "25 Esp\\xe9cimen Preservado        2015-10-30 Ecuador                            El Oro                                                   <NA>\n",
       "26 Esp\\xe9cimen Preservado        2009-09-14 Ecuador                            Carchi                                           Tobar Donoso\n",
       "27 Esp\\xe9cimen Preservado        2008-07-17 Ecuador                         Pichincha                          Lloa | R\\xedo Aff Virginia 28\n",
       "28 Esp\\xe9cimen Preservado        2016-12-11 Ecuador                          Orellana                                                Palanda\n",
       "29 Esp\\xe9cimen Preservado        2017-10-16 Ecuador                          Orellana                                                Palanda\n",
       "30 Esp\\xe9cimen Preservado        2018-07-29 Ecuador                          Orellana                                      Palanda | Taracoa\n",
       "31 Esp\\xe9cimen Preservado              <NA> Ecuador                      Sucumb\\xedos                                             La Pantera\n",
       "32 Espec\\xedmen Preservado        2021-05-05 Ecuador                          Orellana                                                   <NA>\n",
       "33       PreservesSpecemen        2022-01-11 Ecuador                          Orellana                                                POMPEYA\n",
       "34       PreservesSpecemen        2021-09-17 Ecuador                          Orellana                                      TRES DE NOVIEMBRE\n",
       "35       PreservesSpecemen        2021-11-15 Ecuador                          Orellana                         CAPIT\\xc1N AUGUSTO RIVADENEYRA\n",
       "36       PreservesSpecemen        2021-05-06 Ecuador                          Orellana                                       NUEVO ROCAFUERTE\n",
       "37       PreservesSpecemen        2022-01-20 Ecuador                      Sucumb\\xedos                                  EL DORADO DE Cascales\n",
       "38       PreservesSpecemen        2021-10-09 Ecuador                      Sucumb\\xedos                                            SANTA ELENA\n",
       "39       PreservesSpecemen        2022-03-02 Ecuador                      Sucumb\\xedos                                               PACAYACU\n",
       "40       PreservesSpecemen        2021-07-26 Ecuador                      Sucumb\\xedos                                            SANTA ELENA\n",
       "41       PreservesSpecemen        2021-10-09 Ecuador                      Sucumb\\xedos                                            SANTA ELENA\n",
       "42       PreservesSpecemen        2022-02-11 Ecuador                      Sucumb\\xedos                                            SANTA ELENA\n",
       "43       PreservesSpecemen        2021-10-05 Ecuador                      Sucumb\\xedos                          PUERTO EL CARMEN DEL Putumayo\n",
       "44       PreservesSpecemen        2022-02-11 Ecuador                      Sucumb\\xedos                          PUERTO EL CARMEN DEL Putumayo\n",
       "45       PreservesSpecemen        2021-10-03 Ecuador                          Orellana                                             SAN CARLOS\n",
       "                                             identifiedBy coordinateUncertaintyInMeters\n",
       "1                        Mario Humberto Y\\xe1nez Mu\\xf1oz                            NA\n",
       "2                        Mario Humberto Y\\xe1nez Mu\\xf1oz                            NA\n",
       "3                        Mario Humberto Y\\xe1nez Mu\\xf1oz                            NA\n",
       "4                        Mario Humberto Y\\xe1nez Mu\\xf1oz                            NA\n",
       "5                        Mario Humberto Y\\xe1nez Mu\\xf1oz                            NA\n",
       "6                        Mario Humberto Y\\xe1nez Mu\\xf1oz                            NA\n",
       "7                        Mario Humberto Y\\xe1nez Mu\\xf1oz                            NA\n",
       "8                        Mario Humberto Y\\xe1nez Mu\\xf1oz                            NA\n",
       "9  Mario Humberto Yánez Muñoz\\xe2\"?Manuel A. Morales Mite                            NA\n",
       "10                        Mauricio Gabriel Herrera Madrid                            NA\n",
       "11                                       Jonathan Aguirre                            NA\n",
       "12                        Mauricio Gabriel Herrera Madrid                            NA\n",
       "13                    Edgar Santiago Villamar\\xedn Cortez                            NA\n",
       "14                    Edgar Santiago Villamar\\xedn Cortez                            NA\n",
       "15                    Edgar Santiago Villamar\\xedn Cortez                            NA\n",
       "16                                                   <NA>                            NA\n",
       "17                                                   <NA>                            NA\n",
       "18                                                   <NA>                            NA\n",
       "19                                                   <NA>                            NA\n",
       "20                                         Valeria Granda                            NA\n",
       "21                                         Valeria Granda                            NA\n",
       "22                                         Valeria Granda                            NA\n",
       "23                                         Valeria Granda                            NA\n",
       "24                                         Valeria Granda                            NA\n",
       "25                        Mauricio Gabriel Herrera Madrid                            NA\n",
       "26                    Edgar Santiago Villamar\\xedn Cortez                            NA\n",
       "27                        Mauricio Gabriel Herrera Madrid                            NA\n",
       "28                        Mauricio Gabriel Herrera Madrid                            NA\n",
       "29                        Mauricio Gabriel Herrera Madrid                            NA\n",
       "30                        Mauricio Gabriel Herrera Madrid                            NA\n",
       "31                                         Valeria Granda                            NA\n",
       "32                                         Valeria Granda                            NA\n",
       "33                                         Valeria Granda                            NA\n",
       "34                                         Valeria Granda                            NA\n",
       "35                                         Valeria Granda                            NA\n",
       "36                                         Valeria Granda                            NA\n",
       "37                                         Valeria Granda                            NA\n",
       "38                                         Valeria Granda                            NA\n",
       "39                                         Valeria Granda                            NA\n",
       "40                                         Valeria Granda                            NA\n",
       "41                                         Valeria Granda                            NA\n",
       "42                                         Valeria Granda                            NA\n",
       "43                                         Valeria Granda                            NA\n",
       "44                                         Valeria Granda                            NA\n",
       "45                                         Valeria Granda                            NA\n",
       "                                                                          recordedBy year institutionCode database_name .coordinates_outOfRange\n",
       "1                              Julio Carri\\xf3n; Peason Mc.Groover | Callie Broaddus 2021        INABIOEC          BNDB                    TRUE\n",
       "2                                                                     Mark Wilkinson 2017        INABIOEC          BNDB                    TRUE\n",
       "3                                                                     Mark Wilkinson 2017        INABIOEC          BNDB                    TRUE\n",
       "4                                                                     Mark Wilkinson 2017        INABIOEC          BNDB                    TRUE\n",
       "5                           Miguel Andr\\xe9s Urgil\\xe9s Merch\\xe1n; Christian Paucar 2018        INABIOEC          BNDB                    TRUE\n",
       "6                                                            Mauricio Ortega Andrade 2004        INABIOEC          BNDB                    TRUE\n",
       "7                                                                 Jos\\xe9 P\\xe1rraga 1987        INABIOEC          BNDB                    TRUE\n",
       "8  Mario Humberto Y\\xe1nez Mu\\xf1oz; Luis Alfedo Oyagata Cachimuel\\xe2\"?M. Altmirano 2009        INABIOEC          BNDB                    TRUE\n",
       "9                             Manuel Morales Mite; Marco Altamirano ? Karem L\\xf3pez 2013        INABIOEC          BNDB                    TRUE\n",
       "10                 Daniel Padilla Jim\\xe9nez; Edgar Santiago Villamar\\xedn C\\xf3rtez 2015        INABIOEC          BNDB                    TRUE\n",
       "11            Sofia Isabel Trujillo Regalado; Edgar Santiago Villamar\\xedn C\\xf3rtez 2016        INABIOEC          BNDB                    TRUE\n",
       "12            Sofia Isabel Trujillo Regalado; Edgar Santiago Villamar\\xedn C\\xf3rtez 2016        INABIOEC          BNDB                    TRUE\n",
       "13                                          Edgar Santiago Villamar\\xedn Cortez; VPS 2009        INABIOEC          BNDB                    TRUE\n",
       "14                                               Edgar Santiago Villamar\\xedn Cortez 2010        INABIOEC          BNDB                    TRUE\n",
       "15                                          Edgar Santiago Villamar\\xedn Cortez; VPS 2010        INABIOEC          BNDB                    TRUE\n",
       "16                                                               Germania Est\\xe9vez 1998        INABIOEC          BNDB                    TRUE\n",
       "17                                                               Germania Est\\xe9vez 1998        INABIOEC          BNDB                    TRUE\n",
       "18                                                               Germania Est\\xe9vez 1999        INABIOEC          BNDB                    TRUE\n",
       "19                                                               Germania Est\\xe9vez 1999        INABIOEC          BNDB                    TRUE\n",
       "20                                                                Andrea Enr\\xedquez 2022        INABIOEC          BNDB                    TRUE\n",
       "21                                                                Andrea Enr\\xedquez 2022        INABIOEC          BNDB                    TRUE\n",
       "22                                                                Andrea Enr\\xedquez 2021        INABIOEC          BNDB                    TRUE\n",
       "23                                                             D. Padilla-Jim\\xe9nez 2022        INABIOEC          BNDB                    TRUE\n",
       "24                                                                    Daniel P\\xe1ez 2021        INABIOEC          BNDB                    TRUE\n",
       "25                 Daniel Padilla Jim\\xe9nez; Edgar Santiago Villamar\\xedn C\\xf3rtez 2015        INABIOEC          BNDB                    TRUE\n",
       "26                                          Edgar Santiago Villamar\\xedn Cortez; VPS 2009        INABIOEC          BNDB                    TRUE\n",
       "27                                               Edgar Santiago Villamar\\xedn Cortez 2008        INABIOEC          BNDB                    TRUE\n",
       "28                                                   Mauricio Gabriel Herrera Madrid 2016        INABIOEC          BNDB                    TRUE\n",
       "29                                                   Mauricio Gabriel Herrera Madrid 2017        INABIOEC          BNDB                    TRUE\n",
       "30                                                   Mauricio Gabriel Herrera Madrid 2018        INABIOEC          BNDB                    TRUE\n",
       "31                                                                      Pablo Araujo 2019        INABIOEC          BNDB                    TRUE\n",
       "32                                                                      Pablo Araujo 2021        INABIOEC          BNDB                    TRUE\n",
       "33                                                                Andrea Enr\\xedquez 2022        INABIOEC          BNDB                    TRUE\n",
       "34                                                                Andrea Enr\\xedquez 2021        INABIOEC          BNDB                    TRUE\n",
       "35                                                             D. Padilla-Jim\\xe9nez 2021        INABIOEC          BNDB                    TRUE\n",
       "36                                                                Andrea Enr\\xedquez 2021        INABIOEC          BNDB                    TRUE\n",
       "37                                                                      Pablo Araujo 2022        INABIOEC          BNDB                    TRUE\n",
       "38                                                                Andrea Enr\\xedquez 2021        INABIOEC          BNDB                    TRUE\n",
       "39                                                                      Pablo Araujo 2022        INABIOEC          BNDB                    TRUE\n",
       "40                                                             D. Padilla-Jim\\xe9nez 2021        INABIOEC          BNDB                    TRUE\n",
       "41                                                                Andrea Enr\\xedquez 2021        INABIOEC          BNDB                    TRUE\n",
       "42                                                             D. Padilla-Jim\\xe9nez 2022        INABIOEC          BNDB                    TRUE\n",
       "43                                                                Andrea Enr\\xedquez 2021        INABIOEC          BNDB                    TRUE\n",
       "44                                                                Andrea Enr\\xedquez 2022        INABIOEC          BNDB                    TRUE\n",
       "45                                                                      Pablo Araujo 2021        INABIOEC          BNDB                    TRUE\n",
       "   uncer_terms\n",
       "1        FALSE\n",
       "2        FALSE\n",
       "3        FALSE\n",
       "4        FALSE\n",
       "5        FALSE\n",
       "6        FALSE\n",
       "7        FALSE\n",
       "8        FALSE\n",
       "9        FALSE\n",
       "10       FALSE\n",
       "11       FALSE\n",
       "12       FALSE\n",
       "13       FALSE\n",
       "14       FALSE\n",
       "15       FALSE\n",
       "16       FALSE\n",
       "17       FALSE\n",
       "18       FALSE\n",
       "19       FALSE\n",
       "20       FALSE\n",
       "21       FALSE\n",
       "22       FALSE\n",
       "23       FALSE\n",
       "24       FALSE\n",
       "25       FALSE\n",
       "26       FALSE\n",
       "27       FALSE\n",
       "28       FALSE\n",
       "29       FALSE\n",
       "30       FALSE\n",
       "31       FALSE\n",
       "32       FALSE\n",
       "33       FALSE\n",
       "34       FALSE\n",
       "35       FALSE\n",
       "36       FALSE\n",
       "37       FALSE\n",
       "38       FALSE\n",
       "39       FALSE\n",
       "40       FALSE\n",
       "41       FALSE\n",
       "42       FALSE\n",
       "43       FALSE\n",
       "44       FALSE\n",
       "45       FALSE\n",
       " [ reached 'max' / getOption(\"max.print\") -- omitted 239291 rows ]"
      ]
     },
     "execution_count": null,
     "metadata": {},
     "output_type": "execute_result"
    }
   ],
   "source": [
    "database_7 = database_6 %>%\n",
    "  left_join(uncertain_results_df, by = c(\"scientificName\" = \"name\"))%>%\n",
    "  filter(uncer_terms == FALSE)# %>%\n",
    "  #filter(generic_only == FALSE)\n",
    "\n",
    "\n",
    "as.data.frame(database_7)"
   ]
  },
  {
   "cell_type": "code",
   "execution_count": 44,
   "metadata": {},
   "outputs": [
    {
     "data": {
      "text/plain": [
       "\u001b[38;5;246m# A tibble: 4 × 3\u001b[39m\n",
       "  database_name      n  prop\n",
       "  \u001b[3m\u001b[38;5;246m<chr>\u001b[39m\u001b[23m          \u001b[3m\u001b[38;5;246m<int>\u001b[39m\u001b[23m \u001b[3m\u001b[38;5;246m<dbl>\u001b[39m\u001b[23m\n",
       "\u001b[38;5;250m1\u001b[39m BNDB            \u001b[4m8\u001b[24m607  3.60\n",
       "\u001b[38;5;250m2\u001b[39m GBIF          \u001b[4m1\u001b[24m\u001b[4m7\u001b[24m\u001b[4m3\u001b[24m246 72.4 \n",
       "\u001b[38;5;250m3\u001b[39m IDIGBIO        \u001b[4m4\u001b[24m\u001b[4m0\u001b[24m837 17.1 \n",
       "\u001b[38;5;250m4\u001b[39m PUCE           \u001b[4m1\u001b[24m\u001b[4m6\u001b[24m646  6.96"
      ]
     },
     "execution_count": null,
     "metadata": {},
     "output_type": "execute_result"
    }
   ],
   "source": [
    "dimension_7 = database_7 %>%\n",
    "  group_by(database_name)%>%\n",
    "  count()%>%\n",
    "  ungroup()%>%\n",
    "  mutate(prop = (n/sum(n))*100)\n",
    "\n",
    "dimension_7"
   ]
  },
  {
   "cell_type": "code",
   "execution_count": 45,
   "metadata": {},
   "outputs": [
    {
     "data": {
      "text/plain": [
       "[1] 239336"
      ]
     },
     "execution_count": null,
     "metadata": {},
     "output_type": "execute_result"
    }
   ],
   "source": [
    "sum(dimension_7$n)"
   ]
  },
  {
   "cell_type": "markdown",
   "metadata": {},
   "source": [
    "## 3.8. Cleaning names"
   ]
  },
  {
   "cell_type": "code",
   "execution_count": 46,
   "metadata": {},
   "outputs": [
    {
     "name": "stdout",
     "output_type": "stream",
     "text": [
      "\n",
      ">> Family names prepended to scientific names were flagged and removed from 1 records.\n",
      ">> Terms denoting taxonomic uncertainty were flagged and removed from 0 records.\n",
      ">> Other issues, capitalizing the first letter of the generic name, replacing empty names by NA, and removing extra spaces, were flagged and corrected or removed from 1 records.\n",
      ">> Infraspecific terms were flagged and removed from 0 records.\n",
      "\n"
     ]
    }
   ],
   "source": [
    "genus_names = unique(database_7$genus)\n",
    "genus_names_clean = bdc_clean_names(\n",
    "  genus_names,\n",
    "  save_outputs = FALSE\n",
    ")"
   ]
  },
  {
   "cell_type": "code",
   "execution_count": 48,
   "metadata": {},
   "outputs": [
    {
     "data": {
      "text/plain": [
       "      scientificName .uncer_terms .infraesp_names      names_clean quality\n",
       "1              Ninia         TRUE            TRUE            Ninia       1\n",
       "2       Acanthagrion         TRUE            TRUE     Acanthagrion       1\n",
       "3             Aeshna         TRUE            TRUE           Aeshna       1\n",
       "4       Agriogomphus         TRUE            TRUE     Agriogomphus       1\n",
       "5       Alluaudomyia         TRUE            TRUE     Alluaudomyia       1\n",
       "6         Alotanypus         TRUE            TRUE       Alotanypus       1\n",
       "7           Ambrysus         TRUE            TRUE         Ambrysus       1\n",
       "8      Americabaetis         TRUE            TRUE    Americabaetis       1\n",
       "9      Amphoropsyche         TRUE            TRUE    Amphoropsyche       1\n",
       "10      Anacroneuria         TRUE            TRUE     Anacroneuria       1\n",
       "11              Anax         TRUE            TRUE             Anax       1\n",
       "12       Anchytarsus         TRUE            TRUE      Anchytarsus       1\n",
       "13         Ancyronyx         TRUE            TRUE        Ancyronyx       1\n",
       "14         Andesiops         TRUE            TRUE        Andesiops       1\n",
       "15  Anomalocosmoecus         TRUE            TRUE Anomalocosmoecus       1\n",
       "16     Anomalopsyche         TRUE            TRUE    Anomalopsyche       1\n",
       "17        Aphrosylus         TRUE            TRUE       Aphrosylus       1\n",
       "18           Aphylla         TRUE            TRUE          Aphylla       1\n",
       "19         Apobaetis         TRUE            TRUE        Apobaetis       1\n",
       "20             Argia         TRUE            TRUE            Argia       1\n",
       "21       Atanatolica         TRUE            TRUE      Atanatolica       1\n",
       "22         Atopsyche         TRUE            TRUE        Atopsyche       1\n",
       "23      Atrichopogon         TRUE            TRUE     Atrichopogon       1\n",
       "24          Aturbina         TRUE            TRUE         Aturbina       1\n",
       "25        Austrelmis         TRUE            TRUE       Austrelmis       1\n",
       "26     Austrolimnius         TRUE            TRUE    Austrolimnius       1\n",
       "27     Austrotinodes         TRUE            TRUE    Austrotinodes       1\n",
       "28          Baetodes         TRUE            TRUE         Baetodes       1\n",
       "29         Belostoma         TRUE            TRUE        Belostoma       1\n",
       "30           Berosus         TRUE            TRUE          Berosus       1\n",
       "31           Bledius         TRUE            TRUE          Bledius       1\n",
       "32       Brachymesia         TRUE            TRUE      Brachymesia       1\n",
       "33       Brachymetra         TRUE            TRUE      Brachymetra       1\n",
       "34     Brasilocaenis         TRUE            TRUE    Brasilocaenis       1\n",
       "35      Brechmorhoga         TRUE            TRUE     Brechmorhoga       1\n",
       "36            Buenoa         TRUE            TRUE           Buenoa       1\n",
       "37           Cabecar         TRUE            TRUE          Cabecar       1\n",
       "38            Caenis         TRUE            TRUE           Caenis       1\n",
       "39          Cailloma         TRUE            TRUE         Cailloma       1\n",
       "40       Callibaetis         TRUE            TRUE      Callibaetis       1\n",
       "41   Camelobaetidius         TRUE            TRUE  Camelobaetidius       1\n",
       "42         Campsurus         TRUE            TRUE        Campsurus       1\n",
       "43        Campylocia         TRUE            TRUE       Campylocia       1\n",
       "44            Celina         TRUE            TRUE           Celina       1\n",
       "45      Centrocorisa         TRUE            TRUE     Centrocorisa       1\n",
       "46   Centromacronema         TRUE            TRUE  Centromacronema       1\n",
       "47      Cercobrachys         TRUE            TRUE     Cercobrachys       1\n",
       "48             Chane         TRUE            TRUE            Chane       1\n",
       "49         Chelifera         TRUE            TRUE        Chelifera       1\n",
       "50          Chimarra         TRUE            TRUE         Chimarra       1\n",
       "51        Chironomus         TRUE            TRUE       Chironomus       1\n",
       "52      Claudioperla         TRUE            TRUE     Claudioperla       1\n",
       "53         Clinocera         TRUE            TRUE        Clinocera       1\n",
       "54          Cloeodes         TRUE            TRUE         Cloeodes       1\n",
       "55           Clogmia         TRUE            TRUE          Clogmia       1\n",
       "56          Contulma         TRUE            TRUE         Contulma       1\n",
       "57         Copelatus         TRUE            TRUE        Copelatus       1\n",
       "58            Corixa         TRUE            TRUE           Corixa       1\n",
       "59         Corydalus         TRUE            TRUE        Corydalus       1\n",
       "60       Corynoneura         TRUE            TRUE      Corynoneura       1\n",
       "61     Coryphaeschna         TRUE            TRUE    Coryphaeschna       1\n",
       "62        Coryphorus         TRUE            TRUE       Coryphorus       1\n",
       "63          Crenitis         TRUE            TRUE         Crenitis       1\n",
       "64        Cricotopus         TRUE            TRUE       Cricotopus       1\n",
       "65      Cryphocricos         TRUE            TRUE     Cryphocricos       1\n",
       "66      Cryptonympha         TRUE            TRUE     Cryptonympha       1\n",
       "67             Culex         TRUE            TRUE            Culex       1\n",
       "68         Culoptila         TRUE            TRUE        Culoptila       1\n",
       "69   Cylindrostethus         TRUE            TRUE  Cylindrostethus       1\n",
       "70         Cylloepus         TRUE            TRUE        Cylloepus       1\n",
       "71            Cyphon         TRUE            TRUE           Cyphon       1\n",
       "72         Cyrnellus         TRUE            TRUE        Cyrnellus       1\n",
       "73          Derallus         TRUE            TRUE         Derallus       1\n",
       "74     Dicrotendipes         TRUE            TRUE    Dicrotendipes       1\n",
       "75          Dineutus         TRUE            TRUE         Dineutus       1\n",
       "76          Disersus         TRUE            TRUE         Disersus       1\n",
       "77           Dixella         TRUE            TRUE          Dixella       1\n",
       "78           Donacia         TRUE            TRUE          Donacia       1\n",
       "79      Dromogomphus         TRUE            TRUE     Dromogomphus       1\n",
       "80            Dryops         TRUE            TRUE           Dryops       1\n",
       "81          Dythemis         TRUE            TRUE         Dythemis       1\n",
       "82       Ecuaphlebia         TRUE            TRUE      Ecuaphlebia       1\n",
       "83      Elasmothemis         TRUE            TRUE     Elasmothemis       1\n",
       "84              Elga         TRUE            TRUE             Elga       1\n",
       "85            Elodes         TRUE            TRUE           Elodes       1\n",
       "86          Enochrus         TRUE            TRUE         Enochrus       1\n",
       "87        Epigomphus         TRUE            TRUE       Epigomphus       1\n",
       "88         Erythemis         TRUE            TRUE        Erythemis       1\n",
       "89     Erythrodiplax         TRUE            TRUE    Erythrodiplax       1\n",
       "90       Eulimnichus         TRUE            TRUE      Eulimnichus       1\n",
       "91        Eurygerris         TRUE            TRUE       Eurygerris       1\n",
       "92       Euthyplocia         TRUE            TRUE      Euthyplocia       1\n",
       "93          Fallceon         TRUE            TRUE         Fallceon       1\n",
       "94          Farrodes         TRUE            TRUE         Farrodes       1\n",
       "95     Fletcherimyia         TRUE            TRUE    Fletcherimyia       1\n",
       "96      Gelastocoris         TRUE            TRUE     Gelastocoris       1\n",
       "97        Gigantodax         TRUE            TRUE       Gigantodax       1\n",
       "98       Grumichella         TRUE            TRUE      Grumichella       1\n",
       "99        Guajirolus         TRUE            TRUE       Guajirolus       1\n",
       "100         Gyrelmis         TRUE            TRUE         Gyrelmis       1\n",
       "101          Gyretes         TRUE            TRUE          Gyretes       1\n",
       "102          Gyrinus         TRUE            TRUE          Gyrinus       1\n",
       "103     Hagenulopsis         TRUE            TRUE     Hagenulopsis       1\n",
       "104     Halobatopsis         TRUE            TRUE     Halobatopsis       1\n",
       "105      Haplohyphes         TRUE            TRUE      Haplohyphes       1\n",
       "106       Harnischia         TRUE            TRUE       Harnischia       1\n",
       "107           Hebrus         TRUE            TRUE           Hebrus       1\n",
       "108         Helichus         TRUE            TRUE         Helichus       1\n",
       "109     Helicopsyche         TRUE            TRUE     Helicopsyche       1\n",
       "110       Helochares         TRUE            TRUE       Helochares       1\n",
       "111     Hemerodromia         TRUE            TRUE     Hemerodromia       1\n",
       "112         Hemiosus         TRUE            TRUE         Hemiosus       1\n",
       "113        Hetaerina         TRUE            TRUE        Hetaerina       1\n",
       "114      Heteragrion         TRUE            TRUE      Heteragrion       1\n",
       "115       Heterelmis         TRUE            TRUE       Heterelmis       1\n",
       "116     Heterlimnius         TRUE            TRUE     Heterlimnius       1\n",
       "117     Heterocorixa         TRUE            TRUE     Heterocorixa       1\n",
       "118    Hexacylloepus         TRUE            TRUE    Hexacylloepus       1\n",
       "119      Hexanchorus         TRUE            TRUE      Hexanchorus       1\n",
       "120         Hexatoma         TRUE            TRUE         Hexatoma       1\n",
       "121      Hudsonimyia         TRUE            TRUE      Hudsonimyia       1\n",
       "122       Huleechius         TRUE            TRUE       Huleechius       1\n",
       "123       Hydrometra         TRUE            TRUE       Hydrometra       1\n",
       "124       Hydroptila         TRUE            TRUE       Hydroptila       1\n",
       "125    Hydrosmilodon         TRUE            TRUE    Hydrosmilodon       1\n",
       "126         Ischnura         TRUE            TRUE         Ischnura       1\n",
       "127       Laccodytes         TRUE            TRUE       Laccodytes       1\n",
       "128      Laccophilus         TRUE            TRUE      Laccophilus       1\n",
       "129        Lachlania         TRUE            TRUE        Lachlania       1\n",
       "130           Larsia         TRUE            TRUE           Larsia       1\n",
       "131      Lepidostoma         TRUE            TRUE      Lepidostoma       1\n",
       "132      Leptohyphes         TRUE            TRUE      Leptohyphes       1\n",
       "133        Leptonema         TRUE            TRUE        Leptonema       1\n",
       "134     Leucotrichia         TRUE            TRUE     Leucotrichia       1\n",
       "135        Libellula         TRUE            TRUE        Libellula       1\n",
       "136     Limnobatodes         TRUE            TRUE     Limnobatodes       1\n",
       "137       Limnocoris         TRUE            TRUE       Limnocoris       1\n",
       "138       Limnogonus         TRUE            TRUE       Limnogonus       1\n",
       "139       Limnophora         TRUE            TRUE       Limnophora       1\n",
       "140       Limonicola         TRUE            TRUE       Limonicola       1\n",
       "141            Lispe         TRUE            TRUE            Lispe       1\n",
       "142     Lopescladius         TRUE            TRUE     Lopescladius       1\n",
       "143       Luchoelmis         TRUE            TRUE       Luchoelmis       1\n",
       "144        Lutrochus         TRUE            TRUE        Lutrochus       1\n",
       "145        Macrelmis         TRUE            TRUE        Macrelmis       1\n",
       "146        Macronema         TRUE            TRUE        Macronema       1\n",
       "147      Macrostemum         TRUE            TRUE      Macrostemum       1\n",
       "148      Macrothemis         TRUE            TRUE      Macrothemis       1\n",
       "149       Macrovelia         TRUE            TRUE       Macrovelia       1\n",
       "150          Marilia         TRUE            TRUE          Marilia       1\n",
       "151        Martarega         TRUE            TRUE        Martarega       1\n",
       "152          Maruina         TRUE            TRUE          Maruina       1\n",
       "153      Mayatrichia         TRUE            TRUE      Mayatrichia       1\n",
       "154       Mayobaetis         TRUE            TRUE       Mayobaetis       1\n",
       "155    Mecistogaster         TRUE            TRUE    Mecistogaster       1\n",
       "156    Megapodagrion         TRUE            TRUE    Megapodagrion       1\n",
       "157        Mesovelia         TRUE            TRUE        Mesovelia       1\n",
       "158     Mesoveloidea         TRUE            TRUE     Mesoveloidea       1\n",
       "159        Metrichia         TRUE            TRUE        Metrichia       1\n",
       "160       Metrobates         TRUE            TRUE       Metrobates       1\n",
       "161        Miathyria         TRUE            TRUE        Miathyria       1\n",
       "162     Micracanthia         TRUE            TRUE     Micracanthia       1\n",
       "163        Microcara         TRUE            TRUE        Microcara       1\n",
       "164   Microcylloepus         TRUE            TRUE   Microcylloepus       1\n",
       "165       Microvelia         TRUE            TRUE       Microvelia       1\n",
       "166        Miroculis         TRUE            TRUE        Miroculis       1\n",
       "167       Molophilus         TRUE            TRUE       Molophilus       1\n",
       "168       Moribaetis         TRUE            TRUE       Moribaetis       1\n",
       "169      Mortoniella         TRUE            TRUE      Mortoniella       1\n",
       "170          Nanomis         TRUE            TRUE          Nanomis       1\n",
       "171      Nectopsyche         TRUE            TRUE      Nectopsyche       1\n",
       "172      Needhamella         TRUE            TRUE      Needhamella       1\n",
       "173     Neocylloepus         TRUE            TRUE     Neocylloepus       1\n",
       "174         Neoelmis         TRUE            TRUE         Neoelmis       1\n",
       "175        Neogerris         TRUE            TRUE        Neogerris       1\n",
       "176        Neoplasta         TRUE            TRUE        Neoplasta       1\n",
       "177          Nerthra         TRUE            TRUE          Nerthra       1\n",
       "178         Notelmis         TRUE            TRUE         Notelmis       1\n",
       "179        Notonecta         TRUE            TRUE        Notonecta       1\n",
       "180     Ochrotrichia         TRUE            TRUE     Ochrotrichia       1\n",
       "181      Ocyochterus         TRUE            TRUE      Ocyochterus       1\n",
       "182       Odontomyia         TRUE            TRUE       Odontomyia       1\n",
       "183          Oecetis         TRUE            TRUE          Oecetis       1\n",
       "184       Oligoclada         TRUE            TRUE       Oligoclada       1\n",
       "185        Onconeura         TRUE            TRUE        Onconeura       1\n",
       "186       Onychelmis         TRUE            TRUE       Onychelmis       1\n",
       "187         Orthemis         TRUE            TRUE         Orthemis       1\n",
       "188       Ovatametra         TRUE            TRUE       Ovatametra       1\n",
       "189        Oxyethira         TRUE            TRUE        Oxyethira       1\n",
       "190       Palaemnema         TRUE            TRUE       Palaemnema       1\n",
       "191        Palpomyia         TRUE            TRUE        Palpomyia       1\n",
       "192       Paltostoma         TRUE            TRUE       Paltostoma       1\n",
       "193          Pantala         TRUE            TRUE          Pantala       1\n",
       "194     Paracloeodes         TRUE            TRUE     Paracloeodes       1\n",
       "195        Paracymus         TRUE            TRUE        Paracymus       1\n",
       "196 Parametriocnemus         TRUE            TRUE Parametriocnemus       1\n",
       "197        Parapoynx         TRUE            TRUE        Parapoynx       1\n",
       "198        Parochlus         TRUE            TRUE        Parochlus       1\n",
       "199          Parydra         TRUE            TRUE          Parydra       1\n",
       "200        Pelocoris         TRUE            TRUE        Pelocoris       1\n",
       " [ reached 'max' / getOption(\"max.print\") -- omitted 5092 rows ]"
      ]
     },
     "execution_count": null,
     "metadata": {},
     "output_type": "execute_result"
    }
   ],
   "source": [
    "as.data.frame(genus_names_clean)"
   ]
  },
  {
   "cell_type": "markdown",
   "metadata": {},
   "source": [
    "0 → Not interpretable (name could not be parsed).\n",
    "\n",
    "1 → No problems detected (clean, valid name).\n",
    "\n",
    "2 → Minor issues (uncertainty terms or small variants, but cleaned successfully).\n",
    "\n",
    "3 → Moderate issues (complex authorship, ambiguous notation, partially resolved).\n",
    "\n",
    "4 → Serious problems (multiple inconsistencies, requires manual review)."
   ]
  },
  {
   "cell_type": "code",
   "execution_count": 50,
   "metadata": {},
   "outputs": [
    {
     "data": {
      "image/png": "[encoded data removed]"
     },
     "metadata": {},
     "output_type": "display_data"
    }
   ],
   "source": [
    "hist(genus_names_clean$quality)"
   ]
  },
  {
   "cell_type": "markdown",
   "metadata": {},
   "source": [
    "Join clean scientific names with dataframe with all date"
   ]
  },
  {
   "cell_type": "code",
   "execution_count": 53,
   "metadata": {},
   "outputs": [
    {
     "data": {
      "text/plain": [
       "   database_id TaxonRank   class         family        genus scientificName decimalLatitude decimalLongitude                         occurrenceID\n",
       "1       BNDB_1     Genus Insecta     COLUBRIDAE        Ninia          Ninia         0.99508        -78.21735 25b0d36c-305f-4272-b1b1-cb6a1bf17444\n",
       "2       BNDB_2   Species Insecta     COLUBRIDAE        Ninia   Ninia atrata       -0.036806       -78.765028 d2414fec-7512-43d2-91a6-1f2a20ea3121\n",
       "3       BNDB_3   Species Insecta     COLUBRIDAE        Ninia   Ninia atrata       -0.069194       -78.761278 3ea86160-2170-4501-abdf-194d28cb7694\n",
       "4       BNDB_4   Species Insecta     COLUBRIDAE        Ninia   Ninia atrata       -0.033056          -78.755 de08a11c-8eac-4498-bf2d-d12f17dd0cda\n",
       "5       BNDB_5   Species Insecta     COLUBRIDAE        Ninia   Ninia atrata    -3.579464169     -79.86111617 687d5977-9225-42b8-bb03-fb06da0f5d87\n",
       "6       BNDB_8   Species Insecta     COLUBRIDAE        Ninia   Ninia atrata        0.696947       -80.018614 4cfa9151-9541-4b66-acb3-d8321739e403\n",
       "7      BNDB_16   Species Insecta     COLUBRIDAE        Ninia   Ninia atrata       -0.388433       -79.371417 6cb29b1b-6365-4247-8e54-35e94542d22e\n",
       "8      BNDB_18   Species Insecta     COLUBRIDAE        Ninia   Ninia atrata        1.185869       -78.500602 aa4e9367-45cb-4fd3-8a01-4093939d5a5b\n",
       "9      BNDB_19   Species Insecta     COLUBRIDAE        Ninia  Ninia hudsoni        -0.11335       -77.441248 6608a50e-25fc-4030-9f41-5c1b13ae2864\n",
       "10     BNDB_23     Genus Insecta Coenagrionidae Acanthagrion   Acanthagrion         -3.7562         -79.8459 690f1bb9-a950-4942-8756-78cee84eac0c\n",
       "11     BNDB_24     Genus Insecta Coenagrionidae Acanthagrion   Acanthagrion         -3.2586         -79.8709 75a5d482-5b9d-443c-a826-703dd0b73854\n",
       "12     BNDB_25     Genus Insecta Coenagrionidae Acanthagrion   Acanthagrion         -3.3282         -79.7419 c06e7988-3839-4950-a32d-7e016fad99a7\n",
       "13     BNDB_26     Genus Insecta Coenagrionidae Acanthagrion   Acanthagrion        1.172637       -78.501143 3dd3305b-9679-4081-afbd-2f11dd19992c\n",
       "14     BNDB_27     Genus Insecta Coenagrionidae Acanthagrion   Acanthagrion        1.172637       -78.501143 aa1bb922-aa49-4054-b95a-51d34cda33dc\n",
       "15     BNDB_28     Genus Insecta Coenagrionidae Acanthagrion   Acanthagrion        1.172637       -78.501143 f596a7ff-6ca4-457e-9162-8c280c5d1ca0\n",
       "16     BNDB_29     Genus Insecta Coenagrionidae Acanthagrion   Acanthagrion         -0.0166          -78.933 71e96759-6d24-4bfd-8680-3eaeba844692\n",
       "17     BNDB_30     Genus Insecta Coenagrionidae Acanthagrion   Acanthagrion         -0.0166          -78.933 523c79cc-3dbe-4255-b82c-4ee0b64dab01\n",
       "18     BNDB_31     Genus Insecta Coenagrionidae Acanthagrion   Acanthagrion        -0.01666         -78.9333 74847706-ddc4-43e5-87f5-b2b86be52130\n",
       "19     BNDB_32     Genus Insecta Coenagrionidae Acanthagrion   Acanthagrion        -3.89527         -78.8125 b38ab74b-cdc7-4083-a9c7-854d9004666b\n",
       "20     BNDB_33     Genus Insecta Coenagrionidae Acanthagrion   Acanthagrion       0.0233036      -76.7790523 a4de6a99-6fe4-4ff2-9c97-77e3e4dedd0e\n",
       "21     BNDB_34     Genus Insecta Coenagrionidae Acanthagrion   Acanthagrion      -0.2270811       -76.744133 8dfce566-80bd-449e-b0fc-09839a159a9b\n",
       "22     BNDB_35     Genus Insecta Coenagrionidae Acanthagrion   Acanthagrion       0.3466854      -76.2942829 f5c5d6d8-ee17-494a-a88a-9e56b9cb7970\n",
       "23     BNDB_36     Genus Insecta Coenagrionidae Acanthagrion   Acanthagrion       0.3941808      -76.2927804 d9567091-7bc7-4dc2-b4ba-5c3115093659\n",
       "24     BNDB_37     Genus Insecta Coenagrionidae Acanthagrion   Acanthagrion       -0.620351      -76.8894715 3c1d4445-47aa-4f0c-9f9e-35cd5e0531c2\n",
       "25     BNDB_41     Genus Insecta      Aeshnidae       Aeshna         Aeshna         -3.4802         -79.5663 fbd53a9e-1b75-4222-8dab-2550c061fd66\n",
       "26     BNDB_43     Genus Insecta      Aeshnidae       Aeshna         Aeshna        1.172637       -78.501143 69bc203b-7d8b-4b68-8375-28472c5f575b\n",
       "27     BNDB_44     Genus Insecta      Aeshnidae       Aeshna         Aeshna       -0.192157         -78.7258 65ea98ca-aa3a-4237-9f4c-d54890255a77\n",
       "28     BNDB_48     Genus Insecta      Gomphidae Agriogomphus   Agriogomphus       -0.537351       -76.768575 ba738b65-69e7-42eb-b1a6-d8e7373ff6fa\n",
       "29     BNDB_49     Genus Insecta      Gomphidae Agriogomphus   Agriogomphus       -0.537351       -76.768575 251ce750-329b-40c3-ab56-f213046f495b\n",
       "30     BNDB_50     Genus Insecta      Gomphidae Agriogomphus   Agriogomphus       -0.537351       -76.768575 5cec0355-bfb2-4ae0-ab67-34420ca0a240\n",
       "31     BNDB_51     Genus Insecta      Gomphidae Agriogomphus   Agriogomphus       -0.201853       -76.541714 5f51f9df-20a4-49a4-9259-7e508f4ac639\n",
       "32     BNDB_53     Genus Insecta      Gomphidae Agriogomphus   Agriogomphus       -0.975248         -75.6329 ade35dc1-80db-4872-985b-61ccafdb611b\n",
       "33     BNDB_54     Genus Insecta      Gomphidae Agriogomphus   Agriogomphus      -0.3978499      -76.6614819 277b8679-61aa-4502-b0bb-83b3329d31c1\n",
       "34     BNDB_55     Genus Insecta      Gomphidae Agriogomphus   Agriogomphus      -0.1416814      -76.9298749 88d7be69-f5e3-4f76-832e-f770da28a852\n",
       "35     BNDB_56     Genus Insecta      Gomphidae Agriogomphus   Agriogomphus      -0.6949878      -75.9182844 9d3e7a58-5f4e-4e89-a545-3f4f185ac91d\n",
       "36     BNDB_57     Genus Insecta      Gomphidae Agriogomphus   Agriogomphus      -0.8890765      -75.5906961 a618d134-b91a-4177-8367-958f8cdda390\n",
       "37     BNDB_58     Genus Insecta      Gomphidae Agriogomphus   Agriogomphus       0.2273146      -77.3288272 9aa64d8c-0c71-4f86-9f70-fe38b1d1cf49\n",
       "38     BNDB_59     Genus Insecta      Gomphidae Agriogomphus   Agriogomphus       0.4320199      -76.2700462 fd7bb3f2-f564-43b9-82b8-a46b689e9012\n",
       "             basisOfRecord verbatimEventDate country                     stateProvince                                               locality\n",
       "1  Esp\\xe9cimen preservado        2021-08-05 Ecuador                            Carchi                                     Reserva Dr\\xe1cula\n",
       "2  Esp\\xe9cimen preservado        2017-04-17 Ecuador                         Pichincha             Reserva Universidad San Francisco de Quito\n",
       "3  Esp\\xe9cimen preservado        2017-04-17 Ecuador                         Pichincha                             Yellow House Lodge grounds\n",
       "4  Esp\\xe9cimen preservado        2017-04-17 Ecuador                         Pichincha                             Yellow House Lodge grounds\n",
       "5  Esp\\xe9cimen preservado        2018-11-09 Ecuador                            El Oro                                             El Guayabo\n",
       "6  Esp\\xe9cimen preservado        2004-03-17 Ecuador                        Esmeraldas                                   Cresta San Francisco\n",
       "7  Esp\\xe9cimen preservado        1987-10-01 Ecuador Santo Domingo de los Ts\\xe1chilas                Km 18 en la v\\xeda Sto. Domingo - Chone\n",
       "8  Esp\\xe9cimen preservado        2009-09-01 Ecuador                            Carchi                        Transecto 1, R\\xedo San J\\xfaan\n",
       "9  Esp\\xe9cimen preservado        2013-03-14 Ecuador                      Sucumb\\xedos Proyecto Coca Codo Sinclair. Camino a casa de maquinas\n",
       "10 Esp\\xe9cimen Preservado        2015-10-22 Ecuador                            El Oro                                                   <NA>\n",
       "11 Esp\\xe9cimen Preservado        2016-10-23 Ecuador                            El Oro                                                   <NA>\n",
       "12 Esp\\xe9cimen Preservado        2016-10-23 Ecuador                            El Oro                                                   <NA>\n",
       "13 Esp\\xe9cimen Preservado        2009-09-12 Ecuador                            Carchi                                           Tobar Donoso\n",
       "14 Esp\\xe9cimen Preservado              <NA> Ecuador                            Carchi                                           Tobar Donoso\n",
       "15 Esp\\xe9cimen Preservado              <NA> Ecuador                            Carchi                                           Tobar Donoso\n",
       "16 Esp\\xe9cimen preservado        1998-03-05 Ecuador                         Pichincha                                                   MECN\n",
       "17 Esp\\xe9cimen preservado        1998-03-05 Ecuador                         Pichincha                                                   MECN\n",
       "18 Esp\\xe9cimen conservado        1999-07-26 Ecuador                        Tungurahua                                            R\\xedo Topo\n",
       "19 Esp\\xe9cimen preservado              <NA> Ecuador                  Zamora Chinchipe                                      R\\xedo Panguintza\n",
       "20       PreservesSpecemen        2022-01-21 Ecuador                      Sucumb\\xedos                                                 EL ENO\n",
       "21       PreservesSpecemen        2022-02-26 Ecuador                      Sucumb\\xedos                                            SHUSHUFINDI\n",
       "22       PreservesSpecemen        2021-10-10 Ecuador                      Sucumb\\xedos                                            SANTA ELENA\n",
       "23       PreservesSpecemen        2022-02-11 Ecuador                      Sucumb\\xedos                                            SANTA ELENA\n",
       "24       PreservesSpecemen        2021-09-21 Ecuador                          Orellana                                                 DAYUMA\n",
       "25 Esp\\xe9cimen Preservado        2015-10-30 Ecuador                            El Oro                                                   <NA>\n",
       "26 Esp\\xe9cimen Preservado        2009-09-14 Ecuador                            Carchi                                           Tobar Donoso\n",
       "27 Esp\\xe9cimen Preservado        2008-07-17 Ecuador                         Pichincha                          Lloa | R\\xedo Aff Virginia 28\n",
       "28 Esp\\xe9cimen Preservado        2016-12-11 Ecuador                          Orellana                                                Palanda\n",
       "29 Esp\\xe9cimen Preservado        2017-10-16 Ecuador                          Orellana                                                Palanda\n",
       "30 Esp\\xe9cimen Preservado        2018-07-29 Ecuador                          Orellana                                      Palanda | Taracoa\n",
       "31 Esp\\xe9cimen Preservado              <NA> Ecuador                      Sucumb\\xedos                                             La Pantera\n",
       "32 Espec\\xedmen Preservado        2021-05-05 Ecuador                          Orellana                                                   <NA>\n",
       "33       PreservesSpecemen        2022-01-11 Ecuador                          Orellana                                                POMPEYA\n",
       "34       PreservesSpecemen        2021-09-17 Ecuador                          Orellana                                      TRES DE NOVIEMBRE\n",
       "35       PreservesSpecemen        2021-11-15 Ecuador                          Orellana                         CAPIT\\xc1N AUGUSTO RIVADENEYRA\n",
       "36       PreservesSpecemen        2021-05-06 Ecuador                          Orellana                                       NUEVO ROCAFUERTE\n",
       "37       PreservesSpecemen        2022-01-20 Ecuador                      Sucumb\\xedos                                  EL DORADO DE Cascales\n",
       "38       PreservesSpecemen        2021-10-09 Ecuador                      Sucumb\\xedos                                            SANTA ELENA\n",
       "                                             identifiedBy coordinateUncertaintyInMeters\n",
       "1                        Mario Humberto Y\\xe1nez Mu\\xf1oz                            NA\n",
       "2                        Mario Humberto Y\\xe1nez Mu\\xf1oz                            NA\n",
       "3                        Mario Humberto Y\\xe1nez Mu\\xf1oz                            NA\n",
       "4                        Mario Humberto Y\\xe1nez Mu\\xf1oz                            NA\n",
       "5                        Mario Humberto Y\\xe1nez Mu\\xf1oz                            NA\n",
       "6                        Mario Humberto Y\\xe1nez Mu\\xf1oz                            NA\n",
       "7                        Mario Humberto Y\\xe1nez Mu\\xf1oz                            NA\n",
       "8                        Mario Humberto Y\\xe1nez Mu\\xf1oz                            NA\n",
       "9  Mario Humberto Yánez Muñoz\\xe2\"?Manuel A. Morales Mite                            NA\n",
       "10                        Mauricio Gabriel Herrera Madrid                            NA\n",
       "11                                       Jonathan Aguirre                            NA\n",
       "12                        Mauricio Gabriel Herrera Madrid                            NA\n",
       "13                    Edgar Santiago Villamar\\xedn Cortez                            NA\n",
       "14                    Edgar Santiago Villamar\\xedn Cortez                            NA\n",
       "15                    Edgar Santiago Villamar\\xedn Cortez                            NA\n",
       "16                                                   <NA>                            NA\n",
       "17                                                   <NA>                            NA\n",
       "18                                                   <NA>                            NA\n",
       "19                                                   <NA>                            NA\n",
       "20                                         Valeria Granda                            NA\n",
       "21                                         Valeria Granda                            NA\n",
       "22                                         Valeria Granda                            NA\n",
       "23                                         Valeria Granda                            NA\n",
       "24                                         Valeria Granda                            NA\n",
       "25                        Mauricio Gabriel Herrera Madrid                            NA\n",
       "26                    Edgar Santiago Villamar\\xedn Cortez                            NA\n",
       "27                        Mauricio Gabriel Herrera Madrid                            NA\n",
       "28                        Mauricio Gabriel Herrera Madrid                            NA\n",
       "29                        Mauricio Gabriel Herrera Madrid                            NA\n",
       "30                        Mauricio Gabriel Herrera Madrid                            NA\n",
       "31                                         Valeria Granda                            NA\n",
       "32                                         Valeria Granda                            NA\n",
       "33                                         Valeria Granda                            NA\n",
       "34                                         Valeria Granda                            NA\n",
       "35                                         Valeria Granda                            NA\n",
       "36                                         Valeria Granda                            NA\n",
       "37                                         Valeria Granda                            NA\n",
       "38                                         Valeria Granda                            NA\n",
       "                                                                          recordedBy year institutionCode database_name .coordinates_outOfRange\n",
       "1                              Julio Carri\\xf3n; Peason Mc.Groover | Callie Broaddus 2021        INABIOEC          BNDB                    TRUE\n",
       "2                                                                     Mark Wilkinson 2017        INABIOEC          BNDB                    TRUE\n",
       "3                                                                     Mark Wilkinson 2017        INABIOEC          BNDB                    TRUE\n",
       "4                                                                     Mark Wilkinson 2017        INABIOEC          BNDB                    TRUE\n",
       "5                           Miguel Andr\\xe9s Urgil\\xe9s Merch\\xe1n; Christian Paucar 2018        INABIOEC          BNDB                    TRUE\n",
       "6                                                            Mauricio Ortega Andrade 2004        INABIOEC          BNDB                    TRUE\n",
       "7                                                                 Jos\\xe9 P\\xe1rraga 1987        INABIOEC          BNDB                    TRUE\n",
       "8  Mario Humberto Y\\xe1nez Mu\\xf1oz; Luis Alfedo Oyagata Cachimuel\\xe2\"?M. Altmirano 2009        INABIOEC          BNDB                    TRUE\n",
       "9                             Manuel Morales Mite; Marco Altamirano ? Karem L\\xf3pez 2013        INABIOEC          BNDB                    TRUE\n",
       "10                 Daniel Padilla Jim\\xe9nez; Edgar Santiago Villamar\\xedn C\\xf3rtez 2015        INABIOEC          BNDB                    TRUE\n",
       "11            Sofia Isabel Trujillo Regalado; Edgar Santiago Villamar\\xedn C\\xf3rtez 2016        INABIOEC          BNDB                    TRUE\n",
       "12            Sofia Isabel Trujillo Regalado; Edgar Santiago Villamar\\xedn C\\xf3rtez 2016        INABIOEC          BNDB                    TRUE\n",
       "13                                          Edgar Santiago Villamar\\xedn Cortez; VPS 2009        INABIOEC          BNDB                    TRUE\n",
       "14                                               Edgar Santiago Villamar\\xedn Cortez 2010        INABIOEC          BNDB                    TRUE\n",
       "15                                          Edgar Santiago Villamar\\xedn Cortez; VPS 2010        INABIOEC          BNDB                    TRUE\n",
       "16                                                               Germania Est\\xe9vez 1998        INABIOEC          BNDB                    TRUE\n",
       "17                                                               Germania Est\\xe9vez 1998        INABIOEC          BNDB                    TRUE\n",
       "18                                                               Germania Est\\xe9vez 1999        INABIOEC          BNDB                    TRUE\n",
       "19                                                               Germania Est\\xe9vez 1999        INABIOEC          BNDB                    TRUE\n",
       "20                                                                Andrea Enr\\xedquez 2022        INABIOEC          BNDB                    TRUE\n",
       "21                                                                Andrea Enr\\xedquez 2022        INABIOEC          BNDB                    TRUE\n",
       "22                                                                Andrea Enr\\xedquez 2021        INABIOEC          BNDB                    TRUE\n",
       "23                                                             D. Padilla-Jim\\xe9nez 2022        INABIOEC          BNDB                    TRUE\n",
       "24                                                                    Daniel P\\xe1ez 2021        INABIOEC          BNDB                    TRUE\n",
       "25                 Daniel Padilla Jim\\xe9nez; Edgar Santiago Villamar\\xedn C\\xf3rtez 2015        INABIOEC          BNDB                    TRUE\n",
       "26                                          Edgar Santiago Villamar\\xedn Cortez; VPS 2009        INABIOEC          BNDB                    TRUE\n",
       "27                                               Edgar Santiago Villamar\\xedn Cortez 2008        INABIOEC          BNDB                    TRUE\n",
       "28                                                   Mauricio Gabriel Herrera Madrid 2016        INABIOEC          BNDB                    TRUE\n",
       "29                                                   Mauricio Gabriel Herrera Madrid 2017        INABIOEC          BNDB                    TRUE\n",
       "30                                                   Mauricio Gabriel Herrera Madrid 2018        INABIOEC          BNDB                    TRUE\n",
       "31                                                                      Pablo Araujo 2019        INABIOEC          BNDB                    TRUE\n",
       "32                                                                      Pablo Araujo 2021        INABIOEC          BNDB                    TRUE\n",
       "33                                                                Andrea Enr\\xedquez 2022        INABIOEC          BNDB                    TRUE\n",
       "34                                                                Andrea Enr\\xedquez 2021        INABIOEC          BNDB                    TRUE\n",
       "35                                                             D. Padilla-Jim\\xe9nez 2021        INABIOEC          BNDB                    TRUE\n",
       "36                                                                Andrea Enr\\xedquez 2021        INABIOEC          BNDB                    TRUE\n",
       "37                                                                      Pablo Araujo 2022        INABIOEC          BNDB                    TRUE\n",
       "38                                                                Andrea Enr\\xedquez 2021        INABIOEC          BNDB                    TRUE\n",
       "   uncer_terms .uncer_terms .infraesp_names  names_clean quality\n",
       "1        FALSE         TRUE            TRUE        Ninia       1\n",
       "2        FALSE         TRUE            TRUE        Ninia       1\n",
       "3        FALSE         TRUE            TRUE        Ninia       1\n",
       "4        FALSE         TRUE            TRUE        Ninia       1\n",
       "5        FALSE         TRUE            TRUE        Ninia       1\n",
       "6        FALSE         TRUE            TRUE        Ninia       1\n",
       "7        FALSE         TRUE            TRUE        Ninia       1\n",
       "8        FALSE         TRUE            TRUE        Ninia       1\n",
       "9        FALSE         TRUE            TRUE        Ninia       1\n",
       "10       FALSE         TRUE            TRUE Acanthagrion       1\n",
       "11       FALSE         TRUE            TRUE Acanthagrion       1\n",
       "12       FALSE         TRUE            TRUE Acanthagrion       1\n",
       "13       FALSE         TRUE            TRUE Acanthagrion       1\n",
       "14       FALSE         TRUE            TRUE Acanthagrion       1\n",
       "15       FALSE         TRUE            TRUE Acanthagrion       1\n",
       "16       FALSE         TRUE            TRUE Acanthagrion       1\n",
       "17       FALSE         TRUE            TRUE Acanthagrion       1\n",
       "18       FALSE         TRUE            TRUE Acanthagrion       1\n",
       "19       FALSE         TRUE            TRUE Acanthagrion       1\n",
       "20       FALSE         TRUE            TRUE Acanthagrion       1\n",
       "21       FALSE         TRUE            TRUE Acanthagrion       1\n",
       "22       FALSE         TRUE            TRUE Acanthagrion       1\n",
       "23       FALSE         TRUE            TRUE Acanthagrion       1\n",
       "24       FALSE         TRUE            TRUE Acanthagrion       1\n",
       "25       FALSE         TRUE            TRUE       Aeshna       1\n",
       "26       FALSE         TRUE            TRUE       Aeshna       1\n",
       "27       FALSE         TRUE            TRUE       Aeshna       1\n",
       "28       FALSE         TRUE            TRUE Agriogomphus       1\n",
       "29       FALSE         TRUE            TRUE Agriogomphus       1\n",
       "30       FALSE         TRUE            TRUE Agriogomphus       1\n",
       "31       FALSE         TRUE            TRUE Agriogomphus       1\n",
       "32       FALSE         TRUE            TRUE Agriogomphus       1\n",
       "33       FALSE         TRUE            TRUE Agriogomphus       1\n",
       "34       FALSE         TRUE            TRUE Agriogomphus       1\n",
       "35       FALSE         TRUE            TRUE Agriogomphus       1\n",
       "36       FALSE         TRUE            TRUE Agriogomphus       1\n",
       "37       FALSE         TRUE            TRUE Agriogomphus       1\n",
       "38       FALSE         TRUE            TRUE Agriogomphus       1\n",
       " [ reached 'max' / getOption(\"max.print\") -- omitted 224899 rows ]"
      ]
     },
     "execution_count": null,
     "metadata": {},
     "output_type": "execute_result"
    }
   ],
   "source": [
    "database_8 = database_7 %>%\n",
    "  left_join(genus_names_clean, by = c(\"genus\" = \"scientificName\"))%>%\n",
    "  filter(quality %in% c(1, 2, 3))\n",
    "\n",
    "\n",
    "as.data.frame(database_8)"
   ]
  },
  {
   "cell_type": "code",
   "execution_count": 54,
   "metadata": {},
   "outputs": [
    {
     "data": {
      "text/plain": [
       "\u001b[38;5;246m# A tibble: 4 × 3\u001b[39m\n",
       "  database_name      n  prop\n",
       "  \u001b[3m\u001b[38;5;246m<chr>\u001b[39m\u001b[23m          \u001b[3m\u001b[38;5;246m<int>\u001b[39m\u001b[23m \u001b[3m\u001b[38;5;246m<dbl>\u001b[39m\u001b[23m\n",
       "\u001b[38;5;250m1\u001b[39m BNDB            \u001b[4m8\u001b[24m136  3.62\n",
       "\u001b[38;5;250m2\u001b[39m GBIF          \u001b[4m1\u001b[24m\u001b[4m7\u001b[24m\u001b[4m3\u001b[24m246 77.0 \n",
       "\u001b[38;5;250m3\u001b[39m IDIGBIO        \u001b[4m2\u001b[24m\u001b[4m7\u001b[24m040 12.0 \n",
       "\u001b[38;5;250m4\u001b[39m PUCE           \u001b[4m1\u001b[24m\u001b[4m6\u001b[24m515  7.34"
      ]
     },
     "execution_count": null,
     "metadata": {},
     "output_type": "execute_result"
    }
   ],
   "source": [
    "dimension_8 = database_8 %>%\n",
    "  group_by(database_name)%>%\n",
    "  count()%>%\n",
    "  ungroup()%>%\n",
    "  mutate(prop = (n/sum(n))*100)\n",
    "\n",
    "dimension_8"
   ]
  },
  {
   "cell_type": "code",
   "execution_count": 56,
   "metadata": {},
   "outputs": [
    {
     "data": {
      "text/plain": [
       "[1] 224937"
      ]
     },
     "execution_count": null,
     "metadata": {},
     "output_type": "execute_result"
    }
   ],
   "source": [
    "sum(dimension_8$n)"
   ]
  },
  {
   "cell_type": "markdown",
   "metadata": {},
   "source": [
    "## 3.9. Coordinate precision"
   ]
  },
  {
   "cell_type": "markdown",
   "metadata": {},
   "source": [
    "1 decimal is aprox 11 km of precision "
   ]
  },
  {
   "cell_type": "code",
   "execution_count": 57,
   "metadata": {},
   "outputs": [
    {
     "name": "stdout",
     "output_type": "stream",
     "text": [
      "bdc_coordinates_precision:\n",
      "Flagged 1607 records\n",
      "One column was added to the database.\n",
      "\n"
     ]
    }
   ],
   "source": [
    "database_9 <-\n",
    "  bdc_coordinates_precision(\n",
    "    data = database_8,\n",
    "    lon = \"decimalLongitude\",\n",
    "    lat = \"decimalLatitude\",\n",
    "    ndec = c(1) # number of decimals to be tested\n",
    "  )%>%\n",
    "  filter( .rou == TRUE)\n",
    "database_9\n"
   ]
  },
  {
   "cell_type": "code",
   "execution_count": 58,
   "metadata": {},
   "outputs": [
    {
     "data": {
      "text/plain": [
       "\u001b[38;5;246m# A tibble: 4 × 3\u001b[39m\n",
       "  database_name      n  prop\n",
       "  \u001b[3m\u001b[38;5;246m<chr>\u001b[39m\u001b[23m          \u001b[3m\u001b[38;5;246m<int>\u001b[39m\u001b[23m \u001b[3m\u001b[38;5;246m<dbl>\u001b[39m\u001b[23m\n",
       "\u001b[38;5;250m1\u001b[39m BNDB            \u001b[4m8\u001b[24m129  3.64\n",
       "\u001b[38;5;250m2\u001b[39m GBIF          \u001b[4m1\u001b[24m\u001b[4m7\u001b[24m\u001b[4m2\u001b[24m048 77.0 \n",
       "\u001b[38;5;250m3\u001b[39m IDIGBIO        \u001b[4m2\u001b[24m\u001b[4m6\u001b[24m869 12.0 \n",
       "\u001b[38;5;250m4\u001b[39m PUCE           \u001b[4m1\u001b[24m\u001b[4m6\u001b[24m284  7.29"
      ]
     },
     "execution_count": null,
     "metadata": {},
     "output_type": "execute_result"
    }
   ],
   "source": [
    "dimension_9 = database_9 %>%\n",
    "  group_by(database_name)%>%\n",
    "  count()%>%\n",
    "  ungroup()%>%\n",
    "  mutate(prop = (n/sum(n))*100)\n",
    "\n",
    "dimension_9"
   ]
  },
  {
   "cell_type": "code",
   "execution_count": 59,
   "metadata": {},
   "outputs": [
    {
     "data": {
      "text/plain": [
       "[1] 223330"
      ]
     },
     "execution_count": null,
     "metadata": {},
     "output_type": "execute_result"
    }
   ],
   "source": [
    "sum(dimension_9$n)"
   ]
  },
  {
   "cell_type": "markdown",
   "metadata": {},
   "source": [
    "## 3.10. Cooordinate cleaner"
   ]
  },
  {
   "cell_type": "markdown",
   "metadata": {},
   "source": [
    "We filtered the dataset to keep only records that passed the tests for capitals (.cap), centroids (.cen), and outliers (.otl).\n",
    "\n",
    "- cap → removes records with capitals that are not the main capital of the country.\n",
    "\n",
    "- cen → removes records near administrative centroids (country or province centroids assigned by default).\n",
    "\n",
    "- otl → removes geographic outliers that are far from the main distribution of the species.\n",
    "\n",
    "This ensures that only records with reliable geographic positions remain, reducing the risk of biased results in downstream analyses."
   ]
  },
  {
   "cell_type": "code",
   "execution_count": 60,
   "metadata": {},
   "outputs": [],
   "source": [
    "database_9$decimalLatitude = as.numeric(database_9$decimalLatitude)\n",
    "database_9$decimalLongitude = as.numeric(database_9$decimalLongitude)"
   ]
  },
  {
   "cell_type": "code",
   "execution_count": 62,
   "metadata": {},
   "outputs": [
    {
     "name": "stdout",
     "output_type": "stream",
     "text": [
      "Testing coordinate validity\n",
      "Flagged 0 records.\n",
      "Testing country capitals\n",
      "Flagged 11 records.\n",
      "Testing country centroids\n",
      "Flagged 0 records.\n",
      "Testing geographic outliers\n",
      "Flagged 3964 records.\n",
      "Testing biodiversity institutions\n",
      "Flagged 278 records.\n",
      "Flagged 1324 of 223330 records, EQ = 0.01.\n"
     ]
    },
    {
     "name": "stderr",
     "output_type": "stream",
     "text": [
      "Warning message:\n",
      "In cc_outl(otl_test, lon = lon, lat = lat, species = species, method = outliers_method,  :\n",
      "  Species with fewer than 7 unique records will not be tested.\n"
     ]
    },
    {
     "data": {
      "text/plain": [
       "   database_id TaxonRank   class         family        genus scientificName decimalLatitude decimalLongitude                         occurrenceID\n",
       "1       BNDB_1     Genus Insecta     COLUBRIDAE        Ninia          Ninia       0.9950800        -78.21735 25b0d36c-305f-4272-b1b1-cb6a1bf17444\n",
       "2       BNDB_2   Species Insecta     COLUBRIDAE        Ninia   Ninia atrata      -0.0368060        -78.76503 d2414fec-7512-43d2-91a6-1f2a20ea3121\n",
       "3       BNDB_3   Species Insecta     COLUBRIDAE        Ninia   Ninia atrata      -0.0691940        -78.76128 3ea86160-2170-4501-abdf-194d28cb7694\n",
       "4       BNDB_4   Species Insecta     COLUBRIDAE        Ninia   Ninia atrata      -0.0330560        -78.75500 de08a11c-8eac-4498-bf2d-d12f17dd0cda\n",
       "5       BNDB_5   Species Insecta     COLUBRIDAE        Ninia   Ninia atrata      -3.5794642        -79.86112 687d5977-9225-42b8-bb03-fb06da0f5d87\n",
       "6       BNDB_8   Species Insecta     COLUBRIDAE        Ninia   Ninia atrata       0.6969470        -80.01861 4cfa9151-9541-4b66-acb3-d8321739e403\n",
       "7      BNDB_16   Species Insecta     COLUBRIDAE        Ninia   Ninia atrata      -0.3884330        -79.37142 6cb29b1b-6365-4247-8e54-35e94542d22e\n",
       "8      BNDB_18   Species Insecta     COLUBRIDAE        Ninia   Ninia atrata       1.1858690        -78.50060 aa4e9367-45cb-4fd3-8a01-4093939d5a5b\n",
       "9      BNDB_19   Species Insecta     COLUBRIDAE        Ninia  Ninia hudsoni      -0.1133500        -77.44125 6608a50e-25fc-4030-9f41-5c1b13ae2864\n",
       "10     BNDB_23     Genus Insecta Coenagrionidae Acanthagrion   Acanthagrion      -3.7562000        -79.84590 690f1bb9-a950-4942-8756-78cee84eac0c\n",
       "11     BNDB_24     Genus Insecta Coenagrionidae Acanthagrion   Acanthagrion      -3.2586000        -79.87090 75a5d482-5b9d-443c-a826-703dd0b73854\n",
       "12     BNDB_25     Genus Insecta Coenagrionidae Acanthagrion   Acanthagrion      -3.3282000        -79.74190 c06e7988-3839-4950-a32d-7e016fad99a7\n",
       "13     BNDB_26     Genus Insecta Coenagrionidae Acanthagrion   Acanthagrion       1.1726370        -78.50114 3dd3305b-9679-4081-afbd-2f11dd19992c\n",
       "14     BNDB_27     Genus Insecta Coenagrionidae Acanthagrion   Acanthagrion       1.1726370        -78.50114 aa1bb922-aa49-4054-b95a-51d34cda33dc\n",
       "15     BNDB_28     Genus Insecta Coenagrionidae Acanthagrion   Acanthagrion       1.1726370        -78.50114 f596a7ff-6ca4-457e-9162-8c280c5d1ca0\n",
       "16     BNDB_29     Genus Insecta Coenagrionidae Acanthagrion   Acanthagrion      -0.0166000        -78.93300 71e96759-6d24-4bfd-8680-3eaeba844692\n",
       "17     BNDB_30     Genus Insecta Coenagrionidae Acanthagrion   Acanthagrion      -0.0166000        -78.93300 523c79cc-3dbe-4255-b82c-4ee0b64dab01\n",
       "18     BNDB_31     Genus Insecta Coenagrionidae Acanthagrion   Acanthagrion      -0.0166600        -78.93330 74847706-ddc4-43e5-87f5-b2b86be52130\n",
       "19     BNDB_32     Genus Insecta Coenagrionidae Acanthagrion   Acanthagrion      -3.8952700        -78.81250 b38ab74b-cdc7-4083-a9c7-854d9004666b\n",
       "20     BNDB_33     Genus Insecta Coenagrionidae Acanthagrion   Acanthagrion       0.0233036        -76.77905 a4de6a99-6fe4-4ff2-9c97-77e3e4dedd0e\n",
       "21     BNDB_34     Genus Insecta Coenagrionidae Acanthagrion   Acanthagrion      -0.2270811        -76.74413 8dfce566-80bd-449e-b0fc-09839a159a9b\n",
       "22     BNDB_35     Genus Insecta Coenagrionidae Acanthagrion   Acanthagrion       0.3466854        -76.29428 f5c5d6d8-ee17-494a-a88a-9e56b9cb7970\n",
       "23     BNDB_36     Genus Insecta Coenagrionidae Acanthagrion   Acanthagrion       0.3941808        -76.29278 d9567091-7bc7-4dc2-b4ba-5c3115093659\n",
       "24     BNDB_37     Genus Insecta Coenagrionidae Acanthagrion   Acanthagrion      -0.6203510        -76.88947 3c1d4445-47aa-4f0c-9f9e-35cd5e0531c2\n",
       "25     BNDB_41     Genus Insecta      Aeshnidae       Aeshna         Aeshna      -3.4802000        -79.56630 fbd53a9e-1b75-4222-8dab-2550c061fd66\n",
       "26     BNDB_43     Genus Insecta      Aeshnidae       Aeshna         Aeshna       1.1726370        -78.50114 69bc203b-7d8b-4b68-8375-28472c5f575b\n",
       "27     BNDB_44     Genus Insecta      Aeshnidae       Aeshna         Aeshna      -0.1921570        -78.72580 65ea98ca-aa3a-4237-9f4c-d54890255a77\n",
       "28     BNDB_48     Genus Insecta      Gomphidae Agriogomphus   Agriogomphus      -0.5373510        -76.76857 ba738b65-69e7-42eb-b1a6-d8e7373ff6fa\n",
       "29     BNDB_49     Genus Insecta      Gomphidae Agriogomphus   Agriogomphus      -0.5373510        -76.76857 251ce750-329b-40c3-ab56-f213046f495b\n",
       "30     BNDB_50     Genus Insecta      Gomphidae Agriogomphus   Agriogomphus      -0.5373510        -76.76857 5cec0355-bfb2-4ae0-ab67-34420ca0a240\n",
       "             basisOfRecord verbatimEventDate country                     stateProvince                                               locality\n",
       "1  Esp\\xe9cimen preservado        2021-08-05 Ecuador                            Carchi                                     Reserva Dr\\xe1cula\n",
       "2  Esp\\xe9cimen preservado        2017-04-17 Ecuador                         Pichincha             Reserva Universidad San Francisco de Quito\n",
       "3  Esp\\xe9cimen preservado        2017-04-17 Ecuador                         Pichincha                             Yellow House Lodge grounds\n",
       "4  Esp\\xe9cimen preservado        2017-04-17 Ecuador                         Pichincha                             Yellow House Lodge grounds\n",
       "5  Esp\\xe9cimen preservado        2018-11-09 Ecuador                            El Oro                                             El Guayabo\n",
       "6  Esp\\xe9cimen preservado        2004-03-17 Ecuador                        Esmeraldas                                   Cresta San Francisco\n",
       "7  Esp\\xe9cimen preservado        1987-10-01 Ecuador Santo Domingo de los Ts\\xe1chilas                Km 18 en la v\\xeda Sto. Domingo - Chone\n",
       "8  Esp\\xe9cimen preservado        2009-09-01 Ecuador                            Carchi                        Transecto 1, R\\xedo San J\\xfaan\n",
       "9  Esp\\xe9cimen preservado        2013-03-14 Ecuador                      Sucumb\\xedos Proyecto Coca Codo Sinclair. Camino a casa de maquinas\n",
       "10 Esp\\xe9cimen Preservado        2015-10-22 Ecuador                            El Oro                                                   <NA>\n",
       "11 Esp\\xe9cimen Preservado        2016-10-23 Ecuador                            El Oro                                                   <NA>\n",
       "12 Esp\\xe9cimen Preservado        2016-10-23 Ecuador                            El Oro                                                   <NA>\n",
       "13 Esp\\xe9cimen Preservado        2009-09-12 Ecuador                            Carchi                                           Tobar Donoso\n",
       "14 Esp\\xe9cimen Preservado              <NA> Ecuador                            Carchi                                           Tobar Donoso\n",
       "15 Esp\\xe9cimen Preservado              <NA> Ecuador                            Carchi                                           Tobar Donoso\n",
       "16 Esp\\xe9cimen preservado        1998-03-05 Ecuador                         Pichincha                                                   MECN\n",
       "17 Esp\\xe9cimen preservado        1998-03-05 Ecuador                         Pichincha                                                   MECN\n",
       "18 Esp\\xe9cimen conservado        1999-07-26 Ecuador                        Tungurahua                                            R\\xedo Topo\n",
       "19 Esp\\xe9cimen preservado              <NA> Ecuador                  Zamora Chinchipe                                      R\\xedo Panguintza\n",
       "20       PreservesSpecemen        2022-01-21 Ecuador                      Sucumb\\xedos                                                 EL ENO\n",
       "21       PreservesSpecemen        2022-02-26 Ecuador                      Sucumb\\xedos                                            SHUSHUFINDI\n",
       "22       PreservesSpecemen        2021-10-10 Ecuador                      Sucumb\\xedos                                            SANTA ELENA\n",
       "23       PreservesSpecemen        2022-02-11 Ecuador                      Sucumb\\xedos                                            SANTA ELENA\n",
       "24       PreservesSpecemen        2021-09-21 Ecuador                          Orellana                                                 DAYUMA\n",
       "25 Esp\\xe9cimen Preservado        2015-10-30 Ecuador                            El Oro                                                   <NA>\n",
       "26 Esp\\xe9cimen Preservado        2009-09-14 Ecuador                            Carchi                                           Tobar Donoso\n",
       "27 Esp\\xe9cimen Preservado        2008-07-17 Ecuador                         Pichincha                          Lloa | R\\xedo Aff Virginia 28\n",
       "28 Esp\\xe9cimen Preservado        2016-12-11 Ecuador                          Orellana                                                Palanda\n",
       "29 Esp\\xe9cimen Preservado        2017-10-16 Ecuador                          Orellana                                                Palanda\n",
       "30 Esp\\xe9cimen Preservado        2018-07-29 Ecuador                          Orellana                                      Palanda | Taracoa\n",
       "                                             identifiedBy coordinateUncertaintyInMeters\n",
       "1                        Mario Humberto Y\\xe1nez Mu\\xf1oz                            NA\n",
       "2                        Mario Humberto Y\\xe1nez Mu\\xf1oz                            NA\n",
       "3                        Mario Humberto Y\\xe1nez Mu\\xf1oz                            NA\n",
       "4                        Mario Humberto Y\\xe1nez Mu\\xf1oz                            NA\n",
       "5                        Mario Humberto Y\\xe1nez Mu\\xf1oz                            NA\n",
       "6                        Mario Humberto Y\\xe1nez Mu\\xf1oz                            NA\n",
       "7                        Mario Humberto Y\\xe1nez Mu\\xf1oz                            NA\n",
       "8                        Mario Humberto Y\\xe1nez Mu\\xf1oz                            NA\n",
       "9  Mario Humberto Yánez Muñoz\\xe2\"?Manuel A. Morales Mite                            NA\n",
       "10                        Mauricio Gabriel Herrera Madrid                            NA\n",
       "11                                       Jonathan Aguirre                            NA\n",
       "12                        Mauricio Gabriel Herrera Madrid                            NA\n",
       "13                    Edgar Santiago Villamar\\xedn Cortez                            NA\n",
       "14                    Edgar Santiago Villamar\\xedn Cortez                            NA\n",
       "15                    Edgar Santiago Villamar\\xedn Cortez                            NA\n",
       "16                                                   <NA>                            NA\n",
       "17                                                   <NA>                            NA\n",
       "18                                                   <NA>                            NA\n",
       "19                                                   <NA>                            NA\n",
       "20                                         Valeria Granda                            NA\n",
       "21                                         Valeria Granda                            NA\n",
       "22                                         Valeria Granda                            NA\n",
       "23                                         Valeria Granda                            NA\n",
       "24                                         Valeria Granda                            NA\n",
       "25                        Mauricio Gabriel Herrera Madrid                            NA\n",
       "26                    Edgar Santiago Villamar\\xedn Cortez                            NA\n",
       "27                        Mauricio Gabriel Herrera Madrid                            NA\n",
       "28                        Mauricio Gabriel Herrera Madrid                            NA\n",
       "29                        Mauricio Gabriel Herrera Madrid                            NA\n",
       "30                        Mauricio Gabriel Herrera Madrid                            NA\n",
       "                                                                          recordedBy year institutionCode database_name .coordinates_outOfRange\n",
       "1                              Julio Carri\\xf3n; Peason Mc.Groover | Callie Broaddus 2021        INABIOEC          BNDB                    TRUE\n",
       "2                                                                     Mark Wilkinson 2017        INABIOEC          BNDB                    TRUE\n",
       "3                                                                     Mark Wilkinson 2017        INABIOEC          BNDB                    TRUE\n",
       "4                                                                     Mark Wilkinson 2017        INABIOEC          BNDB                    TRUE\n",
       "5                           Miguel Andr\\xe9s Urgil\\xe9s Merch\\xe1n; Christian Paucar 2018        INABIOEC          BNDB                    TRUE\n",
       "6                                                            Mauricio Ortega Andrade 2004        INABIOEC          BNDB                    TRUE\n",
       "7                                                                 Jos\\xe9 P\\xe1rraga 1987        INABIOEC          BNDB                    TRUE\n",
       "8  Mario Humberto Y\\xe1nez Mu\\xf1oz; Luis Alfedo Oyagata Cachimuel\\xe2\"?M. Altmirano 2009        INABIOEC          BNDB                    TRUE\n",
       "9                             Manuel Morales Mite; Marco Altamirano ? Karem L\\xf3pez 2013        INABIOEC          BNDB                    TRUE\n",
       "10                 Daniel Padilla Jim\\xe9nez; Edgar Santiago Villamar\\xedn C\\xf3rtez 2015        INABIOEC          BNDB                    TRUE\n",
       "11            Sofia Isabel Trujillo Regalado; Edgar Santiago Villamar\\xedn C\\xf3rtez 2016        INABIOEC          BNDB                    TRUE\n",
       "12            Sofia Isabel Trujillo Regalado; Edgar Santiago Villamar\\xedn C\\xf3rtez 2016        INABIOEC          BNDB                    TRUE\n",
       "13                                          Edgar Santiago Villamar\\xedn Cortez; VPS 2009        INABIOEC          BNDB                    TRUE\n",
       "14                                               Edgar Santiago Villamar\\xedn Cortez 2010        INABIOEC          BNDB                    TRUE\n",
       "15                                          Edgar Santiago Villamar\\xedn Cortez; VPS 2010        INABIOEC          BNDB                    TRUE\n",
       "16                                                               Germania Est\\xe9vez 1998        INABIOEC          BNDB                    TRUE\n",
       "17                                                               Germania Est\\xe9vez 1998        INABIOEC          BNDB                    TRUE\n",
       "18                                                               Germania Est\\xe9vez 1999        INABIOEC          BNDB                    TRUE\n",
       "19                                                               Germania Est\\xe9vez 1999        INABIOEC          BNDB                    TRUE\n",
       "20                                                                Andrea Enr\\xedquez 2022        INABIOEC          BNDB                    TRUE\n",
       "21                                                                Andrea Enr\\xedquez 2022        INABIOEC          BNDB                    TRUE\n",
       "22                                                                Andrea Enr\\xedquez 2021        INABIOEC          BNDB                    TRUE\n",
       "23                                                             D. Padilla-Jim\\xe9nez 2022        INABIOEC          BNDB                    TRUE\n",
       "24                                                                    Daniel P\\xe1ez 2021        INABIOEC          BNDB                    TRUE\n",
       "25                 Daniel Padilla Jim\\xe9nez; Edgar Santiago Villamar\\xedn C\\xf3rtez 2015        INABIOEC          BNDB                    TRUE\n",
       "26                                          Edgar Santiago Villamar\\xedn Cortez; VPS 2009        INABIOEC          BNDB                    TRUE\n",
       "27                                               Edgar Santiago Villamar\\xedn Cortez 2008        INABIOEC          BNDB                    TRUE\n",
       "28                                                   Mauricio Gabriel Herrera Madrid 2016        INABIOEC          BNDB                    TRUE\n",
       "29                                                   Mauricio Gabriel Herrera Madrid 2017        INABIOEC          BNDB                    TRUE\n",
       "30                                                   Mauricio Gabriel Herrera Madrid 2018        INABIOEC          BNDB                    TRUE\n",
       "   uncer_terms .uncer_terms .infraesp_names  names_clean quality .rou .val .cap .cen  .otl .inst .summary\n",
       "1        FALSE         TRUE            TRUE        Ninia       1 TRUE TRUE TRUE TRUE FALSE  TRUE    FALSE\n",
       "2        FALSE         TRUE            TRUE        Ninia       1 TRUE TRUE TRUE TRUE FALSE  TRUE    FALSE\n",
       "3        FALSE         TRUE            TRUE        Ninia       1 TRUE TRUE TRUE TRUE FALSE  TRUE    FALSE\n",
       "4        FALSE         TRUE            TRUE        Ninia       1 TRUE TRUE TRUE TRUE FALSE  TRUE    FALSE\n",
       "5        FALSE         TRUE            TRUE        Ninia       1 TRUE TRUE TRUE TRUE FALSE  TRUE    FALSE\n",
       "6        FALSE         TRUE            TRUE        Ninia       1 TRUE TRUE TRUE TRUE FALSE  TRUE    FALSE\n",
       "7        FALSE         TRUE            TRUE        Ninia       1 TRUE TRUE TRUE TRUE FALSE  TRUE    FALSE\n",
       "8        FALSE         TRUE            TRUE        Ninia       1 TRUE TRUE TRUE TRUE FALSE  TRUE    FALSE\n",
       "9        FALSE         TRUE            TRUE        Ninia       1 TRUE TRUE TRUE TRUE FALSE  TRUE    FALSE\n",
       "10       FALSE         TRUE            TRUE Acanthagrion       1 TRUE TRUE TRUE TRUE FALSE  TRUE    FALSE\n",
       "11       FALSE         TRUE            TRUE Acanthagrion       1 TRUE TRUE TRUE TRUE FALSE  TRUE    FALSE\n",
       "12       FALSE         TRUE            TRUE Acanthagrion       1 TRUE TRUE TRUE TRUE FALSE  TRUE    FALSE\n",
       "13       FALSE         TRUE            TRUE Acanthagrion       1 TRUE TRUE TRUE TRUE FALSE  TRUE    FALSE\n",
       "14       FALSE         TRUE            TRUE Acanthagrion       1 TRUE TRUE TRUE TRUE FALSE  TRUE    FALSE\n",
       "15       FALSE         TRUE            TRUE Acanthagrion       1 TRUE TRUE TRUE TRUE FALSE  TRUE    FALSE\n",
       "16       FALSE         TRUE            TRUE Acanthagrion       1 TRUE TRUE TRUE TRUE FALSE  TRUE    FALSE\n",
       "17       FALSE         TRUE            TRUE Acanthagrion       1 TRUE TRUE TRUE TRUE FALSE  TRUE    FALSE\n",
       "18       FALSE         TRUE            TRUE Acanthagrion       1 TRUE TRUE TRUE TRUE FALSE  TRUE    FALSE\n",
       "19       FALSE         TRUE            TRUE Acanthagrion       1 TRUE TRUE TRUE TRUE FALSE  TRUE    FALSE\n",
       "20       FALSE         TRUE            TRUE Acanthagrion       1 TRUE TRUE TRUE TRUE FALSE  TRUE    FALSE\n",
       "21       FALSE         TRUE            TRUE Acanthagrion       1 TRUE TRUE TRUE TRUE FALSE  TRUE    FALSE\n",
       "22       FALSE         TRUE            TRUE Acanthagrion       1 TRUE TRUE TRUE TRUE FALSE  TRUE    FALSE\n",
       "23       FALSE         TRUE            TRUE Acanthagrion       1 TRUE TRUE TRUE TRUE FALSE  TRUE    FALSE\n",
       "24       FALSE         TRUE            TRUE Acanthagrion       1 TRUE TRUE TRUE TRUE FALSE  TRUE    FALSE\n",
       "25       FALSE         TRUE            TRUE       Aeshna       1 TRUE TRUE TRUE TRUE FALSE  TRUE    FALSE\n",
       "26       FALSE         TRUE            TRUE       Aeshna       1 TRUE TRUE TRUE TRUE FALSE  TRUE    FALSE\n",
       "27       FALSE         TRUE            TRUE       Aeshna       1 TRUE TRUE TRUE TRUE FALSE  TRUE    FALSE\n",
       "28       FALSE         TRUE            TRUE Agriogomphus       1 TRUE TRUE TRUE TRUE FALSE  TRUE    FALSE\n",
       "29       FALSE         TRUE            TRUE Agriogomphus       1 TRUE TRUE TRUE TRUE FALSE  TRUE    FALSE\n",
       "30       FALSE         TRUE            TRUE Agriogomphus       1 TRUE TRUE TRUE TRUE FALSE  TRUE    FALSE\n",
       " [ reached 'max' / getOption(\"max.print\") -- omitted 223300 rows ]"
      ]
     },
     "execution_count": null,
     "metadata": {},
     "output_type": "execute_result"
    }
   ],
   "source": [
    "database_10 <- CoordinateCleaner::clean_coordinates(\n",
    "  x       = database_9,\n",
    "  lon     = \"decimalLongitude\",\n",
    "  lat     = \"decimalLatitude\",\n",
    "  species = \"scientificName\",\n",
    "  tests   = c(\n",
    "    \"capitals\",     # cerca de capitales\n",
    "    \"centroids\",    # cerca de centroides adm. (país/provincia)\n",
    "    \"institutions\", # cerca de instituciones (museos, herbarios, zoos)\n",
    "    \"outliers\"    # outliers geográficos por especie\n",
    "  ),\n",
    "  capitals_rad      = 100,\n",
    "  centroids_rad     = 100,\n",
    "  centroids_detail  = \"both\",   # país y provincia\n",
    "  inst_rad          = 100,\n",
    "  outliers_method   = \"quantile\",\n",
    "  outliers_mtp      = 10,\n",
    "  outliers_td       = 1000,\n",
    "  outliers_size     = 10,\n",
    "  zeros_rad         = 0.5\n",
    ")\n",
    "\n",
    "database_10"
   ]
  },
  {
   "cell_type": "markdown",
   "metadata": {},
   "source": [
    "Filter data based in flags asigened "
   ]
  },
  {
   "cell_type": "code",
   "execution_count": 63,
   "metadata": {},
   "outputs": [],
   "source": [
    "database_10 = database_10 %>%\n",
    "  filter(.cap == TRUE) %>%\n",
    "  filter(.cen == TRUE) %>%\n",
    "  filter(.otl == TRUE)"
   ]
  },
  {
   "cell_type": "code",
   "execution_count": 64,
   "metadata": {},
   "outputs": [
    {
     "data": {
      "text/plain": [
       "\u001b[38;5;246m# A tibble: 4 × 3\u001b[39m\n",
       "  database_name      n  prop\n",
       "  \u001b[3m\u001b[38;5;246m<chr>\u001b[39m\u001b[23m          \u001b[3m\u001b[38;5;246m<int>\u001b[39m\u001b[23m \u001b[3m\u001b[38;5;246m<dbl>\u001b[39m\u001b[23m\n",
       "\u001b[38;5;250m1\u001b[39m BNDB            \u001b[4m7\u001b[24m094  3.19\n",
       "\u001b[38;5;250m2\u001b[39m GBIF          \u001b[4m1\u001b[24m\u001b[4m7\u001b[24m\u001b[4m2\u001b[24m042 77.4 \n",
       "\u001b[38;5;250m3\u001b[39m IDIGBIO        \u001b[4m2\u001b[24m\u001b[4m6\u001b[24m864 12.1 \n",
       "\u001b[38;5;250m4\u001b[39m PUCE           \u001b[4m1\u001b[24m\u001b[4m6\u001b[24m284  7.33"
      ]
     },
     "execution_count": null,
     "metadata": {},
     "output_type": "execute_result"
    }
   ],
   "source": [
    "dimension_10 = database_10 %>%\n",
    "  group_by(database_name)%>%\n",
    "  count()%>%\n",
    "  ungroup()%>%\n",
    "  mutate(prop = (n/sum(n))*100)\n",
    "\n",
    "dimension_10"
   ]
  },
  {
   "cell_type": "code",
   "execution_count": 65,
   "metadata": {},
   "outputs": [
    {
     "data": {
      "text/plain": [
       "[1] 222284"
      ]
     },
     "execution_count": null,
     "metadata": {},
     "output_type": "execute_result"
    }
   ],
   "source": [
    "sum(dimension_10$n)"
   ]
  },
  {
   "cell_type": "markdown",
   "metadata": {},
   "source": [
    "Delete variables generated in data cleaning process"
   ]
  },
  {
   "cell_type": "code",
   "execution_count": 66,
   "metadata": {},
   "outputs": [],
   "source": [
    "database_10 = database_10 %>%\n",
    "  select(c(-.rou,-.val, -.cap, -.cen,-.otl , - .inst ,- .summary))\n"
   ]
  },
  {
   "cell_type": "markdown",
   "metadata": {},
   "source": [
    "## 3.11. Validation of taxonomic names"
   ]
  },
  {
   "cell_type": "markdown",
   "metadata": {},
   "source": [
    "Transform sub species to species level"
   ]
  },
  {
   "cell_type": "code",
   "execution_count": null,
   "metadata": {},
   "outputs": [],
   "source": [
    "#sp_names = unique(database_10$names_clean)\n",
    "\n",
    "#df_sp_level <- tibble(\n",
    "#  original = sp_names,\n",
    "#  Species_level = str_extract(sp_names, \"^\\\\S+\\\\s+\\\\S+\")\n",
    "#)\n",
    "\n",
    "\n",
    "#database_10 = database_10 %>%\n",
    "#  left_join(df_sp_level, by = c(\"names_clean\" = \"original\")) ## Join data\n"
   ]
  },
  {
   "cell_type": "markdown",
   "metadata": {},
   "source": [
    "Using GBIF db"
   ]
  },
  {
   "cell_type": "code",
   "execution_count": 73,
   "metadata": {},
   "outputs": [
    {
     "name": "stdout",
     "output_type": "stream",
     "text": [
      "\n",
      "Querying using gbif database version 22.12\n",
      "\n",
      "                     \n",
      " A total of 0 NA was/were found in sci_name.\n",
      "\n",
      " 5262 names queried in 1.1 minutes\n",
      "\n"
     ]
    }
   ],
   "source": [
    "\n",
    "unique_names = unique(database_10$names_clean)\n",
    "query_names <- bdc_query_names_taxadb(\n",
    "  sci_name            = unique_names,\n",
    "  replace_synonyms    = TRUE, # replace synonyms by accepted names?\n",
    "  suggest_names       = TRUE, # try to found a candidate name for misspelled names?\n",
    "  suggestion_distance = 0.8, # distance between the searched and suggested names\n",
    "  db                  = \"gbif\" , # taxonomic database\n",
    "  rank_name           = \"Insecta\", # a taxonomic rank\n",
    "  rank                = \"class\", # name of the taxonomic rank\n",
    "  parallel            = TRUE, # should parallel processing be used?\n",
    "  ncores              = 8, # number of cores to be used in the parallelization process \n",
    "  export_accepted     = FALSE # save names linked to multiple accepted names\n",
    ")\n"
   ]
  },
  {
   "cell_type": "code",
   "execution_count": 74,
   "metadata": {},
   "outputs": [
    {
     "data": {
      "text/plain": [
       "    original_search distance    notes      taxonID   scientificName taxonRank taxonomicStatus  kingdom     phylum   class         order\n",
       "1       Anchytarsus       NA accepted GBIF:1033846      Anchytarsus     genus        accepted Animalia Arthropoda Insecta    Coleoptera\n",
       "2         Ancyronyx       NA accepted GBIF:1033499        Ancyronyx     genus        accepted Animalia Arthropoda Insecta    Coleoptera\n",
       "3         Andesiops       NA accepted GBIF:4683703        Andesiops     genus        accepted Animalia Arthropoda Insecta Ephemeroptera\n",
       "4  Anomalocosmoecus       NA accepted GBIF:1442062 Anomalocosmoecus     genus        accepted Animalia Arthropoda Insecta   Trichoptera\n",
       "5        Aphrosylus       NA accepted GBIF:1609134       Aphrosylus     genus        accepted Animalia Arthropoda Insecta       Diptera\n",
       "6           Aphylla       NA accepted GBIF:1425745          Aphylla     genus        accepted Animalia Arthropoda Insecta       Odonata\n",
       "7         Apobaetis       NA accepted GBIF:1407958        Apobaetis     genus        accepted Animalia Arthropoda Insecta Ephemeroptera\n",
       "8             Argia       NA accepted GBIF:1422607            Argia     genus        accepted Animalia Arthropoda Insecta       Odonata\n",
       "9       Atanatolica       NA accepted GBIF:1435520      Atanatolica     genus        accepted Animalia Arthropoda Insecta   Trichoptera\n",
       "10        Atopsyche       NA accepted GBIF:1434606        Atopsyche     genus        accepted Animalia Arthropoda Insecta   Trichoptera\n",
       "11     Atrichopogon       NA accepted GBIF:1636637     Atrichopogon     genus        accepted Animalia Arthropoda Insecta       Diptera\n",
       "12         Aturbina       NA accepted GBIF:4571527         Aturbina     genus        accepted Animalia Arthropoda Insecta Ephemeroptera\n",
       "13       Austrelmis       NA accepted GBIF:4765857       Austrelmis     genus        accepted Animalia Arthropoda Insecta    Coleoptera\n",
       "14    Austrolimnius       NA accepted GBIF:4719039    Austrolimnius     genus        accepted Animalia Arthropoda Insecta    Coleoptera\n",
       "15         Baetodes       NA accepted GBIF:1407774         Baetodes     genus        accepted Animalia Arthropoda Insecta Ephemeroptera\n",
       "16        Belostoma       NA accepted GBIF:2007565        Belostoma     genus        accepted Animalia Arthropoda Insecta     Hemiptera\n",
       "17          Berosus       NA accepted GBIF:1034259          Berosus     genus        accepted Animalia Arthropoda Insecta    Coleoptera\n",
       "18      Brachymesia       NA accepted GBIF:1427974      Brachymesia     genus        accepted Animalia Arthropoda Insecta       Odonata\n",
       "19      Brachymetra       NA accepted GBIF:3266399      Brachymetra     genus        accepted Animalia Arthropoda Insecta     Hemiptera\n",
       "20     Brechmorhoga       NA accepted GBIF:1429345     Brechmorhoga     genus        accepted Animalia Arthropoda Insecta       Odonata\n",
       "21           Buenoa       NA accepted GBIF:2020498           Buenoa     genus        accepted Animalia Arthropoda Insecta     Hemiptera\n",
       "22          Cabecar       NA accepted GBIF:1408111          Cabecar     genus        accepted Animalia Arthropoda Insecta Ephemeroptera\n",
       "23           Caenis       NA accepted GBIF:1408104           Caenis     genus        accepted Animalia Arthropoda Insecta Ephemeroptera\n",
       "24         Cailloma       NA accepted GBIF:1434749         Cailloma     genus        accepted Animalia Arthropoda Insecta   Trichoptera\n",
       "25      Callibaetis       NA accepted GBIF:1407575      Callibaetis     genus        accepted Animalia Arthropoda Insecta Ephemeroptera\n",
       "26  Camelobaetidius       NA accepted GBIF:1407742  Camelobaetidius     genus        accepted Animalia Arthropoda Insecta Ephemeroptera\n",
       "27        Campsurus       NA accepted GBIF:1408924        Campsurus     genus        accepted Animalia Arthropoda Insecta Ephemeroptera\n",
       "28       Campylocia       NA accepted GBIF:1407066       Campylocia     genus        accepted Animalia Arthropoda Insecta Ephemeroptera\n",
       "29           Celina       NA accepted GBIF:1038011           Celina     genus        accepted Animalia Arthropoda Insecta    Coleoptera\n",
       "30     Centrocorisa       NA accepted GBIF:2049823     Centrocorisa     genus        accepted Animalia Arthropoda Insecta     Hemiptera\n",
       "31  Centromacronema       NA accepted GBIF:1440212  Centromacronema     genus        accepted Animalia Arthropoda Insecta   Trichoptera\n",
       "32     Cercobrachys       NA accepted GBIF:1409057     Cercobrachys     genus        accepted Animalia Arthropoda Insecta Ephemeroptera\n",
       "33            Chane       NA accepted GBIF:6932184            Chane     genus        accepted Animalia Arthropoda Insecta Ephemeroptera\n",
       "34        Chelifera       NA accepted GBIF:1584487        Chelifera     genus        accepted Animalia Arthropoda Insecta       Diptera\n",
       "35         Chimarra       NA accepted GBIF:1430802         Chimarra     genus        accepted Animalia Arthropoda Insecta   Trichoptera\n",
       "36       Chironomus       NA accepted GBIF:1448033       Chironomus     genus        accepted Animalia Arthropoda Insecta       Diptera\n",
       "37     Claudioperla       NA accepted GBIF:2006282     Claudioperla     genus        accepted Animalia Arthropoda Insecta    Plecoptera\n",
       "38        Clinocera       NA accepted GBIF:1444801        Clinocera     genus        accepted Animalia Arthropoda Insecta       Diptera\n",
       "39         Cloeodes       NA accepted GBIF:1407968         Cloeodes     genus        accepted Animalia Arthropoda Insecta Ephemeroptera\n",
       "40          Clogmia       NA accepted GBIF:1640729          Clogmia     genus        accepted Animalia Arthropoda Insecta       Diptera\n",
       "41         Contulma       NA accepted GBIF:1435307         Contulma     genus        accepted Animalia Arthropoda Insecta   Trichoptera\n",
       "42        Copelatus       NA accepted GBIF:1038624        Copelatus     genus        accepted Animalia Arthropoda Insecta    Coleoptera\n",
       "43           Corixa       NA accepted GBIF:5156062           Corixa     genus        accepted Animalia Arthropoda Insecta     Hemiptera\n",
       "44        Corydalus       NA accepted GBIF:1729931        Corydalus     genus        accepted Animalia Arthropoda Insecta   Megaloptera\n",
       "45      Corynoneura       NA accepted GBIF:1452255      Corynoneura     genus        accepted Animalia Arthropoda Insecta       Diptera\n",
       "46    Coryphaeschna       NA accepted GBIF:1425065    Coryphaeschna     genus        accepted Animalia Arthropoda Insecta       Odonata\n",
       "47       Coryphorus       NA accepted GBIF:4683767       Coryphorus     genus        accepted Animalia Arthropoda Insecta Ephemeroptera\n",
       "48         Crenitis       NA accepted GBIF:1034101         Crenitis     genus        accepted Animalia Arthropoda Insecta    Coleoptera\n",
       "49       Cricotopus       NA accepted GBIF:1454015       Cricotopus     genus        accepted Animalia Arthropoda Insecta       Diptera\n",
       "50     Cryphocricos       NA accepted GBIF:2020270     Cryphocricos     genus        accepted Animalia Arthropoda Insecta     Hemiptera\n",
       "51     Cryptonympha       NA accepted GBIF:4576979     Cryptonympha     genus        accepted Animalia Arthropoda Insecta Ephemeroptera\n",
       "52            Culex       NA accepted GBIF:1497010            Culex     genus        accepted Animalia Arthropoda Insecta       Diptera\n",
       "53        Culoptila       NA accepted GBIF:1430368        Culoptila     genus        accepted Animalia Arthropoda Insecta   Trichoptera\n",
       "54  Cylindrostethus       NA accepted GBIF:8931054  Cylindrostethus     genus        accepted Animalia Arthropoda Insecta     Hemiptera\n",
       "55        Cylloepus       NA accepted GBIF:1033536        Cylloepus     genus        accepted Animalia Arthropoda Insecta    Coleoptera\n",
       "56           Cyphon       NA accepted GBIF:5007531           Cyphon     genus        accepted Animalia Arthropoda Insecta    Coleoptera\n",
       "57        Cyrnellus       NA accepted GBIF:1438031        Cyrnellus     genus        accepted Animalia Arthropoda Insecta   Trichoptera\n",
       "58         Derallus       NA accepted GBIF:1034151         Derallus     genus        accepted Animalia Arthropoda Insecta    Coleoptera\n",
       "59    Dicrotendipes       NA accepted GBIF:1446357    Dicrotendipes     genus        accepted Animalia Arthropoda Insecta       Diptera\n",
       "60         Dineutus       NA accepted GBIF:1034541         Dineutus     genus        accepted Animalia Arthropoda Insecta    Coleoptera\n",
       "61         Disersus       NA accepted GBIF:4719030         Disersus     genus        accepted Animalia Arthropoda Insecta    Coleoptera\n",
       "62          Dixella       NA accepted GBIF:5077124          Dixella     genus        accepted Animalia Arthropoda Insecta       Diptera\n",
       "63          Donacia       NA accepted GBIF:1049445          Donacia     genus        accepted Animalia Arthropoda Insecta    Coleoptera\n",
       "64     Dromogomphus       NA accepted GBIF:1426434     Dromogomphus     genus        accepted Animalia Arthropoda Insecta       Odonata\n",
       "65           Dryops       NA accepted GBIF:1033449           Dryops     genus        accepted Animalia Arthropoda Insecta    Coleoptera\n",
       "66         Dythemis       NA accepted GBIF:1429493         Dythemis     genus        accepted Animalia Arthropoda Insecta       Odonata\n",
       "67      Ecuaphlebia       NA accepted GBIF:4683604      Ecuaphlebia     genus        accepted Animalia Arthropoda Insecta Ephemeroptera\n",
       "68     Elasmothemis       NA accepted GBIF:1429441     Elasmothemis     genus        accepted Animalia Arthropoda Insecta       Odonata\n",
       "69             Elga       NA accepted GBIF:1429060             Elga     genus        accepted Animalia Arthropoda Insecta       Odonata\n",
       "70           Elodes       NA accepted GBIF:1161912           Elodes     genus        accepted Animalia Arthropoda Insecta    Coleoptera\n",
       "71         Enochrus       NA accepted GBIF:1033975         Enochrus     genus        accepted Animalia Arthropoda Insecta    Coleoptera\n",
       "              family            genus specificEpithet\n",
       "1    Ptilodactylidae      Anchytarsus            <NA>\n",
       "2            Elmidae        Ancyronyx            <NA>\n",
       "3           Baetidae        Andesiops            <NA>\n",
       "4      Limnephilidae Anomalocosmoecus            <NA>\n",
       "5     Dolichopodidae       Aphrosylus            <NA>\n",
       "6          Gomphidae          Aphylla            <NA>\n",
       "7           Baetidae        Apobaetis            <NA>\n",
       "8     Coenagrionidae            Argia            <NA>\n",
       "9       Leptoceridae      Atanatolica            <NA>\n",
       "10     Hydrobiosidae        Atopsyche            <NA>\n",
       "11   Ceratopogonidae     Atrichopogon            <NA>\n",
       "12          Baetidae         Aturbina            <NA>\n",
       "13           Elmidae       Austrelmis            <NA>\n",
       "14           Elmidae    Austrolimnius            <NA>\n",
       "15          Baetidae         Baetodes            <NA>\n",
       "16    Belostomatidae        Belostoma            <NA>\n",
       "17     Hydrophilidae          Berosus            <NA>\n",
       "18      Libellulidae      Brachymesia            <NA>\n",
       "19          Gerridae      Brachymetra            <NA>\n",
       "20      Libellulidae     Brechmorhoga            <NA>\n",
       "21      Notonectidae           Buenoa            <NA>\n",
       "22     Leptohyphidae          Cabecar            <NA>\n",
       "23          Caenidae           Caenis            <NA>\n",
       "24     Hydrobiosidae         Cailloma            <NA>\n",
       "25          Baetidae      Callibaetis            <NA>\n",
       "26          Baetidae  Camelobaetidius            <NA>\n",
       "27   Polymitarcyidae        Campsurus            <NA>\n",
       "28    Euthyplociidae       Campylocia            <NA>\n",
       "29        Dytiscidae           Celina            <NA>\n",
       "30         Corixidae     Centrocorisa            <NA>\n",
       "31    Hydropsychidae  Centromacronema            <NA>\n",
       "32          Caenidae     Cercobrachys            <NA>\n",
       "33          Baetidae            Chane            <NA>\n",
       "34         Empididae        Chelifera            <NA>\n",
       "35    Philopotamidae         Chimarra            <NA>\n",
       "36      Chironomidae       Chironomus            <NA>\n",
       "37   Gripopterygidae     Claudioperla            <NA>\n",
       "38         Empididae        Clinocera            <NA>\n",
       "39          Baetidae         Cloeodes            <NA>\n",
       "40       Psychodidae          Clogmia            <NA>\n",
       "41  Anomalopsychidae         Contulma            <NA>\n",
       "42        Dytiscidae        Copelatus            <NA>\n",
       "43         Corixidae           Corixa            <NA>\n",
       "44       Corydalidae        Corydalus            <NA>\n",
       "45      Chironomidae      Corynoneura            <NA>\n",
       "46         Aeshnidae    Coryphaeschna            <NA>\n",
       "47      Coryphoridae       Coryphorus            <NA>\n",
       "48     Hydrophilidae         Crenitis            <NA>\n",
       "49        Tachinidae       Cricotopus            <NA>\n",
       "50        Naucoridae     Cryphocricos            <NA>\n",
       "51          Baetidae     Cryptonympha            <NA>\n",
       "52         Culicidae            Culex            <NA>\n",
       "53   Glossosomatidae        Culoptila            <NA>\n",
       "54          Gerridae  Cylindrostethus            <NA>\n",
       "55           Elmidae        Cylloepus            <NA>\n",
       "56         Scirtidae           Cyphon            <NA>\n",
       "57 Polycentropodidae        Cyrnellus            <NA>\n",
       "58     Hydrophilidae         Derallus            <NA>\n",
       "59      Chironomidae    Dicrotendipes            <NA>\n",
       "60         Gyrinidae         Dineutus            <NA>\n",
       "61           Elmidae         Disersus            <NA>\n",
       "62           Dixidae          Dixella            <NA>\n",
       "63     Chrysomelidae          Donacia            <NA>\n",
       "64         Gomphidae     Dromogomphus            <NA>\n",
       "65         Dryopidae           Dryops            <NA>\n",
       "66      Libellulidae         Dythemis            <NA>\n",
       "67   Leptophlebiidae      Ecuaphlebia            <NA>\n",
       "68      Libellulidae     Elasmothemis            <NA>\n",
       "69      Libellulidae             Elga            <NA>\n",
       "70         Scirtidae           Elodes            <NA>\n",
       "71     Hydrophilidae         Enochrus            <NA>\n",
       " [ reached 'max' / getOption(\"max.print\") -- omitted 5191 rows ]"
      ]
     },
     "execution_count": null,
     "metadata": {},
     "output_type": "execute_result"
    }
   ],
   "source": [
    "query_names_gbif = query_names %>%\n",
    "  select(original_search, distance, notes, taxonID, scientificName, taxonRank,  taxonomicStatus, kingdom,\n",
    "    phylum, class, order , family,genus, specificEpithet )\n",
    "\n",
    "\n",
    "as.data.frame(query_names_gbif)"
   ]
  },
  {
   "cell_type": "code",
   "execution_count": 75,
   "metadata": {},
   "outputs": [
    {
     "data": {
      "text/plain": [
       "\u001b[38;5;246m# A tibble: 9 × 3\u001b[39m\n",
       "  notes                                         n    prop\n",
       "  \u001b[3m\u001b[38;5;246m<chr>\u001b[39m\u001b[23m                                     \u001b[3m\u001b[38;5;246m<int>\u001b[39m\u001b[23m   \u001b[3m\u001b[38;5;246m<dbl>\u001b[39m\u001b[23m\n",
       "\u001b[38;5;250m1\u001b[39m accepted                                   \u001b[4m4\u001b[24m995 94.9   \n",
       "\u001b[38;5;250m2\u001b[39m accepted | replaceSynonym                    22  0.418 \n",
       "\u001b[38;5;250m3\u001b[39m accepted | wasMisspelled                     73  1.39  \n",
       "\u001b[38;5;250m4\u001b[39m accepted | wasMisspelled | replaceSynonym    21  0.399 \n",
       "\u001b[38;5;250m5\u001b[39m multipleAccepted                             53  1.01  \n",
       "\u001b[38;5;250m6\u001b[39m notFound                                     89  1.69  \n",
       "\u001b[38;5;250m7\u001b[39m proparte synonym                              2  0.038\u001b[4m0\u001b[24m\n",
       "\u001b[38;5;250m8\u001b[39m synonym                                       4  0.076\u001b[4m0\u001b[24m\n",
       "\u001b[38;5;250m9\u001b[39m synonym | wasMisspelled                       3  0.057\u001b[4m0\u001b[24m"
      ]
     },
     "execution_count": null,
     "metadata": {},
     "output_type": "execute_result"
    }
   ],
   "source": [
    "notes_sum_gbif = query_names_gbif%>%\n",
    "  group_by(notes)%>%\n",
    "  count()%>%\n",
    "  ungroup()%>%\n",
    "  mutate(prop = (n/sum(n))*100)\n",
    "\n",
    "notes_sum_gbif"
   ]
  },
  {
   "cell_type": "markdown",
   "metadata": {},
   "source": [
    "Using Catalogue of Life to complement the list of species not accepted by GBIF"
   ]
  },
  {
   "cell_type": "code",
   "execution_count": 76,
   "metadata": {},
   "outputs": [
    {
     "data": {
      "text/plain": [
       "\u001b[38;5;246m# A tibble: 5 × 3\u001b[39m\n",
       "  notes                       n  prop\n",
       "  \u001b[3m\u001b[38;5;246m<chr>\u001b[39m\u001b[23m                   \u001b[3m\u001b[38;5;246m<int>\u001b[39m\u001b[23m \u001b[3m\u001b[38;5;246m<dbl>\u001b[39m\u001b[23m\n",
       "\u001b[38;5;250m1\u001b[39m multipleAccepted           53 35.1 \n",
       "\u001b[38;5;250m2\u001b[39m notFound                   89 58.9 \n",
       "\u001b[38;5;250m3\u001b[39m proparte synonym            2  1.32\n",
       "\u001b[38;5;250m4\u001b[39m synonym                     4  2.65\n",
       "\u001b[38;5;250m5\u001b[39m synonym | wasMisspelled     3  1.99"
      ]
     },
     "execution_count": null,
     "metadata": {},
     "output_type": "execute_result"
    }
   ],
   "source": [
    "not_accepted_gbif = query_names_gbif %>% filter(notes %in% c(\"heterotypic synonym\", \"heterotypic synonym | wasMisspelled\",\n",
    "\"homotypic synonym\", \"homotypic synonym | wasMisspelled\", \"multipleAccepted\", \"notFound\", \"synonym\", \"synonym | wasMisspelled\", \"NA\",\n",
    "\"proparte synonym\",\"synonym\", \"synonym | wasMisspelled\" ))\n",
    "\n",
    "summary_not_gbif = not_accepted_gbif %>%\n",
    "  group_by(notes)%>%\n",
    "  count()%>%\n",
    "  ungroup()%>%\n",
    "  mutate(prop = (n/sum(n))*100)\n",
    "\n",
    "summary_not_gbif"
   ]
  },
  {
   "cell_type": "code",
   "execution_count": 77,
   "metadata": {},
   "outputs": [
    {
     "name": "stdout",
     "output_type": "stream",
     "text": [
      "\n",
      "Querying using col database version 22.12\n",
      "\n",
      "                     \n",
      " A total of 0 NA was/were found in sci_name.\n",
      "\n",
      " 151 names queried in 1.3 minutes\n",
      "\n"
     ]
    }
   ],
   "source": [
    "\n",
    "unique_names_col = unique(not_accepted_gbif$original_search)\n",
    "query_names_col <- bdc_query_names_taxadb(\n",
    "  sci_name            = unique_names_col,\n",
    "  replace_synonyms    = TRUE, # replace synonyms by accepted names?\n",
    "  suggest_names       = TRUE, # try to found a candidate name for misspelled names?\n",
    "  suggestion_distance = 0.8, # distance between the searched and suggested names\n",
    "  db                  = \"col\" , # taxonomic database\n",
    "  rank_name           = \"Insecta\", # a taxonomic rank\n",
    "  rank                = \"class\", # name of the taxonomic rank\n",
    "  parallel            = TRUE, # should parallel processing be used?\n",
    "  ncores              = 8, # number of cores to be used in the parallelization process \n",
    "  export_accepted     = FALSE # save names linked to multiple accepted names\n",
    ")\n"
   ]
  },
  {
   "cell_type": "code",
   "execution_count": 78,
   "metadata": {},
   "outputs": [
    {
     "data": {
      "text/plain": [
       "   original_search distance                                     notes   taxonID       scientificName taxonRank taxonomicStatus  kingdom   phylum\n",
       "1        Leptonema     0.82 accepted | wasMisspelled | replaceSynonym COL:3TRRB    Ceratobornia cema   species        accepted Animalia Mollusca\n",
       "2      Mortoniella       NA                                  notFound      <NA>                 <NA>      <NA>            <NA>     <NA>     <NA>\n",
       "3       Petrophila       NA                                  notFound      <NA>                 <NA>      <NA>            <NA>     <NA>     <NA>\n",
       "4           Phenax       NA                                  notFound      <NA>                 <NA>      <NA>            <NA>     <NA>     <NA>\n",
       "5      Hydrophilus       NA                                  notFound      <NA>                 <NA>      <NA>            <NA>     <NA>     <NA>\n",
       "6        Stigmella       NA                                  notFound      <NA>                 <NA>      <NA>            <NA>     <NA>     <NA>\n",
       "7         Langucys       NA                                  notFound      <NA>                 <NA>      <NA>            <NA>     <NA>     <NA>\n",
       "8          Lucilia       NA                                  notFound      <NA>                 <NA>      <NA>            <NA>     <NA>     <NA>\n",
       "9         Lazulina       NA                                  notFound      <NA>                 <NA>      <NA>            <NA>     <NA>     <NA>\n",
       "10            Seco       NA                                  notFound      <NA>                 <NA>      <NA>            <NA>     <NA>     <NA>\n",
       "11      Canthidium       NA                                  notFound      <NA>                 <NA>      <NA>            <NA>     <NA>     <NA>\n",
       "12       Hamadryas       NA                                  notFound      <NA>                 <NA>      <NA>            <NA>     <NA>     <NA>\n",
       "13       Pygodasis       NA                                  notFound      <NA>                 <NA>      <NA>            <NA>     <NA>     <NA>\n",
       "14           Dryas       NA                                  notFound      <NA>                 <NA>      <NA>            <NA>     <NA>     <NA>\n",
       "15      Solenopsis       NA                                  notFound      <NA>                 <NA>      <NA>            <NA>     <NA>     <NA>\n",
       "16          Curvie       NA                                  notFound      <NA>                 <NA>      <NA>            <NA>     <NA>     <NA>\n",
       "17        Leptotes       NA                                  notFound      <NA>                 <NA>      <NA>            <NA>     <NA>     <NA>\n",
       "18             Bia       NA                                  notFound      <NA>                 <NA>      <NA>            <NA>     <NA>     <NA>\n",
       "19       Colombeia       NA                                  notFound      <NA>                 <NA>      <NA>            <NA>     <NA>     <NA>\n",
       "20   Lamprophyllum       NA                                  notFound      <NA>                 <NA>      <NA>            <NA>     <NA>     <NA>\n",
       "21         Jamesia       NA                                  notFound      <NA>                 <NA>      <NA>            <NA>     <NA>     <NA>\n",
       "22   Calloceratina       NA                                  notFound      <NA>                 <NA>      <NA>            <NA>     <NA>     <NA>\n",
       "23           Helia       NA                                  notFound      <NA>                 <NA>      <NA>            <NA>     <NA>     <NA>\n",
       "24         Orbella       NA                                  notFound      <NA>                 <NA>      <NA>            <NA>     <NA>     <NA>\n",
       "25        Hylaeana       NA                                  notFound      <NA>                 <NA>      <NA>            <NA>     <NA>     <NA>\n",
       "26        Cathedra       NA                                  notFound      <NA>                 <NA>      <NA>            <NA>     <NA>     <NA>\n",
       "27     Taeniophora       NA                                  notFound      <NA>                 <NA>      <NA>            <NA>     <NA>     <NA>\n",
       "28           Corra       NA                                  notFound      <NA>                 <NA>      <NA>            <NA>     <NA>     <NA>\n",
       "29          Desmia       NA                                  notFound      <NA>                 <NA>      <NA>            <NA>     <NA>     <NA>\n",
       "30          Khamul       NA                                  notFound      <NA>                 <NA>      <NA>            <NA>     <NA>     <NA>\n",
       "31   Macgrathphora       NA                                  notFound      <NA>                 <NA>      <NA>            <NA>     <NA>     <NA>\n",
       "32      Exorbaetta       NA                                  notFound      <NA>                 <NA>      <NA>            <NA>     <NA>     <NA>\n",
       "33        Dyslexia       NA                                  notFound      <NA>                 <NA>      <NA>            <NA>     <NA>     <NA>\n",
       "34     Guapinannus       NA                                  notFound      <NA>                 <NA>      <NA>            <NA>     <NA>     <NA>\n",
       "35        Mansonia       NA                                  notFound      <NA>                 <NA>      <NA>            <NA>     <NA>     <NA>\n",
       "36 Cullumanobombus       NA                                  notFound      <NA>                 <NA>      <NA>            <NA>     <NA>     <NA>\n",
       "37        Graphium       NA                                  notFound      <NA>                 <NA>      <NA>            <NA>     <NA>     <NA>\n",
       "38            Tina       NA                                  notFound      <NA>                 <NA>      <NA>            <NA>     <NA>     <NA>\n",
       "39       Eurrhacus       NA                                  notFound      <NA>                 <NA>      <NA>            <NA>     <NA>     <NA>\n",
       "40      Drosophila       NA                                  notFound      <NA>                 <NA>      <NA>            <NA>     <NA>     <NA>\n",
       "41    Parepitragus       NA                                  notFound      <NA>                 <NA>      <NA>            <NA>     <NA>     <NA>\n",
       "42     Lissocentra       NA                                  notFound      <NA>                 <NA>      <NA>            <NA>     <NA>     <NA>\n",
       "43          Omacha       NA                                  notFound      <NA>                 <NA>      <NA>            <NA>     <NA>     <NA>\n",
       "44     Perugrampta       NA                                  notFound      <NA>                 <NA>      <NA>            <NA>     <NA>     <NA>\n",
       "45          Peckia       NA                                  notFound      <NA>                 <NA>      <NA>            <NA>     <NA>     <NA>\n",
       "46 Souzalopesiella       NA                                  notFound      <NA>                 <NA>      <NA>            <NA>     <NA>     <NA>\n",
       "47         Scopula       NA                                  notFound      <NA>                 <NA>      <NA>            <NA>     <NA>     <NA>\n",
       "48       Rhodobium       NA                                  notFound      <NA>                 <NA>      <NA>            <NA>     <NA>     <NA>\n",
       "49     Discomorpha       NA                                  notFound      <NA>                 <NA>      <NA>            <NA>     <NA>     <NA>\n",
       "50   Idioceromimus       NA                                  notFound      <NA>                 <NA>      <NA>            <NA>     <NA>     <NA>\n",
       "51       Sanguinea       NA                                  notFound      <NA>                 <NA>      <NA>            <NA>     <NA>     <NA>\n",
       "52   Penthigrampta       NA                                  notFound      <NA>                 <NA>      <NA>            <NA>     <NA>     <NA>\n",
       "53      Flintiella       NA                                  notFound      <NA>                 <NA>      <NA>            <NA>     <NA>     <NA>\n",
       "54        Jagiello       NA                                  notFound      <NA>                 <NA>      <NA>            <NA>     <NA>     <NA>\n",
       "55     Trochusinus     0.83 accepted | wasMisspelled | replaceSynonym COL:597VB Clanculus maxillatus   species        accepted Animalia Mollusca\n",
       "56     Paralustrus       NA                                  notFound      <NA>                 <NA>      <NA>            <NA>     <NA>     <NA>\n",
       "57      Variegatta       NA                                  notFound      <NA>                 <NA>      <NA>            <NA>     <NA>     <NA>\n",
       "58          Suneve       NA                                  notFound      <NA>                 <NA>      <NA>            <NA>     <NA>     <NA>\n",
       "59          Ipocia       NA                                  notFound      <NA>                 <NA>      <NA>            <NA>     <NA>     <NA>\n",
       "60  Margaritheclus       NA                                  notFound      <NA>                 <NA>      <NA>            <NA>     <NA>     <NA>\n",
       "61      Limnophila       NA                                  notFound      <NA>                 <NA>      <NA>            <NA>     <NA>     <NA>\n",
       "62        Satyrium       NA                                  notFound      <NA>                 <NA>      <NA>            <NA>     <NA>     <NA>\n",
       "63         Limonia       NA                                  notFound      <NA>                 <NA>      <NA>            <NA>     <NA>     <NA>\n",
       "64   Krecekitermes       NA                                  notFound      <NA>                 <NA>      <NA>            <NA>     <NA>     <NA>\n",
       "65     Sumacodella       NA                                  notFound      <NA>                 <NA>      <NA>            <NA>     <NA>     <NA>\n",
       "66       Myselasia       NA                                  notFound      <NA>                 <NA>      <NA>            <NA>     <NA>     <NA>\n",
       "67       Banchinae       NA                                  notFound      <NA>                 <NA>      <NA>            <NA>     <NA>     <NA>\n",
       "68       Paederina       NA                                  notFound      <NA>                 <NA>      <NA>            <NA>     <NA>     <NA>\n",
       "69       Cleodaeus       NA                                  notFound      <NA>                 <NA>      <NA>            <NA>     <NA>     <NA>\n",
       "70        Alticini       NA                                  notFound      <NA>                 <NA>      <NA>            <NA>     <NA>     <NA>\n",
       "71   Acanthocinini       NA                                  notFound      <NA>                 <NA>      <NA>            <NA>     <NA>     <NA>\n",
       "        class        order    family        genus specificEpithet\n",
       "1    Bivalvia Galeommatida Lasaeidae Ceratobornia            cema\n",
       "2        <NA>         <NA>      <NA>         <NA>            <NA>\n",
       "3        <NA>         <NA>      <NA>         <NA>            <NA>\n",
       "4        <NA>         <NA>      <NA>         <NA>            <NA>\n",
       "5        <NA>         <NA>      <NA>         <NA>            <NA>\n",
       "6        <NA>         <NA>      <NA>         <NA>            <NA>\n",
       "7        <NA>         <NA>      <NA>         <NA>            <NA>\n",
       "8        <NA>         <NA>      <NA>         <NA>            <NA>\n",
       "9        <NA>         <NA>      <NA>         <NA>            <NA>\n",
       "10       <NA>         <NA>      <NA>         <NA>            <NA>\n",
       "11       <NA>         <NA>      <NA>         <NA>            <NA>\n",
       "12       <NA>         <NA>      <NA>         <NA>            <NA>\n",
       "13       <NA>         <NA>      <NA>         <NA>            <NA>\n",
       "14       <NA>         <NA>      <NA>         <NA>            <NA>\n",
       "15       <NA>         <NA>      <NA>         <NA>            <NA>\n",
       "16       <NA>         <NA>      <NA>         <NA>            <NA>\n",
       "17       <NA>         <NA>      <NA>         <NA>            <NA>\n",
       "18       <NA>         <NA>      <NA>         <NA>            <NA>\n",
       "19       <NA>         <NA>      <NA>         <NA>            <NA>\n",
       "20       <NA>         <NA>      <NA>         <NA>            <NA>\n",
       "21       <NA>         <NA>      <NA>         <NA>            <NA>\n",
       "22       <NA>         <NA>      <NA>         <NA>            <NA>\n",
       "23       <NA>         <NA>      <NA>         <NA>            <NA>\n",
       "24       <NA>         <NA>      <NA>         <NA>            <NA>\n",
       "25       <NA>         <NA>      <NA>         <NA>            <NA>\n",
       "26       <NA>         <NA>      <NA>         <NA>            <NA>\n",
       "27       <NA>         <NA>      <NA>         <NA>            <NA>\n",
       "28       <NA>         <NA>      <NA>         <NA>            <NA>\n",
       "29       <NA>         <NA>      <NA>         <NA>            <NA>\n",
       "30       <NA>         <NA>      <NA>         <NA>            <NA>\n",
       "31       <NA>         <NA>      <NA>         <NA>            <NA>\n",
       "32       <NA>         <NA>      <NA>         <NA>            <NA>\n",
       "33       <NA>         <NA>      <NA>         <NA>            <NA>\n",
       "34       <NA>         <NA>      <NA>         <NA>            <NA>\n",
       "35       <NA>         <NA>      <NA>         <NA>            <NA>\n",
       "36       <NA>         <NA>      <NA>         <NA>            <NA>\n",
       "37       <NA>         <NA>      <NA>         <NA>            <NA>\n",
       "38       <NA>         <NA>      <NA>         <NA>            <NA>\n",
       "39       <NA>         <NA>      <NA>         <NA>            <NA>\n",
       "40       <NA>         <NA>      <NA>         <NA>            <NA>\n",
       "41       <NA>         <NA>      <NA>         <NA>            <NA>\n",
       "42       <NA>         <NA>      <NA>         <NA>            <NA>\n",
       "43       <NA>         <NA>      <NA>         <NA>            <NA>\n",
       "44       <NA>         <NA>      <NA>         <NA>            <NA>\n",
       "45       <NA>         <NA>      <NA>         <NA>            <NA>\n",
       "46       <NA>         <NA>      <NA>         <NA>            <NA>\n",
       "47       <NA>         <NA>      <NA>         <NA>            <NA>\n",
       "48       <NA>         <NA>      <NA>         <NA>            <NA>\n",
       "49       <NA>         <NA>      <NA>         <NA>            <NA>\n",
       "50       <NA>         <NA>      <NA>         <NA>            <NA>\n",
       "51       <NA>         <NA>      <NA>         <NA>            <NA>\n",
       "52       <NA>         <NA>      <NA>         <NA>            <NA>\n",
       "53       <NA>         <NA>      <NA>         <NA>            <NA>\n",
       "54       <NA>         <NA>      <NA>         <NA>            <NA>\n",
       "55 Gastropoda     Trochida Trochidae    Clanculus      maxillatus\n",
       "56       <NA>         <NA>      <NA>         <NA>            <NA>\n",
       "57       <NA>         <NA>      <NA>         <NA>            <NA>\n",
       "58       <NA>         <NA>      <NA>         <NA>            <NA>\n",
       "59       <NA>         <NA>      <NA>         <NA>            <NA>\n",
       "60       <NA>         <NA>      <NA>         <NA>            <NA>\n",
       "61       <NA>         <NA>      <NA>         <NA>            <NA>\n",
       "62       <NA>         <NA>      <NA>         <NA>            <NA>\n",
       "63       <NA>         <NA>      <NA>         <NA>            <NA>\n",
       "64       <NA>         <NA>      <NA>         <NA>            <NA>\n",
       "65       <NA>         <NA>      <NA>         <NA>            <NA>\n",
       "66       <NA>         <NA>      <NA>         <NA>            <NA>\n",
       "67       <NA>         <NA>      <NA>         <NA>            <NA>\n",
       "68       <NA>         <NA>      <NA>         <NA>            <NA>\n",
       "69       <NA>         <NA>      <NA>         <NA>            <NA>\n",
       "70       <NA>         <NA>      <NA>         <NA>            <NA>\n",
       "71       <NA>         <NA>      <NA>         <NA>            <NA>\n",
       " [ reached 'max' / getOption(\"max.print\") -- omitted 80 rows ]"
      ]
     },
     "execution_count": null,
     "metadata": {},
     "output_type": "execute_result"
    }
   ],
   "source": [
    "query_names_col = query_names_col %>%\n",
    "  select(original_search, distance, notes, taxonID, scientificName, taxonRank,  taxonomicStatus, kingdom,\n",
    "    phylum, class, order , family,genus, specificEpithet )\n",
    "\n",
    "\n",
    "as.data.frame(query_names_col)"
   ]
  },
  {
   "cell_type": "code",
   "execution_count": 79,
   "metadata": {},
   "outputs": [
    {
     "data": {
      "text/plain": [
       "\u001b[38;5;246m# A tibble: 2 × 3\u001b[39m\n",
       "  notes                                         n  prop\n",
       "  \u001b[3m\u001b[38;5;246m<chr>\u001b[39m\u001b[23m                                     \u001b[3m\u001b[38;5;246m<int>\u001b[39m\u001b[23m \u001b[3m\u001b[38;5;246m<dbl>\u001b[39m\u001b[23m\n",
       "\u001b[38;5;250m1\u001b[39m accepted | wasMisspelled | replaceSynonym     2  1.32\n",
       "\u001b[38;5;250m2\u001b[39m notFound                                    149 98.7 "
      ]
     },
     "execution_count": null,
     "metadata": {},
     "output_type": "execute_result"
    }
   ],
   "source": [
    "notes_sum_col = query_names_col%>%\n",
    "  group_by(notes)%>%\n",
    "  count()%>%\n",
    "  ungroup()%>%\n",
    "  mutate(prop = (n/sum(n))*100)\n",
    "\n",
    "notes_sum_col"
   ]
  },
  {
   "cell_type": "markdown",
   "metadata": {},
   "source": [
    "Using Integrated Taxonomic Information System  to complement the list of species not accepted by COL"
   ]
  },
  {
   "cell_type": "code",
   "execution_count": 80,
   "metadata": {},
   "outputs": [
    {
     "data": {
      "text/plain": [
       "\u001b[38;5;246m# A tibble: 151 × 14\u001b[39m\n",
       "   original_search distance notes             taxonID scientificName taxonRank taxonomicStatus kingdom phylum class order family genus specificEpithet\n",
       "   \u001b[3m\u001b[38;5;246m<chr>\u001b[39m\u001b[23m              \u001b[3m\u001b[38;5;246m<dbl>\u001b[39m\u001b[23m \u001b[3m\u001b[38;5;246m<chr>\u001b[39m\u001b[23m             \u001b[3m\u001b[38;5;246m<chr>\u001b[39m\u001b[23m   \u001b[3m\u001b[38;5;246m<chr>\u001b[39m\u001b[23m          \u001b[3m\u001b[38;5;246m<chr>\u001b[39m\u001b[23m     \u001b[3m\u001b[38;5;246m<chr>\u001b[39m\u001b[23m           \u001b[3m\u001b[38;5;246m<chr>\u001b[39m\u001b[23m   \u001b[3m\u001b[38;5;246m<chr>\u001b[39m\u001b[23m  \u001b[3m\u001b[38;5;246m<chr>\u001b[39m\u001b[23m \u001b[3m\u001b[38;5;246m<chr>\u001b[39m\u001b[23m \u001b[3m\u001b[38;5;246m<chr>\u001b[39m\u001b[23m  \u001b[3m\u001b[38;5;246m<chr>\u001b[39m\u001b[23m \u001b[3m\u001b[38;5;246m<chr>\u001b[39m\u001b[23m          \n",
       "\u001b[38;5;250m 1\u001b[39m Leptonema           0.82 accepted | wasMi… COL:3T… Ceratobornia … species   accepted        Animal… Mollu… Biva… Gale… Lasae… Cera… cema           \n",
       "\u001b[38;5;250m 2\u001b[39m Mortoniella        \u001b[31mNA\u001b[39m    notFound          \u001b[31mNA\u001b[39m      \u001b[31mNA\u001b[39m             \u001b[31mNA\u001b[39m        \u001b[31mNA\u001b[39m              \u001b[31mNA\u001b[39m      \u001b[31mNA\u001b[39m     \u001b[31mNA\u001b[39m    \u001b[31mNA\u001b[39m    \u001b[31mNA\u001b[39m     \u001b[31mNA\u001b[39m    \u001b[31mNA\u001b[39m             \n",
       "\u001b[38;5;250m 3\u001b[39m Petrophila         \u001b[31mNA\u001b[39m    notFound          \u001b[31mNA\u001b[39m      \u001b[31mNA\u001b[39m             \u001b[31mNA\u001b[39m        \u001b[31mNA\u001b[39m              \u001b[31mNA\u001b[39m      \u001b[31mNA\u001b[39m     \u001b[31mNA\u001b[39m    \u001b[31mNA\u001b[39m    \u001b[31mNA\u001b[39m     \u001b[31mNA\u001b[39m    \u001b[31mNA\u001b[39m             \n",
       "\u001b[38;5;250m 4\u001b[39m Phenax             \u001b[31mNA\u001b[39m    notFound          \u001b[31mNA\u001b[39m      \u001b[31mNA\u001b[39m             \u001b[31mNA\u001b[39m        \u001b[31mNA\u001b[39m              \u001b[31mNA\u001b[39m      \u001b[31mNA\u001b[39m     \u001b[31mNA\u001b[39m    \u001b[31mNA\u001b[39m    \u001b[31mNA\u001b[39m     \u001b[31mNA\u001b[39m    \u001b[31mNA\u001b[39m             \n",
       "\u001b[38;5;250m 5\u001b[39m Hydrophilus        \u001b[31mNA\u001b[39m    notFound          \u001b[31mNA\u001b[39m      \u001b[31mNA\u001b[39m             \u001b[31mNA\u001b[39m        \u001b[31mNA\u001b[39m              \u001b[31mNA\u001b[39m      \u001b[31mNA\u001b[39m     \u001b[31mNA\u001b[39m    \u001b[31mNA\u001b[39m    \u001b[31mNA\u001b[39m     \u001b[31mNA\u001b[39m    \u001b[31mNA\u001b[39m             \n",
       "\u001b[38;5;250m 6\u001b[39m Stigmella          \u001b[31mNA\u001b[39m    notFound          \u001b[31mNA\u001b[39m      \u001b[31mNA\u001b[39m             \u001b[31mNA\u001b[39m        \u001b[31mNA\u001b[39m              \u001b[31mNA\u001b[39m      \u001b[31mNA\u001b[39m     \u001b[31mNA\u001b[39m    \u001b[31mNA\u001b[39m    \u001b[31mNA\u001b[39m     \u001b[31mNA\u001b[39m    \u001b[31mNA\u001b[39m             \n",
       "\u001b[38;5;250m 7\u001b[39m Langucys           \u001b[31mNA\u001b[39m    notFound          \u001b[31mNA\u001b[39m      \u001b[31mNA\u001b[39m             \u001b[31mNA\u001b[39m        \u001b[31mNA\u001b[39m              \u001b[31mNA\u001b[39m      \u001b[31mNA\u001b[39m     \u001b[31mNA\u001b[39m    \u001b[31mNA\u001b[39m    \u001b[31mNA\u001b[39m     \u001b[31mNA\u001b[39m    \u001b[31mNA\u001b[39m             \n",
       "\u001b[38;5;250m 8\u001b[39m Lucilia            \u001b[31mNA\u001b[39m    notFound          \u001b[31mNA\u001b[39m      \u001b[31mNA\u001b[39m             \u001b[31mNA\u001b[39m        \u001b[31mNA\u001b[39m              \u001b[31mNA\u001b[39m      \u001b[31mNA\u001b[39m     \u001b[31mNA\u001b[39m    \u001b[31mNA\u001b[39m    \u001b[31mNA\u001b[39m     \u001b[31mNA\u001b[39m    \u001b[31mNA\u001b[39m             \n",
       "\u001b[38;5;250m 9\u001b[39m Lazulina           \u001b[31mNA\u001b[39m    notFound          \u001b[31mNA\u001b[39m      \u001b[31mNA\u001b[39m             \u001b[31mNA\u001b[39m        \u001b[31mNA\u001b[39m              \u001b[31mNA\u001b[39m      \u001b[31mNA\u001b[39m     \u001b[31mNA\u001b[39m    \u001b[31mNA\u001b[39m    \u001b[31mNA\u001b[39m     \u001b[31mNA\u001b[39m    \u001b[31mNA\u001b[39m             \n",
       "\u001b[38;5;250m10\u001b[39m Seco               \u001b[31mNA\u001b[39m    notFound          \u001b[31mNA\u001b[39m      \u001b[31mNA\u001b[39m             \u001b[31mNA\u001b[39m        \u001b[31mNA\u001b[39m              \u001b[31mNA\u001b[39m      \u001b[31mNA\u001b[39m     \u001b[31mNA\u001b[39m    \u001b[31mNA\u001b[39m    \u001b[31mNA\u001b[39m     \u001b[31mNA\u001b[39m    \u001b[31mNA\u001b[39m             \n",
       "\u001b[38;5;246m# ℹ 141 more rows\u001b[39m\n",
       "\u001b[38;5;246m# ℹ Use `print(n = ...)` to see more rows\u001b[39m"
      ]
     },
     "execution_count": null,
     "metadata": {},
     "output_type": "execute_result"
    }
   ],
   "source": [
    "not_accepted_col = query_names_col %>% filter(notes %in% c(\"ambiguous synonym\", \"ambiguous synonym | wasMisspelled\",\n",
    "\"notFound\", \"accepted | wasMisspelled | replaceSynonym\"))\n",
    "\n",
    "not_accepted_col "
   ]
  },
  {
   "cell_type": "code",
   "execution_count": 81,
   "metadata": {},
   "outputs": [
    {
     "name": "stdout",
     "output_type": "stream",
     "text": [
      "\n",
      "Querying using itis database version 22.12\n",
      "\n",
      "                     \n",
      " A total of 0 NA was/were found in sci_name.\n",
      "\n",
      " 151 names queried in 0.3 minutes\n",
      "\n"
     ]
    }
   ],
   "source": [
    "\n",
    "unique_names_itis = unique(not_accepted_col$original_search)\n",
    "query_names_itis <- bdc_query_names_taxadb(\n",
    "  sci_name            = unique_names_itis,\n",
    "  replace_synonyms    = TRUE, # replace synonyms by accepted names?\n",
    "  suggest_names       = TRUE, # try to found a candidate name for misspelled names?\n",
    "  suggestion_distance = 0.8, # distance between the searched and suggested names\n",
    "  db                  = \"itis\" , # taxonomic database\n",
    "  rank_name           = \"Insecta\", # a taxonomic rank\n",
    "  rank                = \"class\", # name of the taxonomic rank\n",
    "  parallel            = TRUE, # should parallel processing be used?\n",
    "  ncores              = 8, # number of cores to be used in the parallelization process \n",
    "  export_accepted     = FALSE # save names linked to multiple accepted names\n",
    ")\n"
   ]
  },
  {
   "cell_type": "code",
   "execution_count": 82,
   "metadata": {},
   "outputs": [
    {
     "data": {
      "text/plain": [
       "   original_search distance                                     notes      taxonID scientificName taxonRank taxonomicStatus kingdom phylum class\n",
       "1        Leptonema       NA                          multipleAccepted         <NA>           <NA>      <NA>            <NA>    <NA>   <NA>  <NA>\n",
       "2      Mortoniella       NA                                  accepted  ITIS:598606    Mortoniella     genus        accepted    <NA>   <NA>  <NA>\n",
       "3       Petrophila       NA                                  accepted  ITIS:117682     Petrophila     genus        accepted    <NA>   <NA>  <NA>\n",
       "4           Phenax       NA                                  accepted  ITIS:822745         Phenax     genus        accepted    <NA>   <NA>  <NA>\n",
       "5      Hydrophilus       NA                                  accepted  ITIS:113204    Hydrophilus     genus        accepted    <NA>   <NA>  <NA>\n",
       "6        Stigmella       NA                                  notFound         <NA>           <NA>      <NA>            <NA>    <NA>   <NA>  <NA>\n",
       "7         Langucys       NA                                  notFound         <NA>           <NA>      <NA>            <NA>    <NA>   <NA>  <NA>\n",
       "8          Lucilia       NA                                  accepted  ITIS:151596        Lucilia     genus        accepted    <NA>   <NA>  <NA>\n",
       "9         Lazulina       NA                                  notFound         <NA>           <NA>      <NA>            <NA>    <NA>   <NA>  <NA>\n",
       "10            Seco       NA                                  notFound         <NA>           <NA>      <NA>            <NA>    <NA>   <NA>  <NA>\n",
       "11      Canthidium       NA                                  accepted  ITIS:926411     Canthidium     genus        accepted    <NA>   <NA>  <NA>\n",
       "12       Hamadryas       NA                                  accepted  ITIS:777598      Hamadryas     genus        accepted    <NA>   <NA>  <NA>\n",
       "13       Pygodasis       NA                                  notFound         <NA>           <NA>      <NA>            <NA>    <NA>   <NA>  <NA>\n",
       "14           Dryas       NA                          multipleAccepted         <NA>           <NA>      <NA>            <NA>    <NA>   <NA>  <NA>\n",
       "15      Solenopsis       NA                                  accepted  ITIS:154237     Solenopsis     genus        accepted    <NA>   <NA>  <NA>\n",
       "16          Curvie       NA                                  notFound         <NA>           <NA>      <NA>            <NA>    <NA>   <NA>  <NA>\n",
       "17        Leptotes       NA                                  accepted  ITIS:777566       Leptotes     genus        accepted    <NA>   <NA>  <NA>\n",
       "18             Bia       NA                                  notFound         <NA>           <NA>      <NA>            <NA>    <NA>   <NA>  <NA>\n",
       "19       Colombeia       NA                                  notFound         <NA>           <NA>      <NA>            <NA>    <NA>   <NA>  <NA>\n",
       "20   Lamprophyllum       NA                                  notFound         <NA>           <NA>      <NA>            <NA>    <NA>   <NA>  <NA>\n",
       "21         Jamesia       NA                                  accepted   ITIS:24378        Jamesia     genus        accepted    <NA>   <NA>  <NA>\n",
       "22   Calloceratina     0.85                  accepted | wasMisspelled  ITIS:140736  Calliceratini     tribe        accepted    <NA>   <NA>  <NA>\n",
       "23           Helia       NA                                  accepted  ITIS:937237          Helia     genus        accepted    <NA>   <NA>  <NA>\n",
       "24         Orbella       NA                                  accepted ITIS:1068525        Orbella     genus        accepted    <NA>   <NA>  <NA>\n",
       "25        Hylaeana     0.88                  accepted | wasMisspelled  ITIS:773284       Hylarana     genus        accepted    <NA>   <NA>  <NA>\n",
       "26        Cathedra       NA                                  notFound         <NA>           <NA>      <NA>            <NA>    <NA>   <NA>  <NA>\n",
       "27     Taeniophora     0.83 accepted | wasMisspelled | replaceSynonym  ITIS:649615 Eutaeniophorus     genus        accepted    <NA>   <NA>  <NA>\n",
       "28           Corra     0.83                  accepted | wasMisspelled  ITIS:825198         Correa     genus        accepted    <NA>   <NA>  <NA>\n",
       "29          Desmia     0.83 accepted | wasMisspelled | replaceSynonym  ITIS:907141       Eriosyce     genus        accepted    <NA>   <NA>  <NA>\n",
       "30          Khamul       NA                                  notFound         <NA>           <NA>      <NA>            <NA>    <NA>   <NA>  <NA>\n",
       "31   Macgrathphora       NA                                  notFound         <NA>           <NA>      <NA>            <NA>    <NA>   <NA>  <NA>\n",
       "32      Exorbaetta       NA                                  notFound         <NA>           <NA>      <NA>            <NA>    <NA>   <NA>  <NA>\n",
       "33        Dyslexia       NA                                  notFound         <NA>           <NA>      <NA>            <NA>    <NA>   <NA>  <NA>\n",
       "34     Guapinannus       NA                                  notFound         <NA>           <NA>      <NA>            <NA>    <NA>   <NA>  <NA>\n",
       "35        Mansonia       NA                                  accepted  ITIS:126527       Mansonia     genus        accepted    <NA>   <NA>  <NA>\n",
       "36 Cullumanobombus       NA                                  notFound         <NA>           <NA>      <NA>            <NA>    <NA>   <NA>  <NA>\n",
       "37        Graphium       NA                                  notFound         <NA>           <NA>      <NA>            <NA>    <NA>   <NA>  <NA>\n",
       "38            Tina       NA                                  notFound         <NA>           <NA>      <NA>            <NA>    <NA>   <NA>  <NA>\n",
       "39       Eurrhacus       NA                                  notFound         <NA>           <NA>      <NA>            <NA>    <NA>   <NA>  <NA>\n",
       "40      Drosophila       NA                                  accepted  ITIS:146212     Drosophila     genus        accepted    <NA>   <NA>  <NA>\n",
       "41    Parepitragus       NA                                  notFound         <NA>           <NA>      <NA>            <NA>    <NA>   <NA>  <NA>\n",
       "42     Lissocentra       NA                                  notFound         <NA>           <NA>      <NA>            <NA>    <NA>   <NA>  <NA>\n",
       "43          Omacha       NA                                  notFound         <NA>           <NA>      <NA>            <NA>    <NA>   <NA>  <NA>\n",
       "44     Perugrampta       NA                                  notFound         <NA>           <NA>      <NA>            <NA>    <NA>   <NA>  <NA>\n",
       "45          Peckia       NA                                  notFound         <NA>           <NA>      <NA>            <NA>    <NA>   <NA>  <NA>\n",
       "46 Souzalopesiella       NA                                  notFound         <NA>           <NA>      <NA>            <NA>    <NA>   <NA>  <NA>\n",
       "47         Scopula       NA                                  accepted  ITIS:189131        Scopula     genus        accepted    <NA>   <NA>  <NA>\n",
       "48       Rhodobium       NA                          multipleAccepted         <NA>           <NA>      <NA>            <NA>    <NA>   <NA>  <NA>\n",
       "49     Discomorpha       NA                                  accepted  ITIS:837934    Discomorpha     genus        accepted    <NA>   <NA>  <NA>\n",
       "50   Idioceromimus       NA                                  notFound         <NA>           <NA>      <NA>            <NA>    <NA>   <NA>  <NA>\n",
       "51       Sanguinea     0.89                  accepted | wasMisspelled  ITIS:610081      Manguinea     genus        accepted    <NA>   <NA>  <NA>\n",
       "52   Penthigrampta       NA                                  notFound         <NA>           <NA>      <NA>            <NA>    <NA>   <NA>  <NA>\n",
       "53      Flintiella       NA                          multipleAccepted         <NA>           <NA>      <NA>            <NA>    <NA>   <NA>  <NA>\n",
       "54        Jagiello       NA                                  notFound         <NA>           <NA>      <NA>            <NA>    <NA>   <NA>  <NA>\n",
       "55     Trochusinus     0.82 accepted | wasMisspelled | replaceSynonym ITIS:1078114      Chiridota     genus        accepted    <NA>   <NA>  <NA>\n",
       "56     Paralustrus       NA                                  notFound         <NA>           <NA>      <NA>            <NA>    <NA>   <NA>  <NA>\n",
       "57      Variegatta       NA                                  notFound         <NA>           <NA>      <NA>            <NA>    <NA>   <NA>  <NA>\n",
       "58          Suneve       NA                                  notFound         <NA>           <NA>      <NA>            <NA>    <NA>   <NA>  <NA>\n",
       "59          Ipocia       NA                                  notFound         <NA>           <NA>      <NA>            <NA>    <NA>   <NA>  <NA>\n",
       "60  Margaritheclus       NA                                  notFound         <NA>           <NA>      <NA>            <NA>    <NA>   <NA>  <NA>\n",
       "61      Limnophila       NA                          multipleAccepted         <NA>           <NA>      <NA>            <NA>    <NA>   <NA>  <NA>\n",
       "62        Satyrium       NA                                  accepted  ITIS:777550       Satyrium     genus        accepted    <NA>   <NA>  <NA>\n",
       "63         Limonia       NA                          multipleAccepted         <NA>           <NA>      <NA>            <NA>    <NA>   <NA>  <NA>\n",
       "64   Krecekitermes       NA                                  notFound         <NA>           <NA>      <NA>            <NA>    <NA>   <NA>  <NA>\n",
       "65     Sumacodella       NA                                  notFound         <NA>           <NA>      <NA>            <NA>    <NA>   <NA>  <NA>\n",
       "66       Myselasia       NA                                  notFound         <NA>           <NA>      <NA>            <NA>    <NA>   <NA>  <NA>\n",
       "67       Banchinae       NA                                  notFound         <NA>           <NA>      <NA>            <NA>    <NA>   <NA>  <NA>\n",
       "68       Paederina     0.89                  accepted | wasMisspelled   ITIS:35084       Paederia     genus        accepted    <NA>   <NA>  <NA>\n",
       "69       Cleodaeus       NA                                  notFound         <NA>           <NA>      <NA>            <NA>    <NA>   <NA>  <NA>\n",
       "70        Alticini       NA                                  accepted  ITIS:719593       Alticini     tribe        accepted    <NA>   <NA>  <NA>\n",
       "71   Acanthocinini       NA                                  accepted  ITIS:701584  Acanthocinini     tribe        accepted    <NA>   <NA>  <NA>\n",
       "   order family genus specificEpithet\n",
       "1   <NA>   <NA>  <NA>            <NA>\n",
       "2   <NA>   <NA>  <NA>                \n",
       "3   <NA>   <NA>  <NA>                \n",
       "4   <NA>   <NA>  <NA>                \n",
       "5   <NA>   <NA>  <NA>                \n",
       "6   <NA>   <NA>  <NA>            <NA>\n",
       "7   <NA>   <NA>  <NA>            <NA>\n",
       "8   <NA>   <NA>  <NA>                \n",
       "9   <NA>   <NA>  <NA>            <NA>\n",
       "10  <NA>   <NA>  <NA>            <NA>\n",
       "11  <NA>   <NA>  <NA>                \n",
       "12  <NA>   <NA>  <NA>                \n",
       "13  <NA>   <NA>  <NA>            <NA>\n",
       "14  <NA>   <NA>  <NA>            <NA>\n",
       "15  <NA>   <NA>  <NA>                \n",
       "16  <NA>   <NA>  <NA>            <NA>\n",
       "17  <NA>   <NA>  <NA>                \n",
       "18  <NA>   <NA>  <NA>            <NA>\n",
       "19  <NA>   <NA>  <NA>            <NA>\n",
       "20  <NA>   <NA>  <NA>            <NA>\n",
       "21  <NA>   <NA>  <NA>                \n",
       "22  <NA>   <NA>  <NA>                \n",
       "23  <NA>   <NA>  <NA>                \n",
       "24  <NA>   <NA>  <NA>                \n",
       "25  <NA>   <NA>  <NA>                \n",
       "26  <NA>   <NA>  <NA>            <NA>\n",
       "27  <NA>   <NA>  <NA>                \n",
       "28  <NA>   <NA>  <NA>                \n",
       "29  <NA>   <NA>  <NA>                \n",
       "30  <NA>   <NA>  <NA>            <NA>\n",
       "31  <NA>   <NA>  <NA>            <NA>\n",
       "32  <NA>   <NA>  <NA>            <NA>\n",
       "33  <NA>   <NA>  <NA>            <NA>\n",
       "34  <NA>   <NA>  <NA>            <NA>\n",
       "35  <NA>   <NA>  <NA>                \n",
       "36  <NA>   <NA>  <NA>            <NA>\n",
       "37  <NA>   <NA>  <NA>            <NA>\n",
       "38  <NA>   <NA>  <NA>            <NA>\n",
       "39  <NA>   <NA>  <NA>            <NA>\n",
       "40  <NA>   <NA>  <NA>                \n",
       "41  <NA>   <NA>  <NA>            <NA>\n",
       "42  <NA>   <NA>  <NA>            <NA>\n",
       "43  <NA>   <NA>  <NA>            <NA>\n",
       "44  <NA>   <NA>  <NA>            <NA>\n",
       "45  <NA>   <NA>  <NA>            <NA>\n",
       "46  <NA>   <NA>  <NA>            <NA>\n",
       "47  <NA>   <NA>  <NA>                \n",
       "48  <NA>   <NA>  <NA>            <NA>\n",
       "49  <NA>   <NA>  <NA>                \n",
       "50  <NA>   <NA>  <NA>            <NA>\n",
       "51  <NA>   <NA>  <NA>                \n",
       "52  <NA>   <NA>  <NA>            <NA>\n",
       "53  <NA>   <NA>  <NA>            <NA>\n",
       "54  <NA>   <NA>  <NA>            <NA>\n",
       "55  <NA>   <NA>  <NA>                \n",
       "56  <NA>   <NA>  <NA>            <NA>\n",
       "57  <NA>   <NA>  <NA>            <NA>\n",
       "58  <NA>   <NA>  <NA>            <NA>\n",
       "59  <NA>   <NA>  <NA>            <NA>\n",
       "60  <NA>   <NA>  <NA>            <NA>\n",
       "61  <NA>   <NA>  <NA>            <NA>\n",
       "62  <NA>   <NA>  <NA>                \n",
       "63  <NA>   <NA>  <NA>            <NA>\n",
       "64  <NA>   <NA>  <NA>            <NA>\n",
       "65  <NA>   <NA>  <NA>            <NA>\n",
       "66  <NA>   <NA>  <NA>            <NA>\n",
       "67  <NA>   <NA>  <NA>            <NA>\n",
       "68  <NA>   <NA>  <NA>                \n",
       "69  <NA>   <NA>  <NA>            <NA>\n",
       "70  <NA>   <NA>  <NA>                \n",
       "71  <NA>   <NA>  <NA>                \n",
       " [ reached 'max' / getOption(\"max.print\") -- omitted 80 rows ]"
      ]
     },
     "execution_count": null,
     "metadata": {},
     "output_type": "execute_result"
    }
   ],
   "source": [
    "query_names_itis = query_names_itis %>%\n",
    "  select(original_search, distance, notes, taxonID, scientificName, taxonRank,  taxonomicStatus, kingdom,\n",
    "    phylum, class, order , family,genus, specificEpithet )\n",
    "\n",
    "\n",
    "as.data.frame(query_names_itis)"
   ]
  },
  {
   "cell_type": "code",
   "execution_count": 83,
   "metadata": {},
   "outputs": [
    {
     "data": {
      "text/plain": [
       "\u001b[38;5;246m# A tibble: 6 × 3\u001b[39m\n",
       "  notes                                         n  prop\n",
       "  \u001b[3m\u001b[38;5;246m<chr>\u001b[39m\u001b[23m                                     \u001b[3m\u001b[38;5;246m<int>\u001b[39m\u001b[23m \u001b[3m\u001b[38;5;246m<dbl>\u001b[39m\u001b[23m\n",
       "\u001b[38;5;250m1\u001b[39m accepted                                     33 21.9 \n",
       "\u001b[38;5;250m2\u001b[39m accepted | replaceSynonym                     3  1.99\n",
       "\u001b[38;5;250m3\u001b[39m accepted | wasMisspelled                     11  7.28\n",
       "\u001b[38;5;250m4\u001b[39m accepted | wasMisspelled | replaceSynonym     6  3.97\n",
       "\u001b[38;5;250m5\u001b[39m multipleAccepted                             10  6.62\n",
       "\u001b[38;5;250m6\u001b[39m notFound                                     88 58.3 "
      ]
     },
     "execution_count": null,
     "metadata": {},
     "output_type": "execute_result"
    }
   ],
   "source": [
    "notes_sum_itis = query_names_itis%>%\n",
    "  group_by(notes)%>%\n",
    "  count()%>%\n",
    "  ungroup()%>%\n",
    "  mutate(prop = (n/sum(n))*100)\n",
    "\n",
    "notes_sum_itis"
   ]
  },
  {
   "cell_type": "markdown",
   "metadata": {},
   "source": [
    "Join all taxa search results"
   ]
  },
  {
   "cell_type": "code",
   "execution_count": 84,
   "metadata": {},
   "outputs": [
    {
     "data": {
      "text/plain": [
       "\u001b[38;5;246m# A tibble: 7 × 3\u001b[39m\n",
       "  notes                                         n    prop\n",
       "  \u001b[3m\u001b[38;5;246m<chr>\u001b[39m\u001b[23m                                     \u001b[3m\u001b[38;5;246m<int>\u001b[39m\u001b[23m   \u001b[3m\u001b[38;5;246m<dbl>\u001b[39m\u001b[23m\n",
       "\u001b[38;5;250m1\u001b[39m accepted                                   \u001b[4m5\u001b[24m024 97.7   \n",
       "\u001b[38;5;250m2\u001b[39m accepted | replaceSynonym                    15  0.292 \n",
       "\u001b[38;5;250m3\u001b[39m accepted | wasMisspelled                     71  1.38  \n",
       "\u001b[38;5;250m4\u001b[39m accepted | wasMisspelled | replaceSynonym    26  0.505 \n",
       "\u001b[38;5;250m5\u001b[39m multipleAccepted                              1  0.019\u001b[4m4\u001b[24m\n",
       "\u001b[38;5;250m6\u001b[39m synonym                                       4  0.077\u001b[4m8\u001b[24m\n",
       "\u001b[38;5;250m7\u001b[39m synonym | wasMisspelled                       3  0.058\u001b[4m3\u001b[24m"
      ]
     },
     "execution_count": null,
     "metadata": {},
     "output_type": "execute_result"
    }
   ],
   "source": [
    "querys_join = rbind(query_names_gbif, query_names_col, query_names_itis) \n",
    "querys_join = querys_join%>%distinct(scientificName, .keep_all = TRUE)\n",
    "summary_taxon_querys = querys_join%>%\n",
    "  group_by(notes)%>%\n",
    "  count()%>%\n",
    "  ungroup()%>%\n",
    "  mutate(prop = (n/sum(n))*100)\n",
    "\n",
    "summary_taxon_querys"
   ]
  },
  {
   "cell_type": "code",
   "execution_count": 85,
   "metadata": {},
   "outputs": [
    {
     "data": {
      "text/plain": [
       "\u001b[38;5;246m# A tibble: 5,144 × 14\u001b[39m\n",
       "   original_search  distance notes    taxonID      scientificName   taxonRank taxonomicStatus kingdom  phylum class order family genus specificEpithet\n",
       "   \u001b[3m\u001b[38;5;246m<chr>\u001b[39m\u001b[23m               \u001b[3m\u001b[38;5;246m<dbl>\u001b[39m\u001b[23m \u001b[3m\u001b[38;5;246m<chr>\u001b[39m\u001b[23m    \u001b[3m\u001b[38;5;246m<chr>\u001b[39m\u001b[23m        \u001b[3m\u001b[38;5;246m<chr>\u001b[39m\u001b[23m            \u001b[3m\u001b[38;5;246m<chr>\u001b[39m\u001b[23m     \u001b[3m\u001b[38;5;246m<chr>\u001b[39m\u001b[23m           \u001b[3m\u001b[38;5;246m<chr>\u001b[39m\u001b[23m    \u001b[3m\u001b[38;5;246m<chr>\u001b[39m\u001b[23m  \u001b[3m\u001b[38;5;246m<chr>\u001b[39m\u001b[23m \u001b[3m\u001b[38;5;246m<chr>\u001b[39m\u001b[23m \u001b[3m\u001b[38;5;246m<chr>\u001b[39m\u001b[23m  \u001b[3m\u001b[38;5;246m<chr>\u001b[39m\u001b[23m \u001b[3m\u001b[38;5;246m<chr>\u001b[39m\u001b[23m          \n",
       "\u001b[38;5;250m 1\u001b[39m Anchytarsus            \u001b[31mNA\u001b[39m accepted GBIF:1033846 Anchytarsus      genus     accepted        Animalia Arthr… Inse… Cole… Ptilo… Anch… \u001b[31mNA\u001b[39m             \n",
       "\u001b[38;5;250m 2\u001b[39m Ancyronyx              \u001b[31mNA\u001b[39m accepted GBIF:1033499 Ancyronyx        genus     accepted        Animalia Arthr… Inse… Cole… Elmid… Ancy… \u001b[31mNA\u001b[39m             \n",
       "\u001b[38;5;250m 3\u001b[39m Andesiops              \u001b[31mNA\u001b[39m accepted GBIF:4683703 Andesiops        genus     accepted        Animalia Arthr… Inse… Ephe… Baeti… Ande… \u001b[31mNA\u001b[39m             \n",
       "\u001b[38;5;250m 4\u001b[39m Anomalocosmoecus       \u001b[31mNA\u001b[39m accepted GBIF:1442062 Anomalocosmoecus genus     accepted        Animalia Arthr… Inse… Tric… Limne… Anom… \u001b[31mNA\u001b[39m             \n",
       "\u001b[38;5;250m 5\u001b[39m Aphrosylus             \u001b[31mNA\u001b[39m accepted GBIF:1609134 Aphrosylus       genus     accepted        Animalia Arthr… Inse… Dipt… Dolic… Aphr… \u001b[31mNA\u001b[39m             \n",
       "\u001b[38;5;250m 6\u001b[39m Aphylla                \u001b[31mNA\u001b[39m accepted GBIF:1425745 Aphylla          genus     accepted        Animalia Arthr… Inse… Odon… Gomph… Aphy… \u001b[31mNA\u001b[39m             \n",
       "\u001b[38;5;250m 7\u001b[39m Apobaetis              \u001b[31mNA\u001b[39m accepted GBIF:1407958 Apobaetis        genus     accepted        Animalia Arthr… Inse… Ephe… Baeti… Apob… \u001b[31mNA\u001b[39m             \n",
       "\u001b[38;5;250m 8\u001b[39m Argia                  \u001b[31mNA\u001b[39m accepted GBIF:1422607 Argia            genus     accepted        Animalia Arthr… Inse… Odon… Coena… Argia \u001b[31mNA\u001b[39m             \n",
       "\u001b[38;5;250m 9\u001b[39m Atanatolica            \u001b[31mNA\u001b[39m accepted GBIF:1435520 Atanatolica      genus     accepted        Animalia Arthr… Inse… Tric… Lepto… Atan… \u001b[31mNA\u001b[39m             \n",
       "\u001b[38;5;250m10\u001b[39m Atopsyche              \u001b[31mNA\u001b[39m accepted GBIF:1434606 Atopsyche        genus     accepted        Animalia Arthr… Inse… Tric… Hydro… Atop… \u001b[31mNA\u001b[39m             \n",
       "\u001b[38;5;246m# ℹ 5,134 more rows\u001b[39m\n",
       "\u001b[38;5;246m# ℹ Use `print(n = ...)` to see more rows\u001b[39m"
      ]
     },
     "execution_count": null,
     "metadata": {},
     "output_type": "execute_result"
    }
   ],
   "source": [
    "querys_join "
   ]
  },
  {
   "cell_type": "code",
   "execution_count": 87,
   "metadata": {},
   "outputs": [
    {
     "name": "stderr",
     "output_type": "stream",
     "text": [
      "Warning message:\n",
      "In left_join(., querys_join, by = c(names_clean = \"original_search\")) :\n",
      "  \u001b[1m\u001b[22mDetected an unexpected many-to-many relationship between `x` and `y`.\n",
      "\u001b[36mℹ\u001b[39m Row 2458 of `x` matches multiple rows in `y`.\n",
      "\u001b[36mℹ\u001b[39m Row 1 of `y` matches multiple rows in `x`.\n",
      "\u001b[36mℹ\u001b[39m If a many-to-many relationship is expected, set `relationship = \"many-to-many\"` to silence this warning.\n"
     ]
    },
    {
     "data": {
      "text/plain": [
       "\u001b[38;5;246m# A tibble: 8 × 3\u001b[39m\n",
       "  notes                                          n     prop\n",
       "  \u001b[3m\u001b[38;5;246m<chr>\u001b[39m\u001b[23m                                      \u001b[3m\u001b[38;5;246m<int>\u001b[39m\u001b[23m    \u001b[3m\u001b[38;5;246m<dbl>\u001b[39m\u001b[23m\n",
       "\u001b[38;5;250m1\u001b[39m accepted                                  \u001b[4m2\u001b[24m\u001b[4m1\u001b[24m\u001b[4m6\u001b[24m072 97.2    \n",
       "\u001b[38;5;250m2\u001b[39m accepted | replaceSynonym                    198  0.089\u001b[4m1\u001b[24m \n",
       "\u001b[38;5;250m3\u001b[39m accepted | wasMisspelled                    \u001b[4m1\u001b[24m433  0.645  \n",
       "\u001b[38;5;250m4\u001b[39m accepted | wasMisspelled | replaceSynonym    143  0.064\u001b[4m3\u001b[24m \n",
       "\u001b[38;5;250m5\u001b[39m multipleAccepted                            \u001b[4m1\u001b[24m113  0.501  \n",
       "\u001b[38;5;250m6\u001b[39m synonym                                        5  0.002\u001b[4m2\u001b[24m\u001b[4m5\u001b[24m\n",
       "\u001b[38;5;250m7\u001b[39m synonym | wasMisspelled                       92  0.041\u001b[4m4\u001b[24m \n",
       "\u001b[38;5;250m8\u001b[39m \u001b[31mNA\u001b[39m                                          \u001b[4m3\u001b[24m228  1.45   "
      ]
     },
     "execution_count": null,
     "metadata": {},
     "output_type": "execute_result"
    }
   ],
   "source": [
    "database_10$id_record = seq(1:nrow(database_10))\n",
    "database_11 = database_10 %>% left_join(querys_join, by = c(\"names_clean\" = \"original_search\")) %>% distinct(id_record, .keep_all = TRUE)\n",
    "database_11_sum_notes = database_11%>%\n",
    "  group_by(notes)%>%\n",
    "  count()%>%\n",
    "  ungroup()%>%\n",
    "  mutate(prop = (n/sum(n))*100)\n",
    "\n",
    "database_11_sum_notes"
   ]
  },
  {
   "cell_type": "code",
   "execution_count": 90,
   "metadata": {},
   "outputs": [
    {
     "data": {
      "text/plain": [
       "   database_id TaxonRank class.x        family.x          genus.x scientificName.x decimalLatitude decimalLongitude\n",
       "1     BNDB_971     Genus Insecta Ptilodactylidae      Anchytarsus      Anchytarsus      -0.6422200        -79.18954\n",
       "2     BNDB_973     Genus Insecta Ptilodactylidae      Anchytarsus      Anchytarsus      -0.5878375        -76.77132\n",
       "3     BNDB_975     Genus Insecta Ptilodactylidae      Anchytarsus      Anchytarsus      -0.1362828        -76.93503\n",
       "4     BNDB_977     Genus Insecta Ptilodactylidae      Anchytarsus      Anchytarsus       0.1287282        -77.31192\n",
       "5     BNDB_979     Genus Insecta Ptilodactylidae      Anchytarsus      Anchytarsus      -0.5651405        -76.93760\n",
       "6     BNDB_982     Genus Insecta Ptilodactylidae      Anchytarsus      Anchytarsus      -0.2935471        -76.36111\n",
       "7     BNDB_985     Genus Insecta Ptilodactilidae      Anchytarsus      Anchytarsus       0.1462140        -78.90602\n",
       "8     BNDB_988     Genus Insecta Ptilodactilidae      Anchytarsus      Anchytarsus       0.2204590        -77.50945\n",
       "9     BNDB_990     Genus Insecta Ptilodactilidae      Anchytarsus      Anchytarsus       1.0084520        -78.22668\n",
       "10   BNDB_1031     Genus Insecta         Elmidae        Ancyronyx        Ancyronyx      -0.2869540        -78.24589\n",
       "11   BNDB_1035     Genus Insecta         Elmidae        Ancyronyx        Ancyronyx      -0.3592300        -79.11351\n",
       "12   BNDB_1038     Genus Insecta        Baetidae        Andesiops        Andesiops      -1.8461400        -78.54760\n",
       "13   BNDB_1043     Genus Insecta        Baetidae        Andesiops        Andesiops       0.9756620        -78.20959\n",
       "14   BNDB_1048     Genus Insecta        Baetidae        Andesiops        Andesiops      -0.3574600        -79.11442\n",
       "15   BNDB_1053     Genus Insecta        Baetidae        Andesiops        Andesiops      -0.3030047        -78.13481\n",
       "16   BNDB_1057     Genus Insecta        Baetidae        Andesiops        Andesiops      -0.1855605        -78.12585\n",
       "17   BNDB_1060     Genus Insecta        Baetidae        Andesiops        Andesiops       1.0212190        -78.24575\n",
       "18   BNDB_1064     Genus Insecta   Limnephilidae Anomalocosmoecus Anomalocosmoecus       0.6835120        -77.22005\n",
       "19   BNDB_1066     Genus Insecta   Limnephilidae Anomalocosmoecus Anomalocosmoecus      -0.1748420        -78.53223\n",
       "20   BNDB_1070     Genus Insecta   Limnephilidae Anomalocosmoecus Anomalocosmoecus       0.1532900        -78.27577\n",
       "21   BNDB_1072     Genus Insecta   Limnephilidae Anomalocosmoecus Anomalocosmoecus       0.1563100        -78.28016\n",
       "22   BNDB_1074     Genus Insecta   Limnephilidae Anomalocosmoecus Anomalocosmoecus       0.1588300        -78.28361\n",
       "23   BNDB_1076     Genus Insecta   Limnephilidae Anomalocosmoecus Anomalocosmoecus       0.1536200        -78.27949\n",
       "24   BNDB_1096     Genus Insecta  Dolichopodidae       Aphrosylus       Aphrosylus      -4.0773500        -78.78003\n",
       "25   BNDB_1098     Genus Insecta       Tabanidae       Aphrosylus       Aphrosylus      -0.1748420        -78.53223\n",
       "                           occurrenceID           basisOfRecord verbatimEventDate country                     stateProvince              locality\n",
       "1  67bd219f-d2d7-4a41-8d4f-ca6a1c12d08b Espec\\xedmen Preservado        2022-02-08 Ecuador                       Los R\\xedos                  <NA>\n",
       "2  b80a793e-c04b-4b41-88db-d8b4dba78506      Preserved Specimen        2021-12-20 Ecuador                          Orellana            Estero S/N\n",
       "3  c59d8984-031e-4e9c-bf23-a8df7c08661c       PreservesSpecemen        2021-09-16 Ecuador                          Orellana     TRES DE NOVIEMBRE\n",
       "4  097f5ff4-866e-4e1b-b17e-dd3847addc34       PreservesSpecemen        2022-01-24 Ecuador                      Sucumb\\xedos EL DORADO DE Cascales\n",
       "5  e7f27209-8604-44de-b43e-4fe8abc2f67c       PreservesSpecemen        2021-09-18 Ecuador                          Orellana             EL DORADO\n",
       "6  8b392663-4188-4e7b-b521-0980ea4d4403       PreservesSpecemen        2021-06-27 Ecuador                      Sucumb\\xedos             SAN ROQUE\n",
       "7  b7f21191-056b-4024-a0d5-f678dfb20773       PreservedSpecimen        2022-08-18 Ecuador                         Pichincha  Reserva la Cambriana\n",
       "8  14c6e35a-b276-4320-aedf-3cf0cd79b875       PreservedSpecimen        2022-11-29 Ecuador                      Sucumb\\xedos                  <NA>\n",
       "9  090cfbfa-0c2f-4462-b1d4-1947399a3946       PreservedSpecimen        2023-12-07 Ecuador                            Carchi    Reserva Dr\\xe1cula\n",
       "10 321261ad-ea48-46cd-b915-25f351c18a57 Esp\\xe9cimen Preservado        2007-08-16 Ecuador                         Pichincha                  Pifo\n",
       "11 c533a758-3c90-4cdf-be53-cd62f27cbb99 Espec\\xedmen Preservado        2022-05-16 Ecuador Santo Domingo de los Ts\\xe1chilas San Vicente de Aquepi\n",
       "12 99728f26-4c0c-4d0f-bc3c-154aa8316a89 Esp\\xe9cimen Preservado        2018-12-09 Ecuador                        Chimborazo San Jos\\xe9 de Chusga\n",
       "13 dc4eae17-292b-466d-b3a7-ea19d1c155c8 Esp\\xe9cimen Preservado              <NA> Ecuador                            Carchi                  <NA>\n",
       "14 8b03be30-eecc-4d18-b32b-ad86825eea23 Espec\\xedmen Preservado        2022-05-16 Ecuador Santo Domingo de los Ts\\xe1chilas San Vicente de Aquepi\n",
       "15 8f2b6aea-9e77-4a29-9b6a-3c185cc631b1       PreservedSpecimen        2015-08-05 Ecuador                              Napo        Rio Guaytaloma\n",
       "16 30657227-1edf-463b-ba95-a38532b5a281       PreservedSpecimen        2015-08-04 Ecuador                              Napo           Rio Venados\n",
       "17 fff5a479-ec8a-4e69-90f7-9db9a1cee1b8       PreservedSpecimen        2023-12-07 Ecuador                            Carchi    Reserva Dr\\xe1cula\n",
       "18 95a2cb11-e39d-4db4-bfe2-df6c5fffc9c0 Esp\\xe9cimen Preservado        2009-06-18 Ecuador                         Pichincha            Paluguillo\n",
       "19 d985d6ed-0437-43da-bd7a-19cd2d762861 Esp\\xe9cimen Preservado        2011-05-21 Ecuador                         Pichincha                  <NA>\n",
       "20 f551fd4e-e22f-4a50-99b1-bb02b23a8aa0 Espec\\xedmen Preservado        2022-01-18 Ecuador                          Imbabura             Mojandita\n",
       "21 87fa96cf-ebb7-41d9-82fa-c79068e19538 Espec\\xedmen Preservado        2022-01-18 Ecuador                          Imbabura             Mojandita\n",
       "22 54327e98-2878-4c1c-9d49-0f197d2416ef Espec\\xedmen Preservado        2022-01-20 Ecuador                          Imbabura             Mojandita\n",
       "23 4bb187bd-fbe4-45ec-9491-e06a82ccdfd7 Espec\\xedmen Preservado        2022-01-24 Ecuador                          Imbabura             Mojandita\n",
       "24 23c61f97-1df9-461c-afa0-88a19435d07d Esp\\xe9cimen Preservado        2015-03-27 Ecuador                  Zamora Chinchipe               Nambija\n",
       "25 a7f71872-a2bd-435f-83e7-02af77b989b3 Esp\\xe9cimen Preservado        2011-05-21 Ecuador                         Pichincha                  <NA>\n",
       "                             identifiedBy coordinateUncertaintyInMeters\n",
       "1         Mauricio Gabriel Herrera Madrid                            NA\n",
       "2         Mayra Alejandra Guijarro Torres                            NA\n",
       "3                          Valeria Granda                            NA\n",
       "4                          Valeria Granda                            NA\n",
       "5                          Valeria Granda                            NA\n",
       "6                          Valeria Granda                            NA\n",
       "7         Mauricio Gabriel Herrera Madrid                            NA\n",
       "8                          Valeria Granda                            NA\n",
       "9         Mauricio Gabriel Herrera Madrid                            NA\n",
       "10        Mauricio Gabriel Herrera Madrid                            NA\n",
       "11        Mauricio Gabriel Herrera Madrid                            NA\n",
       "12 Andrea del Rosario Enr\\xedquez Morillo                            NA\n",
       "13        Mauricio Gabriel Herrera Madrid                            NA\n",
       "14        Mauricio Gabriel Herrera Madrid                            NA\n",
       "15        Mauricio Gabriel Herrera Madrid                            NA\n",
       "16        Mauricio Gabriel Herrera Madrid                            NA\n",
       "17        Mauricio Gabriel Herrera Madrid                            NA\n",
       "18                      Blanca Rios Touma                            NA\n",
       "19              Daniel Padilla Jim\\xe9nez                            NA\n",
       "20   Mar\\xeda Patricia Alarc\\xf3n Navarro                            NA\n",
       "21   Mar\\xeda Patricia Alarc\\xf3n Navarro                            NA\n",
       "22        Mauricio Gabriel Herrera Madrid                            NA\n",
       "23        Mauricio Gabriel Herrera Madrid                            NA\n",
       "24        Mauricio Gabriel Herrera Madrid                            NA\n",
       "25              Daniel Padilla Jim\\xe9nez                            NA\n",
       "                                                                                recordedBy year institutionCode database_name .coordinates_outOfRange\n",
       "1                           Mauricio Gabriel Herrera Madrid; Mateo Andr\\xe9s Vega Y\\xe1nez 2022        INABIOEC          BNDB                    TRUE\n",
       "2                                                          Mayra Alejandra Guijarro Torres 2021        INABIOEC          BNDB                    TRUE\n",
       "3                                                                       Andrea Enr\\xedquez 2021        INABIOEC          BNDB                    TRUE\n",
       "4                                                                             Pablo Araujo 2022        INABIOEC          BNDB                    TRUE\n",
       "5                                                                           Daniel P\\xe1ez 2021        INABIOEC          BNDB                    TRUE\n",
       "6                                                                       Andrea Enr\\xedquez 2021        INABIOEC          BNDB                    TRUE\n",
       "7                                                                         Berenice Vallejo 2022        INABIOEC          BNDB                    TRUE\n",
       "8                                                                             Freddy Gallo 2022        INABIOEC          BNDB                    TRUE\n",
       "9                                                          Mauricio Gabriel Herrera Madrid 2023        INABIOEC          BNDB                    TRUE\n",
       "10                                                     Edgar Santiago Villamar\\xedn Cortez 2007        INABIOEC          BNDB                    TRUE\n",
       "11                                                         Mauricio Gabriel Herrera Madrid 2022        INABIOEC          BNDB                    TRUE\n",
       "12                                                  Andrea del Rosario Enr\\xedquez Morillo 2018        INABIOEC          BNDB                    TRUE\n",
       "13 Mauricio Gabriel Herrera Madrid; Miguel Andr\\xe9s Urgil\\xe9s Merch\\xe1n | Nilo Ort\\xedz 2021        INABIOEC          BNDB                    TRUE\n",
       "14                                                         Mauricio Gabriel Herrera Madrid 2022        INABIOEC          BNDB                    TRUE\n",
       "15                                                             Karla Yadira Jimenez Aquino 2015        INABIOEC          BNDB                    TRUE\n",
       "16                                                             Karla Yadira Jimenez Aquino 2015        INABIOEC          BNDB                    TRUE\n",
       "17                                                         Mauricio Gabriel Herrera Madrid 2023        INABIOEC          BNDB                    TRUE\n",
       "18                                                          Blanca Rios Touma; Gonzales F. 2009        INABIOEC          BNDB                    TRUE\n",
       "19                       Edgar Santiago Villamar\\xedn C\\xf3rtez; Daniel Padilla Jim\\xe9nez 2011        INABIOEC          BNDB                    TRUE\n",
       "20                                                         Mauricio Gabriel Herrera Madrid 2022        INABIOEC          BNDB                    TRUE\n",
       "21                                                         Mauricio Gabriel Herrera Madrid 2022        INABIOEC          BNDB                    TRUE\n",
       "22                                                         Mauricio Gabriel Herrera Madrid 2022        INABIOEC          BNDB                    TRUE\n",
       "23                                                         Mauricio Gabriel Herrera Madrid 2022        INABIOEC          BNDB                    TRUE\n",
       "24                                                         Mauricio Gabriel Herrera Madrid 2015        INABIOEC          BNDB                    TRUE\n",
       "25                       Edgar Santiago Villamar\\xedn C\\xf3rtez; Daniel Padilla Jim\\xe9nez 2011        INABIOEC          BNDB                    TRUE\n",
       "   uncer_terms .uncer_terms .infraesp_names      names_clean quality id_record distance    notes      taxonID scientificName.y taxonRank\n",
       "1        FALSE         TRUE            TRUE      Anchytarsus       1         1       NA accepted GBIF:1033846      Anchytarsus     genus\n",
       "2        FALSE         TRUE            TRUE      Anchytarsus       1         3       NA accepted GBIF:1033846      Anchytarsus     genus\n",
       "3        FALSE         TRUE            TRUE      Anchytarsus       1         5       NA accepted GBIF:1033846      Anchytarsus     genus\n",
       "4        FALSE         TRUE            TRUE      Anchytarsus       1         7       NA accepted GBIF:1033846      Anchytarsus     genus\n",
       "5        FALSE         TRUE            TRUE      Anchytarsus       1         9       NA accepted GBIF:1033846      Anchytarsus     genus\n",
       "6        FALSE         TRUE            TRUE      Anchytarsus       1        11       NA accepted GBIF:1033846      Anchytarsus     genus\n",
       "7        FALSE         TRUE            TRUE      Anchytarsus       1        13       NA accepted GBIF:1033846      Anchytarsus     genus\n",
       "8        FALSE         TRUE            TRUE      Anchytarsus       1        15       NA accepted GBIF:1033846      Anchytarsus     genus\n",
       "9        FALSE         TRUE            TRUE      Anchytarsus       1        17       NA accepted GBIF:1033846      Anchytarsus     genus\n",
       "10       FALSE         TRUE            TRUE        Ancyronyx       1        19       NA accepted GBIF:1033499        Ancyronyx     genus\n",
       "11       FALSE         TRUE            TRUE        Ancyronyx       1        21       NA accepted GBIF:1033499        Ancyronyx     genus\n",
       "12       FALSE         TRUE            TRUE        Andesiops       1        23       NA accepted GBIF:4683703        Andesiops     genus\n",
       "13       FALSE         TRUE            TRUE        Andesiops       1        25       NA accepted GBIF:4683703        Andesiops     genus\n",
       "14       FALSE         TRUE            TRUE        Andesiops       1        27       NA accepted GBIF:4683703        Andesiops     genus\n",
       "15       FALSE         TRUE            TRUE        Andesiops       1        29       NA accepted GBIF:4683703        Andesiops     genus\n",
       "16       FALSE         TRUE            TRUE        Andesiops       1        31       NA accepted GBIF:4683703        Andesiops     genus\n",
       "17       FALSE         TRUE            TRUE        Andesiops       1        33       NA accepted GBIF:4683703        Andesiops     genus\n",
       "18       FALSE         TRUE            TRUE Anomalocosmoecus       1        35       NA accepted GBIF:1442062 Anomalocosmoecus     genus\n",
       "19       FALSE         TRUE            TRUE Anomalocosmoecus       1        37       NA accepted GBIF:1442062 Anomalocosmoecus     genus\n",
       "20       FALSE         TRUE            TRUE Anomalocosmoecus       1        39       NA accepted GBIF:1442062 Anomalocosmoecus     genus\n",
       "21       FALSE         TRUE            TRUE Anomalocosmoecus       1        41       NA accepted GBIF:1442062 Anomalocosmoecus     genus\n",
       "22       FALSE         TRUE            TRUE Anomalocosmoecus       1        43       NA accepted GBIF:1442062 Anomalocosmoecus     genus\n",
       "23       FALSE         TRUE            TRUE Anomalocosmoecus       1        45       NA accepted GBIF:1442062 Anomalocosmoecus     genus\n",
       "24       FALSE         TRUE            TRUE       Aphrosylus       1        47       NA accepted GBIF:1609134       Aphrosylus     genus\n",
       "25       FALSE         TRUE            TRUE       Aphrosylus       1        49       NA accepted GBIF:1609134       Aphrosylus     genus\n",
       "   taxonomicStatus  kingdom     phylum class.y         order        family.y          genus.y specificEpithet\n",
       "1         accepted Animalia Arthropoda Insecta    Coleoptera Ptilodactylidae      Anchytarsus            <NA>\n",
       "2         accepted Animalia Arthropoda Insecta    Coleoptera Ptilodactylidae      Anchytarsus            <NA>\n",
       "3         accepted Animalia Arthropoda Insecta    Coleoptera Ptilodactylidae      Anchytarsus            <NA>\n",
       "4         accepted Animalia Arthropoda Insecta    Coleoptera Ptilodactylidae      Anchytarsus            <NA>\n",
       "5         accepted Animalia Arthropoda Insecta    Coleoptera Ptilodactylidae      Anchytarsus            <NA>\n",
       "6         accepted Animalia Arthropoda Insecta    Coleoptera Ptilodactylidae      Anchytarsus            <NA>\n",
       "7         accepted Animalia Arthropoda Insecta    Coleoptera Ptilodactylidae      Anchytarsus            <NA>\n",
       "8         accepted Animalia Arthropoda Insecta    Coleoptera Ptilodactylidae      Anchytarsus            <NA>\n",
       "9         accepted Animalia Arthropoda Insecta    Coleoptera Ptilodactylidae      Anchytarsus            <NA>\n",
       "10        accepted Animalia Arthropoda Insecta    Coleoptera         Elmidae        Ancyronyx            <NA>\n",
       "11        accepted Animalia Arthropoda Insecta    Coleoptera         Elmidae        Ancyronyx            <NA>\n",
       "12        accepted Animalia Arthropoda Insecta Ephemeroptera        Baetidae        Andesiops            <NA>\n",
       "13        accepted Animalia Arthropoda Insecta Ephemeroptera        Baetidae        Andesiops            <NA>\n",
       "14        accepted Animalia Arthropoda Insecta Ephemeroptera        Baetidae        Andesiops            <NA>\n",
       "15        accepted Animalia Arthropoda Insecta Ephemeroptera        Baetidae        Andesiops            <NA>\n",
       "16        accepted Animalia Arthropoda Insecta Ephemeroptera        Baetidae        Andesiops            <NA>\n",
       "17        accepted Animalia Arthropoda Insecta Ephemeroptera        Baetidae        Andesiops            <NA>\n",
       "18        accepted Animalia Arthropoda Insecta   Trichoptera   Limnephilidae Anomalocosmoecus            <NA>\n",
       "19        accepted Animalia Arthropoda Insecta   Trichoptera   Limnephilidae Anomalocosmoecus            <NA>\n",
       "20        accepted Animalia Arthropoda Insecta   Trichoptera   Limnephilidae Anomalocosmoecus            <NA>\n",
       "21        accepted Animalia Arthropoda Insecta   Trichoptera   Limnephilidae Anomalocosmoecus            <NA>\n",
       "22        accepted Animalia Arthropoda Insecta   Trichoptera   Limnephilidae Anomalocosmoecus            <NA>\n",
       "23        accepted Animalia Arthropoda Insecta   Trichoptera   Limnephilidae Anomalocosmoecus            <NA>\n",
       "24        accepted Animalia Arthropoda Insecta       Diptera  Dolichopodidae       Aphrosylus            <NA>\n",
       "25        accepted Animalia Arthropoda Insecta       Diptera  Dolichopodidae       Aphrosylus            <NA>\n",
       " [ reached 'max' / getOption(\"max.print\") -- omitted 106793 rows ]"
      ]
     },
     "execution_count": null,
     "metadata": {},
     "output_type": "execute_result"
    }
   ],
   "source": [
    "\n",
    "database_final = database_11 %>% \n",
    "  filter(class.y == \"Insecta\")%>%\n",
    "  filter(notes %in% c(\"accepted\", \"multipleAccepted\" , \"accepted | replaceSynonym\", \n",
    "        \"accepted | wasMisspelled\", \"accepted | wasMisspelled | replaceSynonym\",\"multipleAccepted\" ,\"provisionally accepted | wasMisspelled\"\n",
    "        ,  \"provisionally accepted\"  ))%>%\n",
    "  filter(taxonRank == c(\"genus\", \"species\"))\n",
    "database_final"
   ]
  },
  {
   "cell_type": "code",
   "execution_count": 91,
   "metadata": {},
   "outputs": [
    {
     "data": {
      "text/plain": [
       "\u001b[38;5;246m# A tibble: 4 × 3\u001b[39m\n",
       "  database_name     n  prop\n",
       "  \u001b[3m\u001b[38;5;246m<chr>\u001b[39m\u001b[23m         \u001b[3m\u001b[38;5;246m<int>\u001b[39m\u001b[23m \u001b[3m\u001b[38;5;246m<dbl>\u001b[39m\u001b[23m\n",
       "\u001b[38;5;250m1\u001b[39m BNDB           \u001b[4m3\u001b[24m418  3.20\n",
       "\u001b[38;5;250m2\u001b[39m GBIF          \u001b[4m8\u001b[24m\u001b[4m3\u001b[24m260 77.9 \n",
       "\u001b[38;5;250m3\u001b[39m IDIGBIO       \u001b[4m1\u001b[24m\u001b[4m3\u001b[24m078 12.2 \n",
       "\u001b[38;5;250m4\u001b[39m PUCE           \u001b[4m7\u001b[24m062  6.61"
      ]
     },
     "execution_count": null,
     "metadata": {},
     "output_type": "execute_result"
    }
   ],
   "source": [
    "dimensio_11 = database_final%>%\n",
    "  group_by(database_name)%>%\n",
    "  count()%>%\n",
    "  ungroup()%>%\n",
    "  mutate(prop = (n/sum(n))*100)\n",
    "\n",
    "dimensio_11"
   ]
  },
  {
   "cell_type": "code",
   "execution_count": 92,
   "metadata": {},
   "outputs": [
    {
     "data": {
      "text/plain": [
       "[1] 106818"
      ]
     },
     "execution_count": null,
     "metadata": {},
     "output_type": "execute_result"
    }
   ],
   "source": [
    "sum(dimensio_11$n)"
   ]
  },
  {
   "cell_type": "markdown",
   "metadata": {},
   "source": [
    "# 4. Export results"
   ]
  },
  {
   "cell_type": "code",
   "execution_count": 93,
   "metadata": {},
   "outputs": [
    {
     "data": {
      "text/plain": [
       " [1] \"database_id\"                   \"TaxonRank\"                     \"class.x\"                       \"family.x\"                     \n",
       " [5] \"genus.x\"                       \"scientificName.x\"              \"decimalLatitude\"               \"decimalLongitude\"             \n",
       " [9] \"occurrenceID\"                  \"basisOfRecord\"                 \"verbatimEventDate\"             \"country\"                      \n",
       "[13] \"stateProvince\"                 \"locality\"                      \"identifiedBy\"                  \"coordinateUncertaintyInMeters\"\n",
       "[17] \"recordedBy\"                    \"year\"                          \"institutionCode\"               \"database_name\"                \n",
       "[21] \".coordinates_outOfRange\"       \"uncer_terms\"                   \".uncer_terms\"                  \".infraesp_names\"              \n",
       "[25] \"names_clean\"                   \"quality\"                       \"id_record\"                     \"distance\"                     \n",
       "[29] \"notes\"                         \"taxonID\"                       \"scientificName.y\"              \"taxonRank\"                    \n",
       "[33] \"taxonomicStatus\"               \"kingdom\"                       \"phylum\"                        \"class.y\"                      \n",
       "[37] \"order\"                         \"family.y\"                      \"genus.y\"                       \"specificEpithet\"              "
      ]
     },
     "execution_count": null,
     "metadata": {},
     "output_type": "execute_result"
    }
   ],
   "source": [
    "colnames(database_final)"
   ]
  },
  {
   "cell_type": "code",
   "execution_count": 94,
   "metadata": {},
   "outputs": [],
   "source": [
    "database_final_export = database_final %>%select(\"id_record\",\"database_name\" , \"database_id\",\"occurrenceID\",  \"basisOfRecord\" ,\"verbatimEventDate\",\n",
    "\"identifiedBy\" , \"recordedBy\" ,  \"year\" , \"institutionCode\" , \"taxonRank\", \"class.y\", \"order\",  \"family.y\" , \"genus.y\", \"specificEpithet\" ,\n",
    "\"scientificName.y\" ,  \"decimalLatitude\"  , \"decimalLongitude\"    \n",
    " )\n",
    "\n",
    "colnames(database_final_export) = c(\"id_record\",\"database_name\" , \"database_id\",\"occurrenceID\",  \"basisOfRecord\" ,\"verbatimEventDate\",\n",
    "\"identifiedBy\" , \"recordedBy\" ,  \"year\" , \"institutionCode\" , \"taxonRank\", \"class\", \"order\",  \"family\" , \"genus\", \"specificEpithet\" ,\n",
    "\"scientificName\" ,  \"decimalLatitude\"  , \"decimalLongitude\"\n",
    " )\n",
    "\n",
    "write.csv(database_final_export, \"Data/Records/insects_records_clean.csv\", row.names = FALSE)"
   ]
  }
 ],
 "metadata": {
  "language_info": {
   "name": "r"
  }
 },
 "nbformat": 4,
 "nbformat_minor": 2
}
